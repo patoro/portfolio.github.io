{
  "nbformat": 4,
  "nbformat_minor": 0,
  "metadata": {
    "colab": {
      "name": "TP3 - Sanchez Sañudo Patricio - V2.ipynb",
      "provenance": [],
      "collapsed_sections": [],
      "toc_visible": true
    },
    "kernelspec": {
      "name": "python3",
      "display_name": "Python 3"
    },
    "language_info": {
      "name": "python"
    }
  },
  "cells": [
    {
      "cell_type": "code",
      "source": [
        "from google.colab import drive\n",
        "import pickle\n",
        "import pandas as pd\n",
        "import numpy as np\n",
        "\n",
        "drive.mount('/content/drive', force_remount=True)\n",
        "\n",
        "filename = '/content/drive/My Drive/LaboDatos2022/TerceraEjercitacion/pokemon_imagenes.p'\n",
        "\n",
        "file = open(filename, 'rb')\n",
        "data = pickle.load(file)\n",
        "file.close()\n",
        "\n",
        "nombres= data['nombres']\n",
        "imagenes = data['imagenes']"
      ],
      "metadata": {
        "colab": {
          "base_uri": "https://localhost:8080/"
        },
        "id": "aP84rO3fDv1Y",
        "outputId": "df0fb0dd-0ef5-48bc-d30d-8287736e449b"
      },
      "execution_count": null,
      "outputs": [
        {
          "output_type": "stream",
          "name": "stdout",
          "text": [
            "Mounted at /content/drive\n"
          ]
        }
      ]
    },
    {
      "cell_type": "markdown",
      "source": [
        "# Trabajo práctico 3: forma y función en el universo Pokémon\n",
        "\n",
        "Los Pokémon son una clase de criaturas fantásticas inspiradas en animales reales, insectos, objetos, plantas o criaturas mitológicas con un sistema de evolución lamarckiano. Se originan en una serie de videojuegos iniciada en el año 1996. En estos juegos, cada personaje posee un conjunto de Pokémones, cada uno con distintas habilidades y poderes, y su objetivo es enfrentarlos a los Pokémones de distintos rivales. \n",
        "\n",
        "Entre otros atributos, los Pokémon se caracterizan por sus puntos de salud (HP), los cuales determinan su resistancia ante ataques, su poder de ataque, su poder de defensa, y su velocidad. A mayor valor de estos atributos, más poderoso el Pokémon en cuestión. Algunos pocos Pokémon seleccionados pertenecen a la categoría de \"legendarios\" y típicamente son los más poderosos de todos.\n",
        "\n",
        "El objetivo de este TP es clasificar a los Pokémon de acuerdo a su aspecto físico (forma) y luego evaluar si esta clasificación se asocia a características especiales de los Pokémon (función). ¿Son los Pokémon más grandes más poderosos? ¿Y los más pequeños, más rápidos? ¿Qué aspecto suelen tener los Pokémon legendarios?\n",
        "\n",
        "Para ello, partimos de dos fuentes de datos. El aspecto de los Pokémon está dado por sus *sprites* (matrices numéricas).\n",
        "\n",
        "Los datos están disponibles en este directorio de Drive: https://drive.google.com/drive/folders/1YwkHKpeJsnm6h5usrfQPs0qWzDHDmmO5?usp=sharing\n",
        "\n",
        "Cargamos archivos que tienen los nombres y los *sprites*:\n"
      ],
      "metadata": {
        "id": "70ZRNC4UCRKI"
      }
    },
    {
      "cell_type": "markdown",
      "source": [
        "La variable *nombres* es una lista con los nombres mientras que imagenes tiene los *sprites* correspondientes, en el mismo orden. Podemos examinarlos uno por uno:"
      ],
      "metadata": {
        "id": "dw4op1kuDgl-"
      }
    },
    {
      "cell_type": "code",
      "execution_count": null,
      "metadata": {
        "colab": {
          "base_uri": "https://localhost:8080/",
          "height": 302
        },
        "id": "KwUmaOUtB-my",
        "outputId": "30b215f3-7501-4628-d046-87c55f4c317c"
      },
      "outputs": [
        {
          "output_type": "stream",
          "name": "stdout",
          "text": [
            "espeon\n",
            "(56, 68)\n"
          ]
        },
        {
          "output_type": "display_data",
          "data": {
            "text/plain": [
              "<Figure size 432x288 with 1 Axes>"
            ],
            "image/png": "[encoded data removed]"
          },
          "metadata": {
            "needs_background": "light"
          }
        }
      ],
      "source": [
        "import matplotlib.pyplot as plt\n",
        "\n",
        "n=100# elijo el número de Pokémon que quiero visualizar\n",
        "plt.imshow(imagenes[n])\n",
        "print(nombres[n]) # nombre del Pokémon\n",
        "print(imagenes[n].shape) # tamaño del sprite (todos tienen el mismo tamaño)"
      ]
    },
    {
      "cell_type": "markdown",
      "source": [
        "Ploteo 25 pokemones al azar:"
      ],
      "metadata": {
        "id": "WgbvTyqmZawC"
      }
    },
    {
      "cell_type": "code",
      "source": [
        "# Ploteo 25 imagenes al azar del set de entrenamiento con sus respectivas clases\n",
        "fig = plt.figure(figsize = (12,12)) # seteo el tamano de la figura\n",
        "for i in range(49):\n",
        "    j = np.random.randint(0, len(imagenes)) # en cada iteracion elijo un numero random entre 0 y la longitud de X_train_raw que es 60000 (el numero de imagenes) para usar de indice\n",
        "    plt.subplot(7,7,i+1) # Voy a tener una matriz de 5x5 subplots y voy llenando en la iteracion i-esima el subplot i+1\n",
        "    plt.imshow(imagenes[j], interpolation='none', cmap=\"gray\") # plotea una imagen random, pues es la imagen j-esima del set de entrenamiento, en formato (28,28) para imagenes en escala de grises\n",
        "    plt.title(\"clase: {}\".format(nombres[j]), fontsize = 10) # pongo el titulo a los plots con el nombre de la clase a la que pertenece la imagen y seteo el tamano de letra\n",
        "    plt.xticks([]) # le saco los ticks en el eje X\n",
        "    plt.yticks([]) # le saco los ticks en el eje Y\n",
        "plt.show()"
      ],
      "metadata": {
        "colab": {
          "base_uri": "https://localhost:8080/",
          "height": 688
        },
        "id": "vc_RiUQyZfj_",
        "outputId": "92f7c93c-103d-4dfc-d51e-b48340d7525e"
      },
      "execution_count": null,
      "outputs": [
        {
          "output_type": "display_data",
          "data": {
            "text/plain": [
              "<Figure size 864x864 with 49 Axes>"
            ],
            "image/png": "[encoded data removed]"
          },
          "metadata": {}
        }
      ]
    },
    {
      "cell_type": "markdown",
      "source": [
        "Por otro lado, la información sobre los atributos de cada Pokémon (función) esta en un dataframe aparte:"
      ],
      "metadata": {
        "id": "oTc9KOHoEeuP"
      }
    },
    {
      "cell_type": "code",
      "source": [
        "filename = '/content/drive/My Drive/LaboDatos2022/TerceraEjercitacion/pokemon_dataframe.csv'\n",
        "df = pd.read_csv(filename)\n",
        "df.head()"
      ],
      "metadata": {
        "colab": {
          "base_uri": "https://localhost:8080/",
          "height": 206
        },
        "id": "NX1rtpDrEjqc",
        "outputId": "e81e92b8-b89e-423d-f2b8-a0b31291a67c"
      },
      "execution_count": null,
      "outputs": [
        {
          "output_type": "execute_result",
          "data": {
            "text/plain": [
              "   Unnamed: 0  level_0  index  #        Name Type 1  Type 2  Total  HP  \\\n",
              "0           0        0      0  1   bulbasaur  Grass  Poison    318  45   \n",
              "1           1        1      1  2     ivysaur  Grass  Poison    405  60   \n",
              "2           2        2      2  3    venusaur  Grass  Poison    525  80   \n",
              "3           3        3      4  4  charmander   Fire     NaN    309  39   \n",
              "4           4        4      5  5  charmeleon   Fire     NaN    405  58   \n",
              "\n",
              "   Attack  Defense  Sp. Atk  Sp. Def  Speed  Generation  Legendary  \n",
              "0      49       49       65       65     45           1      False  \n",
              "1      62       63       80       80     60           1      False  \n",
              "2      82       83      100      100     80           1      False  \n",
              "3      52       43       60       50     65           1      False  \n",
              "4      64       58       80       65     80           1      False  "
            ],
            "text/html": [
              "\n",
              "  <div id=\"df-53f9568a-fd4c-404c-893a-6cda2317517f\">\n",
              "    <div class=\"colab-df-container\">\n",
              "      <div>\n",
              "<style scoped>\n",
              "    .dataframe tbody tr th:only-of-type {\n",
              "        vertical-align: middle;\n",
              "    }\n",
              "\n",
              "    .dataframe tbody tr th {\n",
              "        vertical-align: top;\n",
              "    }\n",
              "\n",
              "    .dataframe thead th {\n",
              "        text-align: right;\n",
              "    }\n",
              "</style>\n",
              "<table border=\"1\" class=\"dataframe\">\n",
              "  <thead>\n",
              "    <tr style=\"text-align: right;\">\n",
              "      <th></th>\n",
              "      <th>Unnamed: 0</th>\n",
              "      <th>level_0</th>\n",
              "      <th>index</th>\n",
              "      <th>#</th>\n",
              "      <th>Name</th>\n",
              "      <th>Type 1</th>\n",
              "      <th>Type 2</th>\n",
              "      <th>Total</th>\n",
              "      <th>HP</th>\n",
              "      <th>Attack</th>\n",
              "      <th>Defense</th>\n",
              "      <th>Sp. Atk</th>\n",
              "      <th>Sp. Def</th>\n",
              "      <th>Speed</th>\n",
              "      <th>Generation</th>\n",
              "      <th>Legendary</th>\n",
              "    </tr>\n",
              "  </thead>\n",
              "  <tbody>\n",
              "    <tr>\n",
              "      <th>0</th>\n",
              "      <td>0</td>\n",
              "      <td>0</td>\n",
              "      <td>0</td>\n",
              "      <td>1</td>\n",
              "      <td>bulbasaur</td>\n",
              "      <td>Grass</td>\n",
              "      <td>Poison</td>\n",
              "      <td>318</td>\n",
              "      <td>45</td>\n",
              "      <td>49</td>\n",
              "      <td>49</td>\n",
              "      <td>65</td>\n",
              "      <td>65</td>\n",
              "      <td>45</td>\n",
              "      <td>1</td>\n",
              "      <td>False</td>\n",
              "    </tr>\n",
              "    <tr>\n",
              "      <th>1</th>\n",
              "      <td>1</td>\n",
              "      <td>1</td>\n",
              "      <td>1</td>\n",
              "      <td>2</td>\n",
              "      <td>ivysaur</td>\n",
              "      <td>Grass</td>\n",
              "      <td>Poison</td>\n",
              "      <td>405</td>\n",
              "      <td>60</td>\n",
              "      <td>62</td>\n",
              "      <td>63</td>\n",
              "      <td>80</td>\n",
              "      <td>80</td>\n",
              "      <td>60</td>\n",
              "      <td>1</td>\n",
              "      <td>False</td>\n",
              "    </tr>\n",
              "    <tr>\n",
              "      <th>2</th>\n",
              "      <td>2</td>\n",
              "      <td>2</td>\n",
              "      <td>2</td>\n",
              "      <td>3</td>\n",
              "      <td>venusaur</td>\n",
              "      <td>Grass</td>\n",
              "      <td>Poison</td>\n",
              "      <td>525</td>\n",
              "      <td>80</td>\n",
              "      <td>82</td>\n",
              "      <td>83</td>\n",
              "      <td>100</td>\n",
              "      <td>100</td>\n",
              "      <td>80</td>\n",
              "      <td>1</td>\n",
              "      <td>False</td>\n",
              "    </tr>\n",
              "    <tr>\n",
              "      <th>3</th>\n",
              "      <td>3</td>\n",
              "      <td>3</td>\n",
              "      <td>4</td>\n",
              "      <td>4</td>\n",
              "      <td>charmander</td>\n",
              "      <td>Fire</td>\n",
              "      <td>NaN</td>\n",
              "      <td>309</td>\n",
              "      <td>39</td>\n",
              "      <td>52</td>\n",
              "      <td>43</td>\n",
              "      <td>60</td>\n",
              "      <td>50</td>\n",
              "      <td>65</td>\n",
              "      <td>1</td>\n",
              "      <td>False</td>\n",
              "    </tr>\n",
              "    <tr>\n",
              "      <th>4</th>\n",
              "      <td>4</td>\n",
              "      <td>4</td>\n",
              "      <td>5</td>\n",
              "      <td>5</td>\n",
              "      <td>charmeleon</td>\n",
              "      <td>Fire</td>\n",
              "      <td>NaN</td>\n",
              "      <td>405</td>\n",
              "      <td>58</td>\n",
              "      <td>64</td>\n",
              "      <td>58</td>\n",
              "      <td>80</td>\n",
              "      <td>65</td>\n",
              "      <td>80</td>\n",
              "      <td>1</td>\n",
              "      <td>False</td>\n",
              "    </tr>\n",
              "  </tbody>\n",
              "</table>\n",
              "</div>\n",
              "      <button class=\"colab-df-convert\" onclick=\"convertToInteractive('df-53f9568a-fd4c-404c-893a-6cda2317517f')\"\n",
              "              title=\"Convert this dataframe to an interactive table.\"\n",
              "              style=\"display:none;\">\n",
              "        \n",
              "  <svg xmlns=\"http://www.w3.org/2000/svg\" height=\"24px\"viewBox=\"0 0 24 24\"\n",
              "       width=\"24px\">\n",
              "    <path d=\"M0 0h24v24H0V0z\" fill=\"none\"/>\n",
              "    <path d=\"M18.56 5.44l.94 2.06.94-2.06 2.06-.94-2.06-.94-.94-2.06-.94 2.06-2.06.94zm-11 1L8.5 8.5l.94-2.06 2.06-.94-2.06-.94L8.5 2.5l-.94 2.06-2.06.94zm10 10l.94 2.06.94-2.06 2.06-.94-2.06-.94-.94-2.06-.94 2.06-2.06.94z\"/><path d=\"M17.41 7.96l-1.37-1.37c-.4-.4-.92-.59-1.43-.59-.52 0-1.04.2-1.43.59L10.3 9.45l-7.72 7.72c-.78.78-.78 2.05 0 2.83L4 21.41c.39.39.9.59 1.41.59.51 0 1.02-.2 1.41-.59l7.78-7.78 2.81-2.81c.8-.78.8-2.07 0-2.86zM5.41 20L4 18.59l7.72-7.72 1.47 1.35L5.41 20z\"/>\n",
              "  </svg>\n",
              "      </button>\n",
              "      \n",
              "  <style>\n",
              "    .colab-df-container {\n",
              "      display:flex;\n",
              "      flex-wrap:wrap;\n",
              "      gap: 12px;\n",
              "    }\n",
              "\n",
              "    .colab-df-convert {\n",
              "      background-color: #E8F0FE;\n",
              "      border: none;\n",
              "      border-radius: 50%;\n",
              "      cursor: pointer;\n",
              "      display: none;\n",
              "      fill: #1967D2;\n",
              "      height: 32px;\n",
              "      padding: 0 0 0 0;\n",
              "      width: 32px;\n",
              "    }\n",
              "\n",
              "    .colab-df-convert:hover {\n",
              "      background-color: #E2EBFA;\n",
              "      box-shadow: 0px 1px 2px rgba(60, 64, 67, 0.3), 0px 1px 3px 1px rgba(60, 64, 67, 0.15);\n",
              "      fill: #174EA6;\n",
              "    }\n",
              "\n",
              "    [theme=dark] .colab-df-convert {\n",
              "      background-color: #3B4455;\n",
              "      fill: #D2E3FC;\n",
              "    }\n",
              "\n",
              "    [theme=dark] .colab-df-convert:hover {\n",
              "      background-color: #434B5C;\n",
              "      box-shadow: 0px 1px 3px 1px rgba(0, 0, 0, 0.15);\n",
              "      filter: drop-shadow(0px 1px 2px rgba(0, 0, 0, 0.3));\n",
              "      fill: #FFFFFF;\n",
              "    }\n",
              "  </style>\n",
              "\n",
              "      <script>\n",
              "        const buttonEl =\n",
              "          document.querySelector('#df-53f9568a-fd4c-404c-893a-6cda2317517f button.colab-df-convert');\n",
              "        buttonEl.style.display =\n",
              "          google.colab.kernel.accessAllowed ? 'block' : 'none';\n",
              "\n",
              "        async function convertToInteractive(key) {\n",
              "          const element = document.querySelector('#df-53f9568a-fd4c-404c-893a-6cda2317517f');\n",
              "          const dataTable =\n",
              "            await google.colab.kernel.invokeFunction('convertToInteractive',\n",
              "                                                     [key], {});\n",
              "          if (!dataTable) return;\n",
              "\n",
              "          const docLinkHtml = 'Like what you see? Visit the ' +\n",
              "            '<a target=\"_blank\" href=https://colab.research.google.com/notebooks/data_table.ipynb>data table notebook</a>'\n",
              "            + ' to learn more about interactive tables.';\n",
              "          element.innerHTML = '';\n",
              "          dataTable['output_type'] = 'display_data';\n",
              "          await google.colab.output.renderOutput(dataTable, element);\n",
              "          const docLink = document.createElement('div');\n",
              "          docLink.innerHTML = docLinkHtml;\n",
              "          element.appendChild(docLink);\n",
              "        }\n",
              "      </script>\n",
              "    </div>\n",
              "  </div>\n",
              "  "
            ]
          },
          "metadata": {},
          "execution_count": 183
        }
      ]
    },
    {
      "cell_type": "markdown",
      "source": [
        "Para poder trabajar con algoritmos de reducción de la dimensión y clustering, primero tenemos que representar los datos de sprites como una matriz, para eso tenemos que \"desenrollarlos\" como vimos en clase:"
      ],
      "metadata": {
        "id": "YWquiKHZEorh"
      }
    },
    {
      "cell_type": "code",
      "source": [
        "data = np.zeros((len(nombres),56*68))\n",
        "\n",
        "for n,img in enumerate(imagenes):\n",
        "  img.resize(56*68)\n",
        "  data[n,:] = img\n"
      ],
      "metadata": {
        "id": "T1gUHucbEy7f"
      },
      "execution_count": null,
      "outputs": []
    },
    {
      "cell_type": "code",
      "source": [
        "imagenes[0].shape"
      ],
      "metadata": {
        "colab": {
          "base_uri": "https://localhost:8080/"
        },
        "id": "v-wee8svUGXH",
        "outputId": "221b1053-342d-4e4c-aa97-2740434145b2"
      },
      "execution_count": null,
      "outputs": [
        {
          "output_type": "execute_result",
          "data": {
            "text/plain": [
              "(3808,)"
            ]
          },
          "metadata": {},
          "execution_count": 185
        }
      ]
    },
    {
      "cell_type": "code",
      "source": [
        "data"
      ],
      "metadata": {
        "colab": {
          "base_uri": "https://localhost:8080/"
        },
        "id": "uDbK5MGIT6Fo",
        "outputId": "bbde7367-93d6-4799-8729-d3ebe4f7683b"
      },
      "execution_count": null,
      "outputs": [
        {
          "output_type": "execute_result",
          "data": {
            "text/plain": [
              "array([[0., 0., 0., ..., 0., 0., 0.],\n",
              "       [0., 0., 0., ..., 0., 0., 0.],\n",
              "       [0., 0., 0., ..., 0., 0., 0.],\n",
              "       ...,\n",
              "       [0., 0., 0., ..., 0., 0., 0.],\n",
              "       [0., 0., 0., ..., 0., 0., 0.],\n",
              "       [0., 0., 0., ..., 0., 0., 0.]])"
            ]
          },
          "metadata": {},
          "execution_count": 186
        }
      ]
    },
    {
      "cell_type": "markdown",
      "source": [
        "Los enunciados del TP 3 son los siguientes:\n",
        "\n",
        "1.   Usar el criterio de la Silueta para verificar que hay un máximo local cerca de k=8 clusters. Aplicar el algoritmo kmeans con k=8 clusters sobre los datos de *sprites* (matriz *data*).\n",
        "2.   Visualizar las primeras dos componentes de la matriz de *sprites*, pintando con un color distinto los datos que pertenezcan a cada cluster, e indicando con cruces la posición de los centroides (ayuda: el código para hacer esto se encuentra en el notebook de clustering que vimos en clase).\n",
        "3.   Visualizar los primeros 10 elementos de cada cluster. \n",
        "4.   En un mismo gráfico de barras, mostrar el valor promedio de los atributos *HP*, *Attack*, *Defense* y *Speed* de cada cluster. ¿Cuál es el cluster de Pokémones más fuertes?\n",
        "5.   Hacer lo mismo que en el ítem anterior, pero con el tamaño promedio de los Pokémones por cluster (el tamaño se define como la cantidad de entradas no vacías en la fila correspondiente al *sprite* de ese Pokémon en la matriz data). ¿Son los Pokémones más grandes los más fuertes?\n",
        "6.   Hacer gráficos de torta con la proporción de Pokémones legendarios/no legendarios por cluster. ¿Tiene el cluster de Pokémones más fuertes más legendarios que los otros? \n",
        "\n",
        "**Optativo**\n",
        "\n",
        "7.   Entrenar, evaluar y determinar la performance de un modelo de aprendizaje supervisado para predecir alguna característica de los Pokémones en base a sus *sprites*. Puede ser, por ejemplo, un modelo de regresión (predecir *HP*, *Attack*, *Defense*, *Speed*), un modelo de clasificación binaria (legendario o no legendario), o un modelo de clasificación multiclase (tipo del Pokémon: tierra, hielo, agua, fuego, etc).\n"
      ],
      "metadata": {
        "id": "fkvY667DE3eA"
      }
    },
    {
      "cell_type": "markdown",
      "source": [
        "## Limpieza de datos y Ordinal Encoding \n",
        "Esto lo voy a usar en el ítem 7"
      ],
      "metadata": {
        "id": "R-FG1SoKVU4x"
      }
    },
    {
      "cell_type": "markdown",
      "source": [
        "Borro las primeras 3 columnas:"
      ],
      "metadata": {
        "id": "mAvHl-ArVrIM"
      }
    },
    {
      "cell_type": "code",
      "source": [
        "df.pop('Unnamed: 0')\n",
        "df.pop('level_0')\n",
        "df.pop('index')"
      ],
      "metadata": {
        "colab": {
          "base_uri": "https://localhost:8080/"
        },
        "id": "fz2OzGNpVuiM",
        "outputId": "6f806fa1-cce6-491f-bbea-074d5f0b226d"
      },
      "execution_count": null,
      "outputs": [
        {
          "output_type": "execute_result",
          "data": {
            "text/plain": [
              "0        0\n",
              "1        1\n",
              "2        2\n",
              "3        4\n",
              "4        5\n",
              "      ... \n",
              "693    791\n",
              "694    792\n",
              "695    793\n",
              "696    795\n",
              "697    799\n",
              "Name: index, Length: 698, dtype: int64"
            ]
          },
          "metadata": {},
          "execution_count": 187
        }
      ]
    },
    {
      "cell_type": "code",
      "source": [
        "df['Legendary']=df['Legendary'].replace(False,0)\n",
        "df['Legendary']=df['Legendary'].replace(True,1)"
      ],
      "metadata": {
        "id": "BL8mp8wDWofh"
      },
      "execution_count": null,
      "outputs": []
    },
    {
      "cell_type": "code",
      "source": [
        "df=df.set_index('#')"
      ],
      "metadata": {
        "id": "7xt1VGYAXyLK"
      },
      "execution_count": null,
      "outputs": []
    },
    {
      "cell_type": "code",
      "source": [
        "df_poke=df\n",
        "df_poke"
      ],
      "metadata": {
        "colab": {
          "base_uri": "https://localhost:8080/",
          "height": 455
        },
        "id": "EZDR5HDzX8Va",
        "outputId": "beeec13a-2c4a-4781-c174-e6ef04a47452"
      },
      "execution_count": null,
      "outputs": [
        {
          "output_type": "execute_result",
          "data": {
            "text/plain": [
              "           Name  Type 1  Type 2  Total   HP  Attack  Defense  Sp. Atk  \\\n",
              "#                                                                       \n",
              "1     bulbasaur   Grass  Poison    318   45      49       49       65   \n",
              "2       ivysaur   Grass  Poison    405   60      62       63       80   \n",
              "3      venusaur   Grass  Poison    525   80      82       83      100   \n",
              "4    charmander    Fire     NaN    309   39      52       43       60   \n",
              "5    charmeleon    Fire     NaN    405   58      64       58       80   \n",
              "..          ...     ...     ...    ...  ...     ...      ...      ...   \n",
              "715     noivern  Flying  Dragon    535   85      70       80       97   \n",
              "716     xerneas   Fairy     NaN    680  126     131       95      131   \n",
              "717     yveltal    Dark  Flying    680  126     131       95      131   \n",
              "719     diancie    Rock   Fairy    600   50     100      150      100   \n",
              "721   volcanion    Fire   Water    600   80     110      120      130   \n",
              "\n",
              "     Sp. Def  Speed  Generation  Legendary  \n",
              "#                                           \n",
              "1         65     45           1          0  \n",
              "2         80     60           1          0  \n",
              "3        100     80           1          0  \n",
              "4         50     65           1          0  \n",
              "5         65     80           1          0  \n",
              "..       ...    ...         ...        ...  \n",
              "715       80    123           6          0  \n",
              "716       98     99           6          1  \n",
              "717       98     99           6          1  \n",
              "719      150     50           6          1  \n",
              "721       90     70           6          1  \n",
              "\n",
              "[698 rows x 12 columns]"
            ],
            "text/html": [
              "\n",
              "  <div id=\"df-1534ea7e-152c-4da9-9e32-8b108bfb6098\">\n",
              "    <div class=\"colab-df-container\">\n",
              "      <div>\n",
              "<style scoped>\n",
              "    .dataframe tbody tr th:only-of-type {\n",
              "        vertical-align: middle;\n",
              "    }\n",
              "\n",
              "    .dataframe tbody tr th {\n",
              "        vertical-align: top;\n",
              "    }\n",
              "\n",
              "    .dataframe thead th {\n",
              "        text-align: right;\n",
              "    }\n",
              "</style>\n",
              "<table border=\"1\" class=\"dataframe\">\n",
              "  <thead>\n",
              "    <tr style=\"text-align: right;\">\n",
              "      <th></th>\n",
              "      <th>Name</th>\n",
              "      <th>Type 1</th>\n",
              "      <th>Type 2</th>\n",
              "      <th>Total</th>\n",
              "      <th>HP</th>\n",
              "      <th>Attack</th>\n",
              "      <th>Defense</th>\n",
              "      <th>Sp. Atk</th>\n",
              "      <th>Sp. Def</th>\n",
              "      <th>Speed</th>\n",
              "      <th>Generation</th>\n",
              "      <th>Legendary</th>\n",
              "    </tr>\n",
              "    <tr>\n",
              "      <th>#</th>\n",
              "      <th></th>\n",
              "      <th></th>\n",
              "      <th></th>\n",
              "      <th></th>\n",
              "      <th></th>\n",
              "      <th></th>\n",
              "      <th></th>\n",
              "      <th></th>\n",
              "      <th></th>\n",
              "      <th></th>\n",
              "      <th></th>\n",
              "      <th></th>\n",
              "    </tr>\n",
              "  </thead>\n",
              "  <tbody>\n",
              "    <tr>\n",
              "      <th>1</th>\n",
              "      <td>bulbasaur</td>\n",
              "      <td>Grass</td>\n",
              "      <td>Poison</td>\n",
              "      <td>318</td>\n",
              "      <td>45</td>\n",
              "      <td>49</td>\n",
              "      <td>49</td>\n",
              "      <td>65</td>\n",
              "      <td>65</td>\n",
              "      <td>45</td>\n",
              "      <td>1</td>\n",
              "      <td>0</td>\n",
              "    </tr>\n",
              "    <tr>\n",
              "      <th>2</th>\n",
              "      <td>ivysaur</td>\n",
              "      <td>Grass</td>\n",
              "      <td>Poison</td>\n",
              "      <td>405</td>\n",
              "      <td>60</td>\n",
              "      <td>62</td>\n",
              "      <td>63</td>\n",
              "      <td>80</td>\n",
              "      <td>80</td>\n",
              "      <td>60</td>\n",
              "      <td>1</td>\n",
              "      <td>0</td>\n",
              "    </tr>\n",
              "    <tr>\n",
              "      <th>3</th>\n",
              "      <td>venusaur</td>\n",
              "      <td>Grass</td>\n",
              "      <td>Poison</td>\n",
              "      <td>525</td>\n",
              "      <td>80</td>\n",
              "      <td>82</td>\n",
              "      <td>83</td>\n",
              "      <td>100</td>\n",
              "      <td>100</td>\n",
              "      <td>80</td>\n",
              "      <td>1</td>\n",
              "      <td>0</td>\n",
              "    </tr>\n",
              "    <tr>\n",
              "      <th>4</th>\n",
              "      <td>charmander</td>\n",
              "      <td>Fire</td>\n",
              "      <td>NaN</td>\n",
              "      <td>309</td>\n",
              "      <td>39</td>\n",
              "      <td>52</td>\n",
              "      <td>43</td>\n",
              "      <td>60</td>\n",
              "      <td>50</td>\n",
              "      <td>65</td>\n",
              "      <td>1</td>\n",
              "      <td>0</td>\n",
              "    </tr>\n",
              "    <tr>\n",
              "      <th>5</th>\n",
              "      <td>charmeleon</td>\n",
              "      <td>Fire</td>\n",
              "      <td>NaN</td>\n",
              "      <td>405</td>\n",
              "      <td>58</td>\n",
              "      <td>64</td>\n",
              "      <td>58</td>\n",
              "      <td>80</td>\n",
              "      <td>65</td>\n",
              "      <td>80</td>\n",
              "      <td>1</td>\n",
              "      <td>0</td>\n",
              "    </tr>\n",
              "    <tr>\n",
              "      <th>...</th>\n",
              "      <td>...</td>\n",
              "      <td>...</td>\n",
              "      <td>...</td>\n",
              "      <td>...</td>\n",
              "      <td>...</td>\n",
              "      <td>...</td>\n",
              "      <td>...</td>\n",
              "      <td>...</td>\n",
              "      <td>...</td>\n",
              "      <td>...</td>\n",
              "      <td>...</td>\n",
              "      <td>...</td>\n",
              "    </tr>\n",
              "    <tr>\n",
              "      <th>715</th>\n",
              "      <td>noivern</td>\n",
              "      <td>Flying</td>\n",
              "      <td>Dragon</td>\n",
              "      <td>535</td>\n",
              "      <td>85</td>\n",
              "      <td>70</td>\n",
              "      <td>80</td>\n",
              "      <td>97</td>\n",
              "      <td>80</td>\n",
              "      <td>123</td>\n",
              "      <td>6</td>\n",
              "      <td>0</td>\n",
              "    </tr>\n",
              "    <tr>\n",
              "      <th>716</th>\n",
              "      <td>xerneas</td>\n",
              "      <td>Fairy</td>\n",
              "      <td>NaN</td>\n",
              "      <td>680</td>\n",
              "      <td>126</td>\n",
              "      <td>131</td>\n",
              "      <td>95</td>\n",
              "      <td>131</td>\n",
              "      <td>98</td>\n",
              "      <td>99</td>\n",
              "      <td>6</td>\n",
              "      <td>1</td>\n",
              "    </tr>\n",
              "    <tr>\n",
              "      <th>717</th>\n",
              "      <td>yveltal</td>\n",
              "      <td>Dark</td>\n",
              "      <td>Flying</td>\n",
              "      <td>680</td>\n",
              "      <td>126</td>\n",
              "      <td>131</td>\n",
              "      <td>95</td>\n",
              "      <td>131</td>\n",
              "      <td>98</td>\n",
              "      <td>99</td>\n",
              "      <td>6</td>\n",
              "      <td>1</td>\n",
              "    </tr>\n",
              "    <tr>\n",
              "      <th>719</th>\n",
              "      <td>diancie</td>\n",
              "      <td>Rock</td>\n",
              "      <td>Fairy</td>\n",
              "      <td>600</td>\n",
              "      <td>50</td>\n",
              "      <td>100</td>\n",
              "      <td>150</td>\n",
              "      <td>100</td>\n",
              "      <td>150</td>\n",
              "      <td>50</td>\n",
              "      <td>6</td>\n",
              "      <td>1</td>\n",
              "    </tr>\n",
              "    <tr>\n",
              "      <th>721</th>\n",
              "      <td>volcanion</td>\n",
              "      <td>Fire</td>\n",
              "      <td>Water</td>\n",
              "      <td>600</td>\n",
              "      <td>80</td>\n",
              "      <td>110</td>\n",
              "      <td>120</td>\n",
              "      <td>130</td>\n",
              "      <td>90</td>\n",
              "      <td>70</td>\n",
              "      <td>6</td>\n",
              "      <td>1</td>\n",
              "    </tr>\n",
              "  </tbody>\n",
              "</table>\n",
              "<p>698 rows × 12 columns</p>\n",
              "</div>\n",
              "      <button class=\"colab-df-convert\" onclick=\"convertToInteractive('df-1534ea7e-152c-4da9-9e32-8b108bfb6098')\"\n",
              "              title=\"Convert this dataframe to an interactive table.\"\n",
              "              style=\"display:none;\">\n",
              "        \n",
              "  <svg xmlns=\"http://www.w3.org/2000/svg\" height=\"24px\"viewBox=\"0 0 24 24\"\n",
              "       width=\"24px\">\n",
              "    <path d=\"M0 0h24v24H0V0z\" fill=\"none\"/>\n",
              "    <path d=\"M18.56 5.44l.94 2.06.94-2.06 2.06-.94-2.06-.94-.94-2.06-.94 2.06-2.06.94zm-11 1L8.5 8.5l.94-2.06 2.06-.94-2.06-.94L8.5 2.5l-.94 2.06-2.06.94zm10 10l.94 2.06.94-2.06 2.06-.94-2.06-.94-.94-2.06-.94 2.06-2.06.94z\"/><path d=\"M17.41 7.96l-1.37-1.37c-.4-.4-.92-.59-1.43-.59-.52 0-1.04.2-1.43.59L10.3 9.45l-7.72 7.72c-.78.78-.78 2.05 0 2.83L4 21.41c.39.39.9.59 1.41.59.51 0 1.02-.2 1.41-.59l7.78-7.78 2.81-2.81c.8-.78.8-2.07 0-2.86zM5.41 20L4 18.59l7.72-7.72 1.47 1.35L5.41 20z\"/>\n",
              "  </svg>\n",
              "      </button>\n",
              "      \n",
              "  <style>\n",
              "    .colab-df-container {\n",
              "      display:flex;\n",
              "      flex-wrap:wrap;\n",
              "      gap: 12px;\n",
              "    }\n",
              "\n",
              "    .colab-df-convert {\n",
              "      background-color: #E8F0FE;\n",
              "      border: none;\n",
              "      border-radius: 50%;\n",
              "      cursor: pointer;\n",
              "      display: none;\n",
              "      fill: #1967D2;\n",
              "      height: 32px;\n",
              "      padding: 0 0 0 0;\n",
              "      width: 32px;\n",
              "    }\n",
              "\n",
              "    .colab-df-convert:hover {\n",
              "      background-color: #E2EBFA;\n",
              "      box-shadow: 0px 1px 2px rgba(60, 64, 67, 0.3), 0px 1px 3px 1px rgba(60, 64, 67, 0.15);\n",
              "      fill: #174EA6;\n",
              "    }\n",
              "\n",
              "    [theme=dark] .colab-df-convert {\n",
              "      background-color: #3B4455;\n",
              "      fill: #D2E3FC;\n",
              "    }\n",
              "\n",
              "    [theme=dark] .colab-df-convert:hover {\n",
              "      background-color: #434B5C;\n",
              "      box-shadow: 0px 1px 3px 1px rgba(0, 0, 0, 0.15);\n",
              "      filter: drop-shadow(0px 1px 2px rgba(0, 0, 0, 0.3));\n",
              "      fill: #FFFFFF;\n",
              "    }\n",
              "  </style>\n",
              "\n",
              "      <script>\n",
              "        const buttonEl =\n",
              "          document.querySelector('#df-1534ea7e-152c-4da9-9e32-8b108bfb6098 button.colab-df-convert');\n",
              "        buttonEl.style.display =\n",
              "          google.colab.kernel.accessAllowed ? 'block' : 'none';\n",
              "\n",
              "        async function convertToInteractive(key) {\n",
              "          const element = document.querySelector('#df-1534ea7e-152c-4da9-9e32-8b108bfb6098');\n",
              "          const dataTable =\n",
              "            await google.colab.kernel.invokeFunction('convertToInteractive',\n",
              "                                                     [key], {});\n",
              "          if (!dataTable) return;\n",
              "\n",
              "          const docLinkHtml = 'Like what you see? Visit the ' +\n",
              "            '<a target=\"_blank\" href=https://colab.research.google.com/notebooks/data_table.ipynb>data table notebook</a>'\n",
              "            + ' to learn more about interactive tables.';\n",
              "          element.innerHTML = '';\n",
              "          dataTable['output_type'] = 'display_data';\n",
              "          await google.colab.output.renderOutput(dataTable, element);\n",
              "          const docLink = document.createElement('div');\n",
              "          docLink.innerHTML = docLinkHtml;\n",
              "          element.appendChild(docLink);\n",
              "        }\n",
              "      </script>\n",
              "    </div>\n",
              "  </div>\n",
              "  "
            ]
          },
          "metadata": {},
          "execution_count": 190
        }
      ]
    },
    {
      "cell_type": "code",
      "source": [
        "df.head()"
      ],
      "metadata": {
        "colab": {
          "base_uri": "https://localhost:8080/",
          "height": 238
        },
        "id": "XaalTDUAXG-q",
        "outputId": "c2c59a34-a826-4ab9-d9f6-85229967392b"
      },
      "execution_count": null,
      "outputs": [
        {
          "output_type": "execute_result",
          "data": {
            "text/plain": [
              "         Name Type 1  Type 2  Total  HP  Attack  Defense  Sp. Atk  Sp. Def  \\\n",
              "#                                                                            \n",
              "1   bulbasaur  Grass  Poison    318  45      49       49       65       65   \n",
              "2     ivysaur  Grass  Poison    405  60      62       63       80       80   \n",
              "3    venusaur  Grass  Poison    525  80      82       83      100      100   \n",
              "4  charmander   Fire     NaN    309  39      52       43       60       50   \n",
              "5  charmeleon   Fire     NaN    405  58      64       58       80       65   \n",
              "\n",
              "   Speed  Generation  Legendary  \n",
              "#                                \n",
              "1     45           1          0  \n",
              "2     60           1          0  \n",
              "3     80           1          0  \n",
              "4     65           1          0  \n",
              "5     80           1          0  "
            ],
            "text/html": [
              "\n",
              "  <div id=\"df-6d367b59-e2fc-45a5-8a67-b6fa0a3bf6c8\">\n",
              "    <div class=\"colab-df-container\">\n",
              "      <div>\n",
              "<style scoped>\n",
              "    .dataframe tbody tr th:only-of-type {\n",
              "        vertical-align: middle;\n",
              "    }\n",
              "\n",
              "    .dataframe tbody tr th {\n",
              "        vertical-align: top;\n",
              "    }\n",
              "\n",
              "    .dataframe thead th {\n",
              "        text-align: right;\n",
              "    }\n",
              "</style>\n",
              "<table border=\"1\" class=\"dataframe\">\n",
              "  <thead>\n",
              "    <tr style=\"text-align: right;\">\n",
              "      <th></th>\n",
              "      <th>Name</th>\n",
              "      <th>Type 1</th>\n",
              "      <th>Type 2</th>\n",
              "      <th>Total</th>\n",
              "      <th>HP</th>\n",
              "      <th>Attack</th>\n",
              "      <th>Defense</th>\n",
              "      <th>Sp. Atk</th>\n",
              "      <th>Sp. Def</th>\n",
              "      <th>Speed</th>\n",
              "      <th>Generation</th>\n",
              "      <th>Legendary</th>\n",
              "    </tr>\n",
              "    <tr>\n",
              "      <th>#</th>\n",
              "      <th></th>\n",
              "      <th></th>\n",
              "      <th></th>\n",
              "      <th></th>\n",
              "      <th></th>\n",
              "      <th></th>\n",
              "      <th></th>\n",
              "      <th></th>\n",
              "      <th></th>\n",
              "      <th></th>\n",
              "      <th></th>\n",
              "      <th></th>\n",
              "    </tr>\n",
              "  </thead>\n",
              "  <tbody>\n",
              "    <tr>\n",
              "      <th>1</th>\n",
              "      <td>bulbasaur</td>\n",
              "      <td>Grass</td>\n",
              "      <td>Poison</td>\n",
              "      <td>318</td>\n",
              "      <td>45</td>\n",
              "      <td>49</td>\n",
              "      <td>49</td>\n",
              "      <td>65</td>\n",
              "      <td>65</td>\n",
              "      <td>45</td>\n",
              "      <td>1</td>\n",
              "      <td>0</td>\n",
              "    </tr>\n",
              "    <tr>\n",
              "      <th>2</th>\n",
              "      <td>ivysaur</td>\n",
              "      <td>Grass</td>\n",
              "      <td>Poison</td>\n",
              "      <td>405</td>\n",
              "      <td>60</td>\n",
              "      <td>62</td>\n",
              "      <td>63</td>\n",
              "      <td>80</td>\n",
              "      <td>80</td>\n",
              "      <td>60</td>\n",
              "      <td>1</td>\n",
              "      <td>0</td>\n",
              "    </tr>\n",
              "    <tr>\n",
              "      <th>3</th>\n",
              "      <td>venusaur</td>\n",
              "      <td>Grass</td>\n",
              "      <td>Poison</td>\n",
              "      <td>525</td>\n",
              "      <td>80</td>\n",
              "      <td>82</td>\n",
              "      <td>83</td>\n",
              "      <td>100</td>\n",
              "      <td>100</td>\n",
              "      <td>80</td>\n",
              "      <td>1</td>\n",
              "      <td>0</td>\n",
              "    </tr>\n",
              "    <tr>\n",
              "      <th>4</th>\n",
              "      <td>charmander</td>\n",
              "      <td>Fire</td>\n",
              "      <td>NaN</td>\n",
              "      <td>309</td>\n",
              "      <td>39</td>\n",
              "      <td>52</td>\n",
              "      <td>43</td>\n",
              "      <td>60</td>\n",
              "      <td>50</td>\n",
              "      <td>65</td>\n",
              "      <td>1</td>\n",
              "      <td>0</td>\n",
              "    </tr>\n",
              "    <tr>\n",
              "      <th>5</th>\n",
              "      <td>charmeleon</td>\n",
              "      <td>Fire</td>\n",
              "      <td>NaN</td>\n",
              "      <td>405</td>\n",
              "      <td>58</td>\n",
              "      <td>64</td>\n",
              "      <td>58</td>\n",
              "      <td>80</td>\n",
              "      <td>65</td>\n",
              "      <td>80</td>\n",
              "      <td>1</td>\n",
              "      <td>0</td>\n",
              "    </tr>\n",
              "  </tbody>\n",
              "</table>\n",
              "</div>\n",
              "      <button class=\"colab-df-convert\" onclick=\"convertToInteractive('df-6d367b59-e2fc-45a5-8a67-b6fa0a3bf6c8')\"\n",
              "              title=\"Convert this dataframe to an interactive table.\"\n",
              "              style=\"display:none;\">\n",
              "        \n",
              "  <svg xmlns=\"http://www.w3.org/2000/svg\" height=\"24px\"viewBox=\"0 0 24 24\"\n",
              "       width=\"24px\">\n",
              "    <path d=\"M0 0h24v24H0V0z\" fill=\"none\"/>\n",
              "    <path d=\"M18.56 5.44l.94 2.06.94-2.06 2.06-.94-2.06-.94-.94-2.06-.94 2.06-2.06.94zm-11 1L8.5 8.5l.94-2.06 2.06-.94-2.06-.94L8.5 2.5l-.94 2.06-2.06.94zm10 10l.94 2.06.94-2.06 2.06-.94-2.06-.94-.94-2.06-.94 2.06-2.06.94z\"/><path d=\"M17.41 7.96l-1.37-1.37c-.4-.4-.92-.59-1.43-.59-.52 0-1.04.2-1.43.59L10.3 9.45l-7.72 7.72c-.78.78-.78 2.05 0 2.83L4 21.41c.39.39.9.59 1.41.59.51 0 1.02-.2 1.41-.59l7.78-7.78 2.81-2.81c.8-.78.8-2.07 0-2.86zM5.41 20L4 18.59l7.72-7.72 1.47 1.35L5.41 20z\"/>\n",
              "  </svg>\n",
              "      </button>\n",
              "      \n",
              "  <style>\n",
              "    .colab-df-container {\n",
              "      display:flex;\n",
              "      flex-wrap:wrap;\n",
              "      gap: 12px;\n",
              "    }\n",
              "\n",
              "    .colab-df-convert {\n",
              "      background-color: #E8F0FE;\n",
              "      border: none;\n",
              "      border-radius: 50%;\n",
              "      cursor: pointer;\n",
              "      display: none;\n",
              "      fill: #1967D2;\n",
              "      height: 32px;\n",
              "      padding: 0 0 0 0;\n",
              "      width: 32px;\n",
              "    }\n",
              "\n",
              "    .colab-df-convert:hover {\n",
              "      background-color: #E2EBFA;\n",
              "      box-shadow: 0px 1px 2px rgba(60, 64, 67, 0.3), 0px 1px 3px 1px rgba(60, 64, 67, 0.15);\n",
              "      fill: #174EA6;\n",
              "    }\n",
              "\n",
              "    [theme=dark] .colab-df-convert {\n",
              "      background-color: #3B4455;\n",
              "      fill: #D2E3FC;\n",
              "    }\n",
              "\n",
              "    [theme=dark] .colab-df-convert:hover {\n",
              "      background-color: #434B5C;\n",
              "      box-shadow: 0px 1px 3px 1px rgba(0, 0, 0, 0.15);\n",
              "      filter: drop-shadow(0px 1px 2px rgba(0, 0, 0, 0.3));\n",
              "      fill: #FFFFFF;\n",
              "    }\n",
              "  </style>\n",
              "\n",
              "      <script>\n",
              "        const buttonEl =\n",
              "          document.querySelector('#df-6d367b59-e2fc-45a5-8a67-b6fa0a3bf6c8 button.colab-df-convert');\n",
              "        buttonEl.style.display =\n",
              "          google.colab.kernel.accessAllowed ? 'block' : 'none';\n",
              "\n",
              "        async function convertToInteractive(key) {\n",
              "          const element = document.querySelector('#df-6d367b59-e2fc-45a5-8a67-b6fa0a3bf6c8');\n",
              "          const dataTable =\n",
              "            await google.colab.kernel.invokeFunction('convertToInteractive',\n",
              "                                                     [key], {});\n",
              "          if (!dataTable) return;\n",
              "\n",
              "          const docLinkHtml = 'Like what you see? Visit the ' +\n",
              "            '<a target=\"_blank\" href=https://colab.research.google.com/notebooks/data_table.ipynb>data table notebook</a>'\n",
              "            + ' to learn more about interactive tables.';\n",
              "          element.innerHTML = '';\n",
              "          dataTable['output_type'] = 'display_data';\n",
              "          await google.colab.output.renderOutput(dataTable, element);\n",
              "          const docLink = document.createElement('div');\n",
              "          docLink.innerHTML = docLinkHtml;\n",
              "          element.appendChild(docLink);\n",
              "        }\n",
              "      </script>\n",
              "    </div>\n",
              "  </div>\n",
              "  "
            ]
          },
          "metadata": {},
          "execution_count": 191
        }
      ]
    },
    {
      "cell_type": "code",
      "source": [
        "df['Type 1'].unique()"
      ],
      "metadata": {
        "colab": {
          "base_uri": "https://localhost:8080/"
        },
        "id": "mOTdNKU8YxAV",
        "outputId": "d18fc928-5b6b-4b26-c4bb-c8eedf964b91"
      },
      "execution_count": null,
      "outputs": [
        {
          "output_type": "execute_result",
          "data": {
            "text/plain": [
              "array(['Grass', 'Fire', 'Water', 'Bug', 'Normal', 'Poison', 'Electric',\n",
              "       'Ground', 'Fairy', 'Fighting', 'Psychic', 'Rock', 'Ghost', 'Ice',\n",
              "       'Dragon', 'Dark', 'Steel', 'Flying'], dtype=object)"
            ]
          },
          "metadata": {},
          "execution_count": 192
        }
      ]
    },
    {
      "cell_type": "code",
      "source": [
        "df['Type 2'].unique()"
      ],
      "metadata": {
        "colab": {
          "base_uri": "https://localhost:8080/"
        },
        "id": "yhxHJyyAXUoR",
        "outputId": "1bf057c5-29b7-4621-aec1-7890833636ed"
      },
      "execution_count": null,
      "outputs": [
        {
          "output_type": "execute_result",
          "data": {
            "text/plain": [
              "array(['Poison', nan, 'Flying', 'Ground', 'Fairy', 'Grass', 'Fighting',\n",
              "       'Psychic', 'Steel', 'Ice', 'Rock', 'Water', 'Electric', 'Fire',\n",
              "       'Dragon', 'Dark', 'Ghost', 'Bug', 'Normal'], dtype=object)"
            ]
          },
          "metadata": {},
          "execution_count": 193
        }
      ]
    },
    {
      "cell_type": "code",
      "source": [
        "df['Type 2']"
      ],
      "metadata": {
        "colab": {
          "base_uri": "https://localhost:8080/"
        },
        "id": "YrJYrj2rYS-m",
        "outputId": "0897e04d-44fb-4602-e527-b3a1b836cb50"
      },
      "execution_count": null,
      "outputs": [
        {
          "output_type": "execute_result",
          "data": {
            "text/plain": [
              "#\n",
              "1      Poison\n",
              "2      Poison\n",
              "3      Poison\n",
              "4         NaN\n",
              "5         NaN\n",
              "        ...  \n",
              "715    Dragon\n",
              "716       NaN\n",
              "717    Flying\n",
              "719     Fairy\n",
              "721     Water\n",
              "Name: Type 2, Length: 698, dtype: object"
            ]
          },
          "metadata": {},
          "execution_count": 194
        }
      ]
    },
    {
      "cell_type": "code",
      "source": [
        "df.dtypes"
      ],
      "metadata": {
        "colab": {
          "base_uri": "https://localhost:8080/"
        },
        "id": "hDsSPgRsZW13",
        "outputId": "8cc0482c-f465-4260-85dd-e0f120d6c322"
      },
      "execution_count": null,
      "outputs": [
        {
          "output_type": "execute_result",
          "data": {
            "text/plain": [
              "Name          object\n",
              "Type 1        object\n",
              "Type 2        object\n",
              "Total          int64\n",
              "HP             int64\n",
              "Attack         int64\n",
              "Defense        int64\n",
              "Sp. Atk        int64\n",
              "Sp. Def        int64\n",
              "Speed          int64\n",
              "Generation     int64\n",
              "Legendary      int64\n",
              "dtype: object"
            ]
          },
          "metadata": {},
          "execution_count": 195
        }
      ]
    },
    {
      "cell_type": "markdown",
      "source": [
        "Me guardo los labels a parte:"
      ],
      "metadata": {
        "id": "APzwlao9ZjHe"
      }
    },
    {
      "cell_type": "code",
      "source": [
        "df_labels=df['Name']\n",
        "df_labels"
      ],
      "metadata": {
        "colab": {
          "base_uri": "https://localhost:8080/"
        },
        "id": "INhHI69WZap6",
        "outputId": "8b02dfa4-f724-45a6-e1a3-77e6ca1bb75c"
      },
      "execution_count": null,
      "outputs": [
        {
          "output_type": "execute_result",
          "data": {
            "text/plain": [
              "#\n",
              "1       bulbasaur\n",
              "2         ivysaur\n",
              "3        venusaur\n",
              "4      charmander\n",
              "5      charmeleon\n",
              "          ...    \n",
              "715       noivern\n",
              "716       xerneas\n",
              "717       yveltal\n",
              "719       diancie\n",
              "721     volcanion\n",
              "Name: Name, Length: 698, dtype: object"
            ]
          },
          "metadata": {},
          "execution_count": 196
        }
      ]
    },
    {
      "cell_type": "code",
      "source": [
        "df.pop('Name')"
      ],
      "metadata": {
        "colab": {
          "base_uri": "https://localhost:8080/"
        },
        "id": "SJ1LLEI2Zvme",
        "outputId": "122981a6-b12b-4254-a591-52147f6292c6"
      },
      "execution_count": null,
      "outputs": [
        {
          "output_type": "execute_result",
          "data": {
            "text/plain": [
              "#\n",
              "1       bulbasaur\n",
              "2         ivysaur\n",
              "3        venusaur\n",
              "4      charmander\n",
              "5      charmeleon\n",
              "          ...    \n",
              "715       noivern\n",
              "716       xerneas\n",
              "717       yveltal\n",
              "719       diancie\n",
              "721     volcanion\n",
              "Name: Name, Length: 698, dtype: object"
            ]
          },
          "metadata": {},
          "execution_count": 197
        }
      ]
    },
    {
      "cell_type": "markdown",
      "source": [
        "Me armo una lista con todos los tipos de pokemon diferentes, y reemplazo en el dataframe, el nombre de cada pokemon por su posición en esa lista. Esto es lo que se conoce como 'ordinal encoding'.\n"
      ],
      "metadata": {
        "id": "LqfKGeOsOzqD"
      }
    },
    {
      "cell_type": "code",
      "source": [
        "#Creo listas, con valores únicos:\n",
        "type1_unicos=list(df['Type 1'].unique())\n",
        "type2_unicos=list(df['Type 2'].unique())"
      ],
      "metadata": {
        "id": "OLJT9ZgvaQnw"
      },
      "execution_count": null,
      "outputs": []
    },
    {
      "cell_type": "code",
      "source": [
        "type12_todos=np.append(type1_unicos,type2_unicos)\n",
        "type12_unicos=list(set(type12_todos))"
      ],
      "metadata": {
        "id": "gmvWjrLOahuJ"
      },
      "execution_count": null,
      "outputs": []
    },
    {
      "cell_type": "code",
      "source": [
        "for elemento in type12_unicos:\n",
        "  posicion=type12_unicos.index(elemento)\n",
        "  df['Type 1']=df['Type 1'].replace(elemento,posicion)\n",
        "  df['Type 2']=df['Type 2'].replace(elemento,posicion)"
      ],
      "metadata": {
        "id": "yh7QWAbMbOft"
      },
      "execution_count": null,
      "outputs": []
    },
    {
      "cell_type": "markdown",
      "source": [
        "No hay tipo 1 de pokemon que sean 'nan':\n"
      ],
      "metadata": {
        "id": "7FYqOKbhMYNM"
      }
    },
    {
      "cell_type": "code",
      "source": [
        "df['Type 1'].unique()==np.nan"
      ],
      "metadata": {
        "colab": {
          "base_uri": "https://localhost:8080/"
        },
        "id": "P3Sbhxd8ciS7",
        "outputId": "dd65899e-ae7e-4267-9526-1ab4dc28e5ae"
      },
      "execution_count": null,
      "outputs": [
        {
          "output_type": "execute_result",
          "data": {
            "text/plain": [
              "array([False, False, False, False, False, False, False, False, False,\n",
              "       False, False, False, False, False, False, False, False, False])"
            ]
          },
          "metadata": {},
          "execution_count": 201
        }
      ]
    },
    {
      "cell_type": "code",
      "source": [
        "df['Type 1'].unique().max()\n",
        "df['Type 2']=df['Type 2'].replace('NaN',19)"
      ],
      "metadata": {
        "id": "MpYg14g-cA-Z"
      },
      "execution_count": null,
      "outputs": []
    },
    {
      "cell_type": "code",
      "source": [
        "df['Type 2']=df['Type 2'].replace(np.nan,19)"
      ],
      "metadata": {
        "id": "aQXYIKB3c6qk"
      },
      "execution_count": null,
      "outputs": []
    },
    {
      "cell_type": "code",
      "source": [
        "df.describe()"
      ],
      "metadata": {
        "colab": {
          "base_uri": "https://localhost:8080/",
          "height": 300
        },
        "id": "kp2B4cPrXJda",
        "outputId": "23b58444-0e81-4944-e1b2-493e3a98f8fb"
      },
      "execution_count": null,
      "outputs": [
        {
          "output_type": "execute_result",
          "data": {
            "text/plain": [
              "           Type 1      Type 2       Total          HP      Attack     Defense  \\\n",
              "count  698.000000  698.000000  698.000000  698.000000  698.000000  698.000000   \n",
              "mean     8.372493   13.366762  415.912607   68.296562   74.808023   70.674785   \n",
              "std      4.995429    7.314429  108.454036   25.731246   28.759386   29.311105   \n",
              "min      0.000000    0.000000  180.000000    1.000000    5.000000    5.000000   \n",
              "25%      4.000000    8.000000  320.000000   50.000000   53.250000   50.000000   \n",
              "50%      8.000000   19.000000  420.000000   65.000000   74.500000   65.000000   \n",
              "75%     12.000000   19.000000  496.500000   80.000000   95.000000   85.000000   \n",
              "max     18.000000   19.000000  720.000000  255.000000  165.000000  230.000000   \n",
              "\n",
              "          Sp. Atk     Sp. Def       Speed  Generation   Legendary  \n",
              "count  698.000000  698.000000  698.000000  698.000000  698.000000  \n",
              "mean    68.157593   68.802292   65.173352    3.295129    0.054441  \n",
              "std     28.290425   26.807746   27.092806    1.655911    0.227049  \n",
              "min     10.000000   20.000000    5.000000    1.000000    0.000000  \n",
              "25%     45.000000   50.000000   45.000000    2.000000    0.000000  \n",
              "50%     65.000000   65.000000   64.500000    3.000000    0.000000  \n",
              "75%     87.750000   85.000000   85.000000    5.000000    0.000000  \n",
              "max    154.000000  230.000000  160.000000    6.000000    1.000000  "
            ],
            "text/html": [
              "\n",
              "  <div id=\"df-4950304a-45fb-4c94-a745-b193e17551d1\">\n",
              "    <div class=\"colab-df-container\">\n",
              "      <div>\n",
              "<style scoped>\n",
              "    .dataframe tbody tr th:only-of-type {\n",
              "        vertical-align: middle;\n",
              "    }\n",
              "\n",
              "    .dataframe tbody tr th {\n",
              "        vertical-align: top;\n",
              "    }\n",
              "\n",
              "    .dataframe thead th {\n",
              "        text-align: right;\n",
              "    }\n",
              "</style>\n",
              "<table border=\"1\" class=\"dataframe\">\n",
              "  <thead>\n",
              "    <tr style=\"text-align: right;\">\n",
              "      <th></th>\n",
              "      <th>Type 1</th>\n",
              "      <th>Type 2</th>\n",
              "      <th>Total</th>\n",
              "      <th>HP</th>\n",
              "      <th>Attack</th>\n",
              "      <th>Defense</th>\n",
              "      <th>Sp. Atk</th>\n",
              "      <th>Sp. Def</th>\n",
              "      <th>Speed</th>\n",
              "      <th>Generation</th>\n",
              "      <th>Legendary</th>\n",
              "    </tr>\n",
              "  </thead>\n",
              "  <tbody>\n",
              "    <tr>\n",
              "      <th>count</th>\n",
              "      <td>698.000000</td>\n",
              "      <td>698.000000</td>\n",
              "      <td>698.000000</td>\n",
              "      <td>698.000000</td>\n",
              "      <td>698.000000</td>\n",
              "      <td>698.000000</td>\n",
              "      <td>698.000000</td>\n",
              "      <td>698.000000</td>\n",
              "      <td>698.000000</td>\n",
              "      <td>698.000000</td>\n",
              "      <td>698.000000</td>\n",
              "    </tr>\n",
              "    <tr>\n",
              "      <th>mean</th>\n",
              "      <td>8.372493</td>\n",
              "      <td>13.366762</td>\n",
              "      <td>415.912607</td>\n",
              "      <td>68.296562</td>\n",
              "      <td>74.808023</td>\n",
              "      <td>70.674785</td>\n",
              "      <td>68.157593</td>\n",
              "      <td>68.802292</td>\n",
              "      <td>65.173352</td>\n",
              "      <td>3.295129</td>\n",
              "      <td>0.054441</td>\n",
              "    </tr>\n",
              "    <tr>\n",
              "      <th>std</th>\n",
              "      <td>4.995429</td>\n",
              "      <td>7.314429</td>\n",
              "      <td>108.454036</td>\n",
              "      <td>25.731246</td>\n",
              "      <td>28.759386</td>\n",
              "      <td>29.311105</td>\n",
              "      <td>28.290425</td>\n",
              "      <td>26.807746</td>\n",
              "      <td>27.092806</td>\n",
              "      <td>1.655911</td>\n",
              "      <td>0.227049</td>\n",
              "    </tr>\n",
              "    <tr>\n",
              "      <th>min</th>\n",
              "      <td>0.000000</td>\n",
              "      <td>0.000000</td>\n",
              "      <td>180.000000</td>\n",
              "      <td>1.000000</td>\n",
              "      <td>5.000000</td>\n",
              "      <td>5.000000</td>\n",
              "      <td>10.000000</td>\n",
              "      <td>20.000000</td>\n",
              "      <td>5.000000</td>\n",
              "      <td>1.000000</td>\n",
              "      <td>0.000000</td>\n",
              "    </tr>\n",
              "    <tr>\n",
              "      <th>25%</th>\n",
              "      <td>4.000000</td>\n",
              "      <td>8.000000</td>\n",
              "      <td>320.000000</td>\n",
              "      <td>50.000000</td>\n",
              "      <td>53.250000</td>\n",
              "      <td>50.000000</td>\n",
              "      <td>45.000000</td>\n",
              "      <td>50.000000</td>\n",
              "      <td>45.000000</td>\n",
              "      <td>2.000000</td>\n",
              "      <td>0.000000</td>\n",
              "    </tr>\n",
              "    <tr>\n",
              "      <th>50%</th>\n",
              "      <td>8.000000</td>\n",
              "      <td>19.000000</td>\n",
              "      <td>420.000000</td>\n",
              "      <td>65.000000</td>\n",
              "      <td>74.500000</td>\n",
              "      <td>65.000000</td>\n",
              "      <td>65.000000</td>\n",
              "      <td>65.000000</td>\n",
              "      <td>64.500000</td>\n",
              "      <td>3.000000</td>\n",
              "      <td>0.000000</td>\n",
              "    </tr>\n",
              "    <tr>\n",
              "      <th>75%</th>\n",
              "      <td>12.000000</td>\n",
              "      <td>19.000000</td>\n",
              "      <td>496.500000</td>\n",
              "      <td>80.000000</td>\n",
              "      <td>95.000000</td>\n",
              "      <td>85.000000</td>\n",
              "      <td>87.750000</td>\n",
              "      <td>85.000000</td>\n",
              "      <td>85.000000</td>\n",
              "      <td>5.000000</td>\n",
              "      <td>0.000000</td>\n",
              "    </tr>\n",
              "    <tr>\n",
              "      <th>max</th>\n",
              "      <td>18.000000</td>\n",
              "      <td>19.000000</td>\n",
              "      <td>720.000000</td>\n",
              "      <td>255.000000</td>\n",
              "      <td>165.000000</td>\n",
              "      <td>230.000000</td>\n",
              "      <td>154.000000</td>\n",
              "      <td>230.000000</td>\n",
              "      <td>160.000000</td>\n",
              "      <td>6.000000</td>\n",
              "      <td>1.000000</td>\n",
              "    </tr>\n",
              "  </tbody>\n",
              "</table>\n",
              "</div>\n",
              "      <button class=\"colab-df-convert\" onclick=\"convertToInteractive('df-4950304a-45fb-4c94-a745-b193e17551d1')\"\n",
              "              title=\"Convert this dataframe to an interactive table.\"\n",
              "              style=\"display:none;\">\n",
              "        \n",
              "  <svg xmlns=\"http://www.w3.org/2000/svg\" height=\"24px\"viewBox=\"0 0 24 24\"\n",
              "       width=\"24px\">\n",
              "    <path d=\"M0 0h24v24H0V0z\" fill=\"none\"/>\n",
              "    <path d=\"M18.56 5.44l.94 2.06.94-2.06 2.06-.94-2.06-.94-.94-2.06-.94 2.06-2.06.94zm-11 1L8.5 8.5l.94-2.06 2.06-.94-2.06-.94L8.5 2.5l-.94 2.06-2.06.94zm10 10l.94 2.06.94-2.06 2.06-.94-2.06-.94-.94-2.06-.94 2.06-2.06.94z\"/><path d=\"M17.41 7.96l-1.37-1.37c-.4-.4-.92-.59-1.43-.59-.52 0-1.04.2-1.43.59L10.3 9.45l-7.72 7.72c-.78.78-.78 2.05 0 2.83L4 21.41c.39.39.9.59 1.41.59.51 0 1.02-.2 1.41-.59l7.78-7.78 2.81-2.81c.8-.78.8-2.07 0-2.86zM5.41 20L4 18.59l7.72-7.72 1.47 1.35L5.41 20z\"/>\n",
              "  </svg>\n",
              "      </button>\n",
              "      \n",
              "  <style>\n",
              "    .colab-df-container {\n",
              "      display:flex;\n",
              "      flex-wrap:wrap;\n",
              "      gap: 12px;\n",
              "    }\n",
              "\n",
              "    .colab-df-convert {\n",
              "      background-color: #E8F0FE;\n",
              "      border: none;\n",
              "      border-radius: 50%;\n",
              "      cursor: pointer;\n",
              "      display: none;\n",
              "      fill: #1967D2;\n",
              "      height: 32px;\n",
              "      padding: 0 0 0 0;\n",
              "      width: 32px;\n",
              "    }\n",
              "\n",
              "    .colab-df-convert:hover {\n",
              "      background-color: #E2EBFA;\n",
              "      box-shadow: 0px 1px 2px rgba(60, 64, 67, 0.3), 0px 1px 3px 1px rgba(60, 64, 67, 0.15);\n",
              "      fill: #174EA6;\n",
              "    }\n",
              "\n",
              "    [theme=dark] .colab-df-convert {\n",
              "      background-color: #3B4455;\n",
              "      fill: #D2E3FC;\n",
              "    }\n",
              "\n",
              "    [theme=dark] .colab-df-convert:hover {\n",
              "      background-color: #434B5C;\n",
              "      box-shadow: 0px 1px 3px 1px rgba(0, 0, 0, 0.15);\n",
              "      filter: drop-shadow(0px 1px 2px rgba(0, 0, 0, 0.3));\n",
              "      fill: #FFFFFF;\n",
              "    }\n",
              "  </style>\n",
              "\n",
              "      <script>\n",
              "        const buttonEl =\n",
              "          document.querySelector('#df-4950304a-45fb-4c94-a745-b193e17551d1 button.colab-df-convert');\n",
              "        buttonEl.style.display =\n",
              "          google.colab.kernel.accessAllowed ? 'block' : 'none';\n",
              "\n",
              "        async function convertToInteractive(key) {\n",
              "          const element = document.querySelector('#df-4950304a-45fb-4c94-a745-b193e17551d1');\n",
              "          const dataTable =\n",
              "            await google.colab.kernel.invokeFunction('convertToInteractive',\n",
              "                                                     [key], {});\n",
              "          if (!dataTable) return;\n",
              "\n",
              "          const docLinkHtml = 'Like what you see? Visit the ' +\n",
              "            '<a target=\"_blank\" href=https://colab.research.google.com/notebooks/data_table.ipynb>data table notebook</a>'\n",
              "            + ' to learn more about interactive tables.';\n",
              "          element.innerHTML = '';\n",
              "          dataTable['output_type'] = 'display_data';\n",
              "          await google.colab.output.renderOutput(dataTable, element);\n",
              "          const docLink = document.createElement('div');\n",
              "          docLink.innerHTML = docLinkHtml;\n",
              "          element.appendChild(docLink);\n",
              "        }\n",
              "      </script>\n",
              "    </div>\n",
              "  </div>\n",
              "  "
            ]
          },
          "metadata": {},
          "execution_count": 204
        }
      ]
    },
    {
      "cell_type": "code",
      "source": [
        "df"
      ],
      "metadata": {
        "colab": {
          "base_uri": "https://localhost:8080/",
          "height": 455
        },
        "id": "yKX6XVPVEK-s",
        "outputId": "90d8430d-ba3a-4128-c0c2-0f98d69f7cbf"
      },
      "execution_count": null,
      "outputs": [
        {
          "output_type": "execute_result",
          "data": {
            "text/plain": [
              "     Type 1  Type 2  Total   HP  Attack  Defense  Sp. Atk  Sp. Def  Speed  \\\n",
              "#                                                                           \n",
              "1         7    14.0    318   45      49       49       65       65     45   \n",
              "2         7    14.0    405   60      62       63       80       80     60   \n",
              "3         7    14.0    525   80      82       83      100      100     80   \n",
              "4         8    19.0    309   39      52       43       60       50     65   \n",
              "5         8    19.0    405   58      64       58       80       65     80   \n",
              "..      ...     ...    ...  ...     ...      ...      ...      ...    ...   \n",
              "715       0    18.0    535   85      70       80       97       80    123   \n",
              "716       2    19.0    680  126     131       95      131       98     99   \n",
              "717      17     0.0    680  126     131       95      131       98     99   \n",
              "719      16     2.0    600   50     100      150      100      150     50   \n",
              "721       8     3.0    600   80     110      120      130       90     70   \n",
              "\n",
              "     Generation  Legendary  \n",
              "#                           \n",
              "1             1          0  \n",
              "2             1          0  \n",
              "3             1          0  \n",
              "4             1          0  \n",
              "5             1          0  \n",
              "..          ...        ...  \n",
              "715           6          0  \n",
              "716           6          1  \n",
              "717           6          1  \n",
              "719           6          1  \n",
              "721           6          1  \n",
              "\n",
              "[698 rows x 11 columns]"
            ],
            "text/html": [
              "\n",
              "  <div id=\"df-6f39f3aa-5308-4d10-9eab-79dc8c13ecc1\">\n",
              "    <div class=\"colab-df-container\">\n",
              "      <div>\n",
              "<style scoped>\n",
              "    .dataframe tbody tr th:only-of-type {\n",
              "        vertical-align: middle;\n",
              "    }\n",
              "\n",
              "    .dataframe tbody tr th {\n",
              "        vertical-align: top;\n",
              "    }\n",
              "\n",
              "    .dataframe thead th {\n",
              "        text-align: right;\n",
              "    }\n",
              "</style>\n",
              "<table border=\"1\" class=\"dataframe\">\n",
              "  <thead>\n",
              "    <tr style=\"text-align: right;\">\n",
              "      <th></th>\n",
              "      <th>Type 1</th>\n",
              "      <th>Type 2</th>\n",
              "      <th>Total</th>\n",
              "      <th>HP</th>\n",
              "      <th>Attack</th>\n",
              "      <th>Defense</th>\n",
              "      <th>Sp. Atk</th>\n",
              "      <th>Sp. Def</th>\n",
              "      <th>Speed</th>\n",
              "      <th>Generation</th>\n",
              "      <th>Legendary</th>\n",
              "    </tr>\n",
              "    <tr>\n",
              "      <th>#</th>\n",
              "      <th></th>\n",
              "      <th></th>\n",
              "      <th></th>\n",
              "      <th></th>\n",
              "      <th></th>\n",
              "      <th></th>\n",
              "      <th></th>\n",
              "      <th></th>\n",
              "      <th></th>\n",
              "      <th></th>\n",
              "      <th></th>\n",
              "    </tr>\n",
              "  </thead>\n",
              "  <tbody>\n",
              "    <tr>\n",
              "      <th>1</th>\n",
              "      <td>7</td>\n",
              "      <td>14.0</td>\n",
              "      <td>318</td>\n",
              "      <td>45</td>\n",
              "      <td>49</td>\n",
              "      <td>49</td>\n",
              "      <td>65</td>\n",
              "      <td>65</td>\n",
              "      <td>45</td>\n",
              "      <td>1</td>\n",
              "      <td>0</td>\n",
              "    </tr>\n",
              "    <tr>\n",
              "      <th>2</th>\n",
              "      <td>7</td>\n",
              "      <td>14.0</td>\n",
              "      <td>405</td>\n",
              "      <td>60</td>\n",
              "      <td>62</td>\n",
              "      <td>63</td>\n",
              "      <td>80</td>\n",
              "      <td>80</td>\n",
              "      <td>60</td>\n",
              "      <td>1</td>\n",
              "      <td>0</td>\n",
              "    </tr>\n",
              "    <tr>\n",
              "      <th>3</th>\n",
              "      <td>7</td>\n",
              "      <td>14.0</td>\n",
              "      <td>525</td>\n",
              "      <td>80</td>\n",
              "      <td>82</td>\n",
              "      <td>83</td>\n",
              "      <td>100</td>\n",
              "      <td>100</td>\n",
              "      <td>80</td>\n",
              "      <td>1</td>\n",
              "      <td>0</td>\n",
              "    </tr>\n",
              "    <tr>\n",
              "      <th>4</th>\n",
              "      <td>8</td>\n",
              "      <td>19.0</td>\n",
              "      <td>309</td>\n",
              "      <td>39</td>\n",
              "      <td>52</td>\n",
              "      <td>43</td>\n",
              "      <td>60</td>\n",
              "      <td>50</td>\n",
              "      <td>65</td>\n",
              "      <td>1</td>\n",
              "      <td>0</td>\n",
              "    </tr>\n",
              "    <tr>\n",
              "      <th>5</th>\n",
              "      <td>8</td>\n",
              "      <td>19.0</td>\n",
              "      <td>405</td>\n",
              "      <td>58</td>\n",
              "      <td>64</td>\n",
              "      <td>58</td>\n",
              "      <td>80</td>\n",
              "      <td>65</td>\n",
              "      <td>80</td>\n",
              "      <td>1</td>\n",
              "      <td>0</td>\n",
              "    </tr>\n",
              "    <tr>\n",
              "      <th>...</th>\n",
              "      <td>...</td>\n",
              "      <td>...</td>\n",
              "      <td>...</td>\n",
              "      <td>...</td>\n",
              "      <td>...</td>\n",
              "      <td>...</td>\n",
              "      <td>...</td>\n",
              "      <td>...</td>\n",
              "      <td>...</td>\n",
              "      <td>...</td>\n",
              "      <td>...</td>\n",
              "    </tr>\n",
              "    <tr>\n",
              "      <th>715</th>\n",
              "      <td>0</td>\n",
              "      <td>18.0</td>\n",
              "      <td>535</td>\n",
              "      <td>85</td>\n",
              "      <td>70</td>\n",
              "      <td>80</td>\n",
              "      <td>97</td>\n",
              "      <td>80</td>\n",
              "      <td>123</td>\n",
              "      <td>6</td>\n",
              "      <td>0</td>\n",
              "    </tr>\n",
              "    <tr>\n",
              "      <th>716</th>\n",
              "      <td>2</td>\n",
              "      <td>19.0</td>\n",
              "      <td>680</td>\n",
              "      <td>126</td>\n",
              "      <td>131</td>\n",
              "      <td>95</td>\n",
              "      <td>131</td>\n",
              "      <td>98</td>\n",
              "      <td>99</td>\n",
              "      <td>6</td>\n",
              "      <td>1</td>\n",
              "    </tr>\n",
              "    <tr>\n",
              "      <th>717</th>\n",
              "      <td>17</td>\n",
              "      <td>0.0</td>\n",
              "      <td>680</td>\n",
              "      <td>126</td>\n",
              "      <td>131</td>\n",
              "      <td>95</td>\n",
              "      <td>131</td>\n",
              "      <td>98</td>\n",
              "      <td>99</td>\n",
              "      <td>6</td>\n",
              "      <td>1</td>\n",
              "    </tr>\n",
              "    <tr>\n",
              "      <th>719</th>\n",
              "      <td>16</td>\n",
              "      <td>2.0</td>\n",
              "      <td>600</td>\n",
              "      <td>50</td>\n",
              "      <td>100</td>\n",
              "      <td>150</td>\n",
              "      <td>100</td>\n",
              "      <td>150</td>\n",
              "      <td>50</td>\n",
              "      <td>6</td>\n",
              "      <td>1</td>\n",
              "    </tr>\n",
              "    <tr>\n",
              "      <th>721</th>\n",
              "      <td>8</td>\n",
              "      <td>3.0</td>\n",
              "      <td>600</td>\n",
              "      <td>80</td>\n",
              "      <td>110</td>\n",
              "      <td>120</td>\n",
              "      <td>130</td>\n",
              "      <td>90</td>\n",
              "      <td>70</td>\n",
              "      <td>6</td>\n",
              "      <td>1</td>\n",
              "    </tr>\n",
              "  </tbody>\n",
              "</table>\n",
              "<p>698 rows × 11 columns</p>\n",
              "</div>\n",
              "      <button class=\"colab-df-convert\" onclick=\"convertToInteractive('df-6f39f3aa-5308-4d10-9eab-79dc8c13ecc1')\"\n",
              "              title=\"Convert this dataframe to an interactive table.\"\n",
              "              style=\"display:none;\">\n",
              "        \n",
              "  <svg xmlns=\"http://www.w3.org/2000/svg\" height=\"24px\"viewBox=\"0 0 24 24\"\n",
              "       width=\"24px\">\n",
              "    <path d=\"M0 0h24v24H0V0z\" fill=\"none\"/>\n",
              "    <path d=\"M18.56 5.44l.94 2.06.94-2.06 2.06-.94-2.06-.94-.94-2.06-.94 2.06-2.06.94zm-11 1L8.5 8.5l.94-2.06 2.06-.94-2.06-.94L8.5 2.5l-.94 2.06-2.06.94zm10 10l.94 2.06.94-2.06 2.06-.94-2.06-.94-.94-2.06-.94 2.06-2.06.94z\"/><path d=\"M17.41 7.96l-1.37-1.37c-.4-.4-.92-.59-1.43-.59-.52 0-1.04.2-1.43.59L10.3 9.45l-7.72 7.72c-.78.78-.78 2.05 0 2.83L4 21.41c.39.39.9.59 1.41.59.51 0 1.02-.2 1.41-.59l7.78-7.78 2.81-2.81c.8-.78.8-2.07 0-2.86zM5.41 20L4 18.59l7.72-7.72 1.47 1.35L5.41 20z\"/>\n",
              "  </svg>\n",
              "      </button>\n",
              "      \n",
              "  <style>\n",
              "    .colab-df-container {\n",
              "      display:flex;\n",
              "      flex-wrap:wrap;\n",
              "      gap: 12px;\n",
              "    }\n",
              "\n",
              "    .colab-df-convert {\n",
              "      background-color: #E8F0FE;\n",
              "      border: none;\n",
              "      border-radius: 50%;\n",
              "      cursor: pointer;\n",
              "      display: none;\n",
              "      fill: #1967D2;\n",
              "      height: 32px;\n",
              "      padding: 0 0 0 0;\n",
              "      width: 32px;\n",
              "    }\n",
              "\n",
              "    .colab-df-convert:hover {\n",
              "      background-color: #E2EBFA;\n",
              "      box-shadow: 0px 1px 2px rgba(60, 64, 67, 0.3), 0px 1px 3px 1px rgba(60, 64, 67, 0.15);\n",
              "      fill: #174EA6;\n",
              "    }\n",
              "\n",
              "    [theme=dark] .colab-df-convert {\n",
              "      background-color: #3B4455;\n",
              "      fill: #D2E3FC;\n",
              "    }\n",
              "\n",
              "    [theme=dark] .colab-df-convert:hover {\n",
              "      background-color: #434B5C;\n",
              "      box-shadow: 0px 1px 3px 1px rgba(0, 0, 0, 0.15);\n",
              "      filter: drop-shadow(0px 1px 2px rgba(0, 0, 0, 0.3));\n",
              "      fill: #FFFFFF;\n",
              "    }\n",
              "  </style>\n",
              "\n",
              "      <script>\n",
              "        const buttonEl =\n",
              "          document.querySelector('#df-6f39f3aa-5308-4d10-9eab-79dc8c13ecc1 button.colab-df-convert');\n",
              "        buttonEl.style.display =\n",
              "          google.colab.kernel.accessAllowed ? 'block' : 'none';\n",
              "\n",
              "        async function convertToInteractive(key) {\n",
              "          const element = document.querySelector('#df-6f39f3aa-5308-4d10-9eab-79dc8c13ecc1');\n",
              "          const dataTable =\n",
              "            await google.colab.kernel.invokeFunction('convertToInteractive',\n",
              "                                                     [key], {});\n",
              "          if (!dataTable) return;\n",
              "\n",
              "          const docLinkHtml = 'Like what you see? Visit the ' +\n",
              "            '<a target=\"_blank\" href=https://colab.research.google.com/notebooks/data_table.ipynb>data table notebook</a>'\n",
              "            + ' to learn more about interactive tables.';\n",
              "          element.innerHTML = '';\n",
              "          dataTable['output_type'] = 'display_data';\n",
              "          await google.colab.output.renderOutput(dataTable, element);\n",
              "          const docLink = document.createElement('div');\n",
              "          docLink.innerHTML = docLinkHtml;\n",
              "          element.appendChild(docLink);\n",
              "        }\n",
              "      </script>\n",
              "    </div>\n",
              "  </div>\n",
              "  "
            ]
          },
          "metadata": {},
          "execution_count": 255
        }
      ]
    },
    {
      "cell_type": "code",
      "source": [
        "df_ej7=df"
      ],
      "metadata": {
        "id": "jDwNyD8-EG77"
      },
      "execution_count": null,
      "outputs": []
    },
    {
      "cell_type": "markdown",
      "source": [
        "## 1) Coeficiente de Silhouette para las imagenes."
      ],
      "metadata": {
        "id": "cOP65zBLLvQ5"
      }
    },
    {
      "cell_type": "code",
      "metadata": {
        "id": "HpNFUYPhLvRc"
      },
      "source": [
        "# importamos el puntaje de silhouette\n",
        "from sklearn.metrics import silhouette_score"
      ],
      "execution_count": null,
      "outputs": []
    },
    {
      "cell_type": "code",
      "source": [
        "X=data"
      ],
      "metadata": {
        "id": "stb7TL3ne-ci"
      },
      "execution_count": null,
      "outputs": []
    },
    {
      "cell_type": "code",
      "metadata": {
        "id": "UoTUEhMeLvRd"
      },
      "source": [
        "# Creamos una lista para guardar de los coeficientes de silhouette para cada valor de k\n",
        "silhouette_coefficients = []\n",
        "\n",
        "# Se necesita tener al menos 2 clusters y a los sumo N-1 (con N el numero de muestras) para obtener coeficientes de Silohuette\n",
        "for k in range(5, 10):\n",
        "     kkkmeans = KMeans(n_clusters=k, n_init=300, max_iter=700,random_state=23)\n",
        "     kkkmeans.fit(X)\n",
        "     score = silhouette_score(X, kkkmeans.labels_)\n",
        "     silhouette_coefficients.append(score)"
      ],
      "execution_count": null,
      "outputs": []
    },
    {
      "cell_type": "code",
      "metadata": {
        "colab": {
          "base_uri": "https://localhost:8080/",
          "height": 303
        },
        "outputId": "3fdcb6f1-7c80-4cfc-fd1d-da4db1a0ebf3",
        "id": "sR1cw7EFLvRg"
      },
      "source": [
        "fig, ax = plt.subplots(figsize = (24, 7))\n",
        "\n",
        "# estas lineas son el grafico de SSEvsK\n",
        "ax.scatter(range(5, 10), silhouette_coefficients)            \n",
        "ax.set_xticks(range(5, 10))\n",
        "ax.set_xlabel(\"Número de clusters\")\n",
        "ax.set_ylabel(\"Promedio coeficientes de Silhouette\")\n",
        "plt.grid()"
      ],
      "execution_count": null,
      "outputs": [
        {
          "output_type": "display_data",
          "data": {
            "text/plain": [
              "<Figure size 1728x504 with 1 Axes>"
            ],
            "image/png": "[encoded data removed]"
          },
          "metadata": {
            "needs_background": "light"
          }
        }
      ]
    },
    {
      "cell_type": "code",
      "source": [
        "k=np.arange(5,10)\n",
        "print('El número de clusters que maximiza el Silhouette es:',k[np.argmax(silhouette_coefficients)] )"
      ],
      "metadata": {
        "colab": {
          "base_uri": "https://localhost:8080/"
        },
        "id": "QQV-ehtqsyNm",
        "outputId": "fea14a2e-4a3f-4755-e415-562df8fb77dd"
      },
      "execution_count": null,
      "outputs": [
        {
          "output_type": "stream",
          "name": "stdout",
          "text": [
            "El número de clusters que maximiza el Silhouette es: 7\n"
          ]
        }
      ]
    },
    {
      "cell_type": "code",
      "metadata": {
        "colab": {
          "base_uri": "https://localhost:8080/"
        },
        "outputId": "88edf67c-e8fa-44ab-a3db-c2d897842781",
        "id": "-wNumNa1LvRi"
      },
      "source": [
        "kklabels = kkkmeans.labels_\n",
        "kkklabels = kklabels.copy()\n",
        "\n",
        "np.random.shuffle(kkklabels)\n",
        "\n",
        "silhouette_score(X, kkklabels)"
      ],
      "execution_count": null,
      "outputs": [
        {
          "output_type": "execute_result",
          "data": {
            "text/plain": [
              "-0.018326891858432122"
            ]
          },
          "metadata": {},
          "execution_count": 51
        }
      ]
    },
    {
      "cell_type": "code",
      "source": [
        "k_optimo=k[np.argmax(silhouette_coefficients)]\n",
        "k_optimo"
      ],
      "metadata": {
        "colab": {
          "base_uri": "https://localhost:8080/"
        },
        "id": "CwgpiIeYupC1",
        "outputId": "eb34af8c-885d-4432-b4c1-bc8c76ae93f7"
      },
      "execution_count": null,
      "outputs": [
        {
          "output_type": "execute_result",
          "data": {
            "text/plain": [
              "7"
            ]
          },
          "metadata": {},
          "execution_count": 52
        }
      ]
    },
    {
      "cell_type": "markdown",
      "source": [
        "## 2) Clustering para las imágenes"
      ],
      "metadata": {
        "id": "zXrx6velCN1c"
      }
    },
    {
      "cell_type": "code",
      "execution_count": null,
      "metadata": {
        "id": "CzOiC0NFCN1e"
      },
      "outputs": [],
      "source": [
        "# importamos las librerías usuales de python\n",
        "import numpy as np\n",
        "import pandas as pd\n",
        "import matplotlib.pyplot as plt\n",
        "\n",
        "# importamos los algoritmos de clusterizacion a utilizar en esta notebook\n",
        "from sklearn.cluster import KMeans                    # K-means\n",
        "from sklearn.cluster import AgglomerativeClustering   # Clustering jerárquico"
      ]
    },
    {
      "cell_type": "code",
      "execution_count": null,
      "metadata": {
        "id": "s7fo-Px2CN1g"
      },
      "outputs": [],
      "source": [
        "# Clase para realizar componentes principales\n",
        "from sklearn.decomposition import PCA\n",
        "\n",
        "# Estandarizador (transforma las variables en z-scores)\n",
        "from sklearn.preprocessing import StandardScaler\n",
        "std_scale = StandardScaler() # Creamos el estandarizador"
      ]
    },
    {
      "cell_type": "code",
      "source": [
        "X=imagenes"
      ],
      "metadata": {
        "id": "xbanNo-7CN1h"
      },
      "execution_count": null,
      "outputs": []
    },
    {
      "cell_type": "code",
      "execution_count": null,
      "metadata": {
        "id": "E5UzcH1JCN1h"
      },
      "outputs": [],
      "source": [
        "# Ajustamos el estandarizador\n",
        "std_scale.fit(X)\n",
        "\n",
        "# Aplicamos el estandarizador y obtenemos la matriz de features escaleados\n",
        "X_scaled = std_scale.transform(X)\n"
      ]
    },
    {
      "cell_type": "code",
      "execution_count": null,
      "metadata": {
        "id": "Th4nN2-GCN1i"
      },
      "outputs": [],
      "source": [
        "#número de componentes no se específica, \n",
        "# se obtienen tantas componentes principales como features en nuestro dataset.\n",
        "pca = PCA(n_components=50)"
      ]
    },
    {
      "cell_type": "code",
      "execution_count": null,
      "metadata": {
        "colab": {
          "base_uri": "https://localhost:8080/"
        },
        "outputId": "0bf0c9a3-320b-4fc1-e673-f23435511437",
        "id": "ygWBH2LMCN1j"
      },
      "outputs": [
        {
          "output_type": "stream",
          "name": "stdout",
          "text": [
            "Dimensiones de la matriz en componentes principales: (698, 50)\n",
            "[[ -8.56968162   6.91427908  -2.94317667 ...  -1.00822409  -0.57583304\n",
            "    1.18610263]\n",
            " [ -6.42767943   3.94660528  -3.24604489 ...  -0.25898521  -1.24625505\n",
            "   -0.47759539]\n",
            " [  0.59486385  -2.32757979   2.04808351 ...   0.09965528   0.64915475\n",
            "    0.39419136]\n",
            " ...\n",
            " [  3.64447322 -10.01378389   4.31245111 ...  -0.78695052   2.55184492\n",
            "   -1.20702225]\n",
            " [ -3.10717531  -1.77066299   1.81325497 ...   0.45633284  -1.21421885\n",
            "   -0.72671574]\n",
            " [ -7.3738486    4.91658308  -1.60898745 ...  -0.67027129  -0.65637489\n",
            "    1.1443213 ]]\n"
          ]
        }
      ],
      "source": [
        "# Ajustamos el modelo a los datos escaleados\n",
        "pca.fit(X_scaled)\n",
        "\n",
        "# Obtenemos la descripción de los datos en el espacio de componentes principales\n",
        "X_pca = pca.transform(X_scaled)\n",
        "\n",
        "print('Dimensiones de la matriz en componentes principales: {}'.format(X_pca.shape))\n",
        "print(X_pca)"
      ]
    },
    {
      "cell_type": "code",
      "execution_count": null,
      "metadata": {
        "colab": {
          "base_uri": "https://localhost:8080/",
          "height": 459
        },
        "outputId": "aabdb643-0674-474a-8760-89de2d341961",
        "id": "PR3PbvG0CN1l"
      },
      "outputs": [
        {
          "output_type": "execute_result",
          "data": {
            "text/plain": [
              "Text(0, 0.5, 'Segunda componente principal')"
            ]
          },
          "metadata": {},
          "execution_count": 35
        },
        {
          "output_type": "display_data",
          "data": {
            "text/plain": [
              "<Figure size 1440x504 with 1 Axes>"
            ],
            "image/png": "[encoded data removed]"
          },
          "metadata": {
            "needs_background": "light"
          }
        }
      ],
      "source": [
        "fig, ax = plt.subplots(figsize = (20, 7))\n",
        "\n",
        "# Hacemos un scatter plot de cada uno de los datos\n",
        "ax.scatter(X_pca[:, 0], X_pca[:, 1])\n",
        "\n",
        "\n",
        "ax.set_xlabel('Primer componente principal')\n",
        "ax.set_ylabel('Segunda componente principal')"
      ]
    },
    {
      "cell_type": "code",
      "source": [
        "k_optimo=8"
      ],
      "metadata": {
        "id": "d7NRUeDanbMU"
      },
      "execution_count": null,
      "outputs": []
    },
    {
      "cell_type": "code",
      "execution_count": null,
      "metadata": {
        "colab": {
          "base_uri": "https://localhost:8080/",
          "height": 477
        },
        "outputId": "87cb2b00-b9da-46ac-eb0c-04a59ab67092",
        "id": "gc6AvoCJCN1s"
      },
      "outputs": [
        {
          "output_type": "stream",
          "name": "stderr",
          "text": [
            "No handles with labels found to put in legend.\n"
          ]
        },
        {
          "output_type": "execute_result",
          "data": {
            "text/plain": [
              "Text(0, 0.5, 'Segunda componente principal')"
            ]
          },
          "metadata": {},
          "execution_count": 37
        },
        {
          "output_type": "display_data",
          "data": {
            "text/plain": [
              "<Figure size 1440x504 with 1 Axes>"
            ],
            "image/png": "[encoded data removed]"
          },
          "metadata": {
            "needs_background": "light"
          }
        }
      ],
      "source": [
        "# Creación del modelo KMeans con k = 17\n",
        "kmeans17 = KMeans(n_clusters=k_optimo, n_init=300, max_iter=700,random_state=23)\n",
        "\n",
        "# Ajuste del modelo a los datos reducidos en componentes principales\n",
        "kmeans17.fit(X)\n",
        "\n",
        "# Guardamos la posición de los centroids\n",
        "centroids17 = kmeans17.cluster_centers_\n",
        "\n",
        "# Plot\n",
        "fig, ax = plt.subplots(figsize = (20, 7))\n",
        "\n",
        "# Hacemos un scatter plot de cada uno de los datos\n",
        "ax.scatter(X_pca[:, 0], X_pca[:, 1], c=kmeans17.labels_)\n",
        "ax.scatter(centroids17[:, 0], centroids17[:, 1], marker=\"X\", s=200, linewidths=2,\n",
        "            c=np.unique(kmeans17.labels_),edgecolors='black')\n",
        "ax.legend()\n",
        "\n",
        "\n",
        "ax.set_xlabel('Primer componente principal')\n",
        "ax.set_ylabel('Segunda componente principal')"
      ]
    },
    {
      "cell_type": "markdown",
      "source": [
        "## 3) Visualizo las primeras 10 componentes de cada claster:"
      ],
      "metadata": {
        "id": "7Mq0R38eCN1t"
      }
    },
    {
      "cell_type": "code",
      "source": [
        "# Mostrar el resultado final\n",
        "labels = kmeans17.labels_\n",
        "data=np.array(imagenes)\n",
        "\n",
        "# Iniciamos un for con k=40 iteraciones\n",
        "for i in range(k_optimo):\n",
        "    index = np.nonzero(labels==i)[0]                                  # los índices correspondientes a la i-ésima etiqueta \n",
        "    num=10                                                   # el número de samples en cada cluster\n",
        "    this_faces = data[index].reshape(len(index),56,68)                  # reshapeamos los samples del i-ésimo cluster para que tenga el formato de una imagen de (56,68) pixeles\n",
        "    fig, axes = plt.subplots(1, num, figsize=(24, 4),\n",
        "                             subplot_kw={'xticks':[], 'yticks':[]},\n",
        "                             gridspec_kw=dict(hspace=0.1, wspace=0.1))\n",
        "    fig.suptitle(\"Cluster \" + str(i), fontsize=20)\n",
        "    for i, ax in enumerate(axes.flat):\n",
        "        ax.imshow(this_faces[i], cmap='bone')"
      ],
      "metadata": {
        "colab": {
          "base_uri": "https://localhost:8080/",
          "height": 1000
        },
        "id": "LzOtRd0Ghsug",
        "outputId": "ac46a11e-78d4-4b71-8d3b-898dbe02edfe"
      },
      "execution_count": null,
      "outputs": [
        {
          "output_type": "display_data",
          "data": {
            "text/plain": [
              "<Figure size 1728x288 with 10 Axes>"
            ],
            "image/png": "[encoded data removed]"
          },
          "metadata": {}
        },
        {
          "output_type": "display_data",
          "data": {
            "text/plain": [
              "<Figure size 1728x288 with 10 Axes>"
            ],
            "image/png": "[encoded data removed]"
          },
          "metadata": {}
        },
        {
          "output_type": "display_data",
          "data": {
            "text/plain": [
              "<Figure size 1728x288 with 10 Axes>"
            ],
            "image/png": "[encoded data removed]"
          },
          "metadata": {}
        },
        {
          "output_type": "display_data",
          "data": {
            "text/plain": [
              "<Figure size 1728x288 with 10 Axes>"
            ],
            "image/png": "[encoded data removed]"
          },
          "metadata": {}
        },
        {
          "output_type": "display_data",
          "data": {
            "text/plain": [
              "<Figure size 1728x288 with 10 Axes>"
            ],
            "image/png": "[encoded data removed]"
          },
          "metadata": {}
        },
        {
          "output_type": "display_data",
          "data": {
            "text/plain": [
              "<Figure size 1728x288 with 10 Axes>"
            ],
            "image/png": "[encoded data removed]"
          },
          "metadata": {}
        },
        {
          "output_type": "display_data",
          "data": {
            "text/plain": [
              "<Figure size 1728x288 with 10 Axes>"
            ],
            "image/png": "[encoded data removed]"
          },
          "metadata": {}
        },
        {
          "output_type": "display_data",
          "data": {
            "text/plain": [
              "<Figure size 1728x288 with 10 Axes>"
            ],
            "image/png": "[encoded data removed]"
          },
          "metadata": {}
        }
      ]
    },
    {
      "cell_type": "markdown",
      "source": [
        "Atributos promedio para cada cluster:"
      ],
      "metadata": {
        "id": "PL0tOgQ3nN_8"
      }
    },
    {
      "cell_type": "code",
      "source": [
        "import pandas as pd"
      ],
      "metadata": {
        "id": "RsLsIym1u14S"
      },
      "execution_count": null,
      "outputs": []
    },
    {
      "cell_type": "code",
      "source": [
        "columnas=['HP', 'Attack', 'Defense', 'Speed']\n",
        "k=8\n",
        "\n",
        "for cluster in range(k):\n",
        "  for columna in columnas:\n",
        "    col=list(df.columns).index(columna)\n",
        "    filas=np.nonzero(labels==cluster)[0]\n",
        "    list(df.iloc[filas, col])\n"
      ],
      "metadata": {
        "id": "9HJuYZd6qIKo"
      },
      "execution_count": null,
      "outputs": []
    },
    {
      "cell_type": "code",
      "source": [
        "df"
      ],
      "metadata": {
        "colab": {
          "base_uri": "https://localhost:8080/",
          "height": 455
        },
        "id": "T9y7Rn__qzNK",
        "outputId": "022248d7-08e9-4d63-dc92-7f4865e98194"
      },
      "execution_count": null,
      "outputs": [
        {
          "output_type": "execute_result",
          "data": {
            "text/plain": [
              "     Type 1  Type 2  Total   HP  Attack  Defense  Sp. Atk  Sp. Def  Speed  \\\n",
              "#                                                                           \n",
              "1         7    14.0    318   45      49       49       65       65     45   \n",
              "2         7    14.0    405   60      62       63       80       80     60   \n",
              "3         7    14.0    525   80      82       83      100      100     80   \n",
              "4         8    19.0    309   39      52       43       60       50     65   \n",
              "5         8    19.0    405   58      64       58       80       65     80   \n",
              "..      ...     ...    ...  ...     ...      ...      ...      ...    ...   \n",
              "715       0    18.0    535   85      70       80       97       80    123   \n",
              "716       2    19.0    680  126     131       95      131       98     99   \n",
              "717      17     0.0    680  126     131       95      131       98     99   \n",
              "719      16     2.0    600   50     100      150      100      150     50   \n",
              "721       8     3.0    600   80     110      120      130       90     70   \n",
              "\n",
              "     Generation  Legendary  \n",
              "#                           \n",
              "1             1          0  \n",
              "2             1          0  \n",
              "3             1          0  \n",
              "4             1          0  \n",
              "5             1          0  \n",
              "..          ...        ...  \n",
              "715           6          0  \n",
              "716           6          1  \n",
              "717           6          1  \n",
              "719           6          1  \n",
              "721           6          1  \n",
              "\n",
              "[698 rows x 11 columns]"
            ],
            "text/html": [
              "\n",
              "  <div id=\"df-bf73f05e-cdcb-4a19-81bb-cdae7e98377f\">\n",
              "    <div class=\"colab-df-container\">\n",
              "      <div>\n",
              "<style scoped>\n",
              "    .dataframe tbody tr th:only-of-type {\n",
              "        vertical-align: middle;\n",
              "    }\n",
              "\n",
              "    .dataframe tbody tr th {\n",
              "        vertical-align: top;\n",
              "    }\n",
              "\n",
              "    .dataframe thead th {\n",
              "        text-align: right;\n",
              "    }\n",
              "</style>\n",
              "<table border=\"1\" class=\"dataframe\">\n",
              "  <thead>\n",
              "    <tr style=\"text-align: right;\">\n",
              "      <th></th>\n",
              "      <th>Type 1</th>\n",
              "      <th>Type 2</th>\n",
              "      <th>Total</th>\n",
              "      <th>HP</th>\n",
              "      <th>Attack</th>\n",
              "      <th>Defense</th>\n",
              "      <th>Sp. Atk</th>\n",
              "      <th>Sp. Def</th>\n",
              "      <th>Speed</th>\n",
              "      <th>Generation</th>\n",
              "      <th>Legendary</th>\n",
              "    </tr>\n",
              "    <tr>\n",
              "      <th>#</th>\n",
              "      <th></th>\n",
              "      <th></th>\n",
              "      <th></th>\n",
              "      <th></th>\n",
              "      <th></th>\n",
              "      <th></th>\n",
              "      <th></th>\n",
              "      <th></th>\n",
              "      <th></th>\n",
              "      <th></th>\n",
              "      <th></th>\n",
              "    </tr>\n",
              "  </thead>\n",
              "  <tbody>\n",
              "    <tr>\n",
              "      <th>1</th>\n",
              "      <td>7</td>\n",
              "      <td>14.0</td>\n",
              "      <td>318</td>\n",
              "      <td>45</td>\n",
              "      <td>49</td>\n",
              "      <td>49</td>\n",
              "      <td>65</td>\n",
              "      <td>65</td>\n",
              "      <td>45</td>\n",
              "      <td>1</td>\n",
              "      <td>0</td>\n",
              "    </tr>\n",
              "    <tr>\n",
              "      <th>2</th>\n",
              "      <td>7</td>\n",
              "      <td>14.0</td>\n",
              "      <td>405</td>\n",
              "      <td>60</td>\n",
              "      <td>62</td>\n",
              "      <td>63</td>\n",
              "      <td>80</td>\n",
              "      <td>80</td>\n",
              "      <td>60</td>\n",
              "      <td>1</td>\n",
              "      <td>0</td>\n",
              "    </tr>\n",
              "    <tr>\n",
              "      <th>3</th>\n",
              "      <td>7</td>\n",
              "      <td>14.0</td>\n",
              "      <td>525</td>\n",
              "      <td>80</td>\n",
              "      <td>82</td>\n",
              "      <td>83</td>\n",
              "      <td>100</td>\n",
              "      <td>100</td>\n",
              "      <td>80</td>\n",
              "      <td>1</td>\n",
              "      <td>0</td>\n",
              "    </tr>\n",
              "    <tr>\n",
              "      <th>4</th>\n",
              "      <td>8</td>\n",
              "      <td>19.0</td>\n",
              "      <td>309</td>\n",
              "      <td>39</td>\n",
              "      <td>52</td>\n",
              "      <td>43</td>\n",
              "      <td>60</td>\n",
              "      <td>50</td>\n",
              "      <td>65</td>\n",
              "      <td>1</td>\n",
              "      <td>0</td>\n",
              "    </tr>\n",
              "    <tr>\n",
              "      <th>5</th>\n",
              "      <td>8</td>\n",
              "      <td>19.0</td>\n",
              "      <td>405</td>\n",
              "      <td>58</td>\n",
              "      <td>64</td>\n",
              "      <td>58</td>\n",
              "      <td>80</td>\n",
              "      <td>65</td>\n",
              "      <td>80</td>\n",
              "      <td>1</td>\n",
              "      <td>0</td>\n",
              "    </tr>\n",
              "    <tr>\n",
              "      <th>...</th>\n",
              "      <td>...</td>\n",
              "      <td>...</td>\n",
              "      <td>...</td>\n",
              "      <td>...</td>\n",
              "      <td>...</td>\n",
              "      <td>...</td>\n",
              "      <td>...</td>\n",
              "      <td>...</td>\n",
              "      <td>...</td>\n",
              "      <td>...</td>\n",
              "      <td>...</td>\n",
              "    </tr>\n",
              "    <tr>\n",
              "      <th>715</th>\n",
              "      <td>0</td>\n",
              "      <td>18.0</td>\n",
              "      <td>535</td>\n",
              "      <td>85</td>\n",
              "      <td>70</td>\n",
              "      <td>80</td>\n",
              "      <td>97</td>\n",
              "      <td>80</td>\n",
              "      <td>123</td>\n",
              "      <td>6</td>\n",
              "      <td>0</td>\n",
              "    </tr>\n",
              "    <tr>\n",
              "      <th>716</th>\n",
              "      <td>2</td>\n",
              "      <td>19.0</td>\n",
              "      <td>680</td>\n",
              "      <td>126</td>\n",
              "      <td>131</td>\n",
              "      <td>95</td>\n",
              "      <td>131</td>\n",
              "      <td>98</td>\n",
              "      <td>99</td>\n",
              "      <td>6</td>\n",
              "      <td>1</td>\n",
              "    </tr>\n",
              "    <tr>\n",
              "      <th>717</th>\n",
              "      <td>17</td>\n",
              "      <td>0.0</td>\n",
              "      <td>680</td>\n",
              "      <td>126</td>\n",
              "      <td>131</td>\n",
              "      <td>95</td>\n",
              "      <td>131</td>\n",
              "      <td>98</td>\n",
              "      <td>99</td>\n",
              "      <td>6</td>\n",
              "      <td>1</td>\n",
              "    </tr>\n",
              "    <tr>\n",
              "      <th>719</th>\n",
              "      <td>16</td>\n",
              "      <td>2.0</td>\n",
              "      <td>600</td>\n",
              "      <td>50</td>\n",
              "      <td>100</td>\n",
              "      <td>150</td>\n",
              "      <td>100</td>\n",
              "      <td>150</td>\n",
              "      <td>50</td>\n",
              "      <td>6</td>\n",
              "      <td>1</td>\n",
              "    </tr>\n",
              "    <tr>\n",
              "      <th>721</th>\n",
              "      <td>8</td>\n",
              "      <td>3.0</td>\n",
              "      <td>600</td>\n",
              "      <td>80</td>\n",
              "      <td>110</td>\n",
              "      <td>120</td>\n",
              "      <td>130</td>\n",
              "      <td>90</td>\n",
              "      <td>70</td>\n",
              "      <td>6</td>\n",
              "      <td>1</td>\n",
              "    </tr>\n",
              "  </tbody>\n",
              "</table>\n",
              "<p>698 rows × 11 columns</p>\n",
              "</div>\n",
              "      <button class=\"colab-df-convert\" onclick=\"convertToInteractive('df-bf73f05e-cdcb-4a19-81bb-cdae7e98377f')\"\n",
              "              title=\"Convert this dataframe to an interactive table.\"\n",
              "              style=\"display:none;\">\n",
              "        \n",
              "  <svg xmlns=\"http://www.w3.org/2000/svg\" height=\"24px\"viewBox=\"0 0 24 24\"\n",
              "       width=\"24px\">\n",
              "    <path d=\"M0 0h24v24H0V0z\" fill=\"none\"/>\n",
              "    <path d=\"M18.56 5.44l.94 2.06.94-2.06 2.06-.94-2.06-.94-.94-2.06-.94 2.06-2.06.94zm-11 1L8.5 8.5l.94-2.06 2.06-.94-2.06-.94L8.5 2.5l-.94 2.06-2.06.94zm10 10l.94 2.06.94-2.06 2.06-.94-2.06-.94-.94-2.06-.94 2.06-2.06.94z\"/><path d=\"M17.41 7.96l-1.37-1.37c-.4-.4-.92-.59-1.43-.59-.52 0-1.04.2-1.43.59L10.3 9.45l-7.72 7.72c-.78.78-.78 2.05 0 2.83L4 21.41c.39.39.9.59 1.41.59.51 0 1.02-.2 1.41-.59l7.78-7.78 2.81-2.81c.8-.78.8-2.07 0-2.86zM5.41 20L4 18.59l7.72-7.72 1.47 1.35L5.41 20z\"/>\n",
              "  </svg>\n",
              "      </button>\n",
              "      \n",
              "  <style>\n",
              "    .colab-df-container {\n",
              "      display:flex;\n",
              "      flex-wrap:wrap;\n",
              "      gap: 12px;\n",
              "    }\n",
              "\n",
              "    .colab-df-convert {\n",
              "      background-color: #E8F0FE;\n",
              "      border: none;\n",
              "      border-radius: 50%;\n",
              "      cursor: pointer;\n",
              "      display: none;\n",
              "      fill: #1967D2;\n",
              "      height: 32px;\n",
              "      padding: 0 0 0 0;\n",
              "      width: 32px;\n",
              "    }\n",
              "\n",
              "    .colab-df-convert:hover {\n",
              "      background-color: #E2EBFA;\n",
              "      box-shadow: 0px 1px 2px rgba(60, 64, 67, 0.3), 0px 1px 3px 1px rgba(60, 64, 67, 0.15);\n",
              "      fill: #174EA6;\n",
              "    }\n",
              "\n",
              "    [theme=dark] .colab-df-convert {\n",
              "      background-color: #3B4455;\n",
              "      fill: #D2E3FC;\n",
              "    }\n",
              "\n",
              "    [theme=dark] .colab-df-convert:hover {\n",
              "      background-color: #434B5C;\n",
              "      box-shadow: 0px 1px 3px 1px rgba(0, 0, 0, 0.15);\n",
              "      filter: drop-shadow(0px 1px 2px rgba(0, 0, 0, 0.3));\n",
              "      fill: #FFFFFF;\n",
              "    }\n",
              "  </style>\n",
              "\n",
              "      <script>\n",
              "        const buttonEl =\n",
              "          document.querySelector('#df-bf73f05e-cdcb-4a19-81bb-cdae7e98377f button.colab-df-convert');\n",
              "        buttonEl.style.display =\n",
              "          google.colab.kernel.accessAllowed ? 'block' : 'none';\n",
              "\n",
              "        async function convertToInteractive(key) {\n",
              "          const element = document.querySelector('#df-bf73f05e-cdcb-4a19-81bb-cdae7e98377f');\n",
              "          const dataTable =\n",
              "            await google.colab.kernel.invokeFunction('convertToInteractive',\n",
              "                                                     [key], {});\n",
              "          if (!dataTable) return;\n",
              "\n",
              "          const docLinkHtml = 'Like what you see? Visit the ' +\n",
              "            '<a target=\"_blank\" href=https://colab.research.google.com/notebooks/data_table.ipynb>data table notebook</a>'\n",
              "            + ' to learn more about interactive tables.';\n",
              "          element.innerHTML = '';\n",
              "          dataTable['output_type'] = 'display_data';\n",
              "          await google.colab.output.renderOutput(dataTable, element);\n",
              "          const docLink = document.createElement('div');\n",
              "          docLink.innerHTML = docLinkHtml;\n",
              "          element.appendChild(docLink);\n",
              "        }\n",
              "      </script>\n",
              "    </div>\n",
              "  </div>\n",
              "  "
            ]
          },
          "metadata": {},
          "execution_count": 48
        }
      ]
    },
    {
      "cell_type": "code",
      "source": [
        "#Hay que resetear el índice, porque labels me da el número de fila\n",
        "df=df.reset_index()"
      ],
      "metadata": {
        "id": "EYeuyxgE0Ofq"
      },
      "execution_count": null,
      "outputs": []
    },
    {
      "cell_type": "markdown",
      "source": [
        "## Cluster"
      ],
      "metadata": {
        "id": "9xvATUP5q9jI"
      }
    },
    {
      "cell_type": "markdown",
      "source": [
        "Creo 1 dataframe para cada cluster. El cual contiene HP, Attack, Defense y Speed de cada pokemon de ese cluster."
      ],
      "metadata": {
        "id": "byQZSaK1Rozz"
      }
    },
    {
      "cell_type": "code",
      "source": [
        "columnas=['HP', 'Attack', 'Defense', 'Speed']\n",
        "k=0\n",
        "df_cluster0=df['#']\n",
        "#Recorro las columnas que quiero poner en el hisograma\n",
        "for columna in columnas:\n",
        "  #Me quedo con la posicón de esa columna en la lista columnas\n",
        "  col=list(df.columns).index(columna)\n",
        "  #Me quedo con todas posiciones de las filas de cada cluster, por ahora la del 0\n",
        "  filas=np.nonzero(labels==k)[0]\n",
        "  #Las filas de interes:\n",
        "  todas_filas=list(df.iloc[filas, col])\n",
        "  #id_pokemon\n",
        "  pos_idpoke= list(df.columns).index('#')\n",
        "  id_pokemon=list(df.iloc[filas,pos_idpoke])\n",
        "  #creo un dataframe auxiliar:\n",
        "  df_aux=pd.DataFrame({columna: todas_filas,'#': id_pokemon})\n",
        "  df_cluster0=pd.merge(df_cluster0, df_aux, how='inner', on='#')"
      ],
      "metadata": {
        "id": "cha6h09avVG1"
      },
      "execution_count": null,
      "outputs": []
    },
    {
      "cell_type": "code",
      "source": [
        "k=1\n",
        "df_cluster1=df['#']\n",
        "#Recorro las columnas que quiero poner en el hisograma\n",
        "for columna in columnas:\n",
        "  #Me quedo con la posicón de esa columna en la lista columnas\n",
        "  col=list(df.columns).index(columna)\n",
        "  #Me quedo con todas posiciones de las filas de cada cluster, por ahora la del 0\n",
        "  filas=np.nonzero(labels==k)[0]\n",
        "  #Las filas de interes:\n",
        "  todas_filas=list(df.iloc[filas, col])\n",
        "  #id_pokemon\n",
        "  pos_idpoke= list(df.columns).index('#')\n",
        "  id_pokemon=list(df.iloc[filas,pos_idpoke])\n",
        "  #creo un dataframe auxiliar:\n",
        "  df_aux=pd.DataFrame({columna: todas_filas,'#': id_pokemon})\n",
        "  df_cluster1=pd.merge(df_cluster1, df_aux, how='inner', on='#')\n",
        "\n",
        "###################################################################\n",
        "k=2\n",
        "df_cluster2=df['#']\n",
        "#Recorro las columnas que quiero poner en el hisograma\n",
        "for columna in columnas:\n",
        "  #Me quedo con la posicón de esa columna en la lista columnas\n",
        "  col=list(df.columns).index(columna)\n",
        "  #Me quedo con todas posiciones de las filas de cada cluster, por ahora la del 0\n",
        "  filas=np.nonzero(labels==k)[0]\n",
        "  #Las filas de interes:\n",
        "  todas_filas=list(df.iloc[filas, col])\n",
        "  #id_pokemon\n",
        "  pos_idpoke= list(df.columns).index('#')\n",
        "  id_pokemon=list(df.iloc[filas,pos_idpoke])\n",
        "  #creo un dataframe auxiliar:\n",
        "  df_aux=pd.DataFrame({columna: todas_filas,'#': id_pokemon})\n",
        "  df_cluster2=pd.merge(df_cluster2, df_aux, how='inner', on='#')\n",
        "################################################\n",
        "k=3\n",
        "df_cluster3=df['#']\n",
        "#Recorro las columnas que quiero poner en el hisograma\n",
        "for columna in columnas:\n",
        "  #Me quedo con la posicón de esa columna en la lista columnas\n",
        "  col=list(df.columns).index(columna)\n",
        "  #Me quedo con todas posiciones de las filas de cada cluster, por ahora la del 0\n",
        "  filas=np.nonzero(labels==k)[0]\n",
        "  #Las filas de interes:\n",
        "  todas_filas=list(df.iloc[filas, col])\n",
        "  #id_pokemon\n",
        "  pos_idpoke= list(df.columns).index('#')\n",
        "  id_pokemon=list(df.iloc[filas,pos_idpoke])\n",
        "  #creo un dataframe auxiliar:\n",
        "  df_aux=pd.DataFrame({columna: todas_filas,'#': id_pokemon})\n",
        "  df_cluster3=pd.merge(df_cluster3, df_aux, how='inner', on='#')\n",
        "\n",
        "####################################################\n",
        "k=4\n",
        "df_cluster4=df['#']\n",
        "#Recorro las columnas que quiero poner en el hisograma\n",
        "for columna in columnas:\n",
        "  #Me quedo con la posicón de esa columna en la lista columnas\n",
        "  col=list(df.columns).index(columna)\n",
        "  #Me quedo con todas posiciones de las filas de cada cluster, por ahora la del 0\n",
        "  filas=np.nonzero(labels==k)[0]\n",
        "  #Las filas de interes:\n",
        "  todas_filas=list(df.iloc[filas, col])\n",
        "  #id_pokemon\n",
        "  pos_idpoke= list(df.columns).index('#')\n",
        "  id_pokemon=list(df.iloc[filas,pos_idpoke])\n",
        "  #creo un dataframe auxiliar:\n",
        "  df_aux=pd.DataFrame({columna: todas_filas,'#': id_pokemon})\n",
        "  df_cluster4=pd.merge(df_cluster4, df_aux, how='inner', on='#')\n",
        "\n",
        "############################################################################\n",
        "k=5\n",
        "df_cluster5=df['#']\n",
        "#Recorro las columnas que quiero poner en el hisograma\n",
        "for columna in columnas:\n",
        "  #Me quedo con la posicón de esa columna en la lista columnas\n",
        "  col=list(df.columns).index(columna)\n",
        "  #Me quedo con todas posiciones de las filas de cada cluster, por ahora la del 0\n",
        "  filas=np.nonzero(labels==k)[0]\n",
        "  #Las filas de interes:\n",
        "  todas_filas=list(df.iloc[filas, col])\n",
        "  #id_pokemon\n",
        "  pos_idpoke= list(df.columns).index('#')\n",
        "  id_pokemon=list(df.iloc[filas,pos_idpoke])\n",
        "  #creo un dataframe auxiliar:\n",
        "  df_aux=pd.DataFrame({columna: todas_filas,'#': id_pokemon})\n",
        "  df_cluster5=pd.merge(df_cluster5, df_aux, how='inner', on='#')\n",
        "\n",
        "#############################################################################\n",
        "k=6\n",
        "df_cluster6=df['#']\n",
        "#Recorro las columnas que quiero poner en el hisograma\n",
        "for columna in columnas:\n",
        "  #Me quedo con la posicón de esa columna en la lista columnas\n",
        "  col=list(df.columns).index(columna)\n",
        "  #Me quedo con todas posiciones de las filas de cada cluster, por ahora la del 0\n",
        "  filas=np.nonzero(labels==k)[0]\n",
        "  #Las filas de interes:\n",
        "  todas_filas=list(df.iloc[filas, col])\n",
        "  #id_pokemon\n",
        "  pos_idpoke= list(df.columns).index('#')\n",
        "  id_pokemon=list(df.iloc[filas,pos_idpoke])\n",
        "  #creo un dataframe auxiliar:\n",
        "  df_aux=pd.DataFrame({columna: todas_filas,'#': id_pokemon})\n",
        "  df_cluster6=pd.merge(df_cluster6, df_aux, how='inner', on='#')\n",
        "\n",
        "#################################################################\n",
        "k=7\n",
        "df_cluster7=df['#']\n",
        "#Recorro las columnas que quiero poner en el hisograma\n",
        "for columna in columnas:\n",
        "  #Me quedo con la posicón de esa columna en la lista columnas\n",
        "  col=list(df.columns).index(columna)\n",
        "  #Me quedo con todas posiciones de las filas de cada cluster, por ahora la del 0\n",
        "  filas=np.nonzero(labels==k)[0]\n",
        "  #Las filas de interes:\n",
        "  todas_filas=list(df.iloc[filas, col])\n",
        "  #id_pokemon\n",
        "  pos_idpoke= list(df.columns).index('#')\n",
        "  id_pokemon=list(df.iloc[filas,pos_idpoke])\n",
        "  #creo un dataframe auxiliar:\n",
        "  df_aux=pd.DataFrame({columna: todas_filas,'#': id_pokemon})\n",
        "  df_cluster7=pd.merge(df_cluster7, df_aux, how='inner', on='#')\n"
      ],
      "metadata": {
        "id": "d-IbwfiUIcrz"
      },
      "execution_count": null,
      "outputs": []
    },
    {
      "cell_type": "markdown",
      "source": [
        "Vuelvo a colocarle el índice:"
      ],
      "metadata": {
        "id": "S08XoILTQ14e"
      }
    },
    {
      "cell_type": "code",
      "source": [
        "df_cluster0=df_cluster0.set_index('#')\n",
        "df_cluster1=df_cluster1.set_index('#')\n",
        "df_cluster2=df_cluster2.set_index('#')\n",
        "df_cluster3=df_cluster3.set_index('#')\n",
        "df_cluster4=df_cluster4.set_index('#')\n",
        "df_cluster5=df_cluster5.set_index('#')\n",
        "df_cluster6=df_cluster6.set_index('#')\n",
        "df_cluster7=df_cluster7.set_index('#')"
      ],
      "metadata": {
        "id": "Qg6Fa6P6oKf_"
      },
      "execution_count": null,
      "outputs": []
    },
    {
      "cell_type": "markdown",
      "source": [
        "Un ejemplo de como quedaron los dataframe de 'df_cluster'. Ahora que tengo cadaatributo que quiero graficar, voy a calcular el valor promedio:"
      ],
      "metadata": {
        "id": "42Q5iY84Q53L"
      }
    },
    {
      "cell_type": "code",
      "source": [
        "df_cluster7"
      ],
      "metadata": {
        "colab": {
          "base_uri": "https://localhost:8080/",
          "height": 455
        },
        "id": "DhdfaRbaiLyv",
        "outputId": "2beab19c-eb9a-4ce4-d147-b1ec8376da9b"
      },
      "execution_count": null,
      "outputs": [
        {
          "output_type": "execute_result",
          "data": {
            "text/plain": [
              "     HP  Attack  Defense  Speed\n",
              "#                              \n",
              "3    80      82       83     80\n",
              "5    58      64       58     80\n",
              "8    59      63       80     58\n",
              "19   30      56       35     72\n",
              "26   60      90       55    110\n",
              "..   ..     ...      ...    ...\n",
              "682  78      52       60     23\n",
              "685  82      80       86     72\n",
              "689  72     105      115     68\n",
              "696  58      89       77     48\n",
              "697  82     121      119     71\n",
              "\n",
              "[100 rows x 4 columns]"
            ],
            "text/html": [
              "\n",
              "  <div id=\"df-8690c1c9-e4ed-491a-90a3-346cf2630e58\">\n",
              "    <div class=\"colab-df-container\">\n",
              "      <div>\n",
              "<style scoped>\n",
              "    .dataframe tbody tr th:only-of-type {\n",
              "        vertical-align: middle;\n",
              "    }\n",
              "\n",
              "    .dataframe tbody tr th {\n",
              "        vertical-align: top;\n",
              "    }\n",
              "\n",
              "    .dataframe thead th {\n",
              "        text-align: right;\n",
              "    }\n",
              "</style>\n",
              "<table border=\"1\" class=\"dataframe\">\n",
              "  <thead>\n",
              "    <tr style=\"text-align: right;\">\n",
              "      <th></th>\n",
              "      <th>HP</th>\n",
              "      <th>Attack</th>\n",
              "      <th>Defense</th>\n",
              "      <th>Speed</th>\n",
              "    </tr>\n",
              "    <tr>\n",
              "      <th>#</th>\n",
              "      <th></th>\n",
              "      <th></th>\n",
              "      <th></th>\n",
              "      <th></th>\n",
              "    </tr>\n",
              "  </thead>\n",
              "  <tbody>\n",
              "    <tr>\n",
              "      <th>3</th>\n",
              "      <td>80</td>\n",
              "      <td>82</td>\n",
              "      <td>83</td>\n",
              "      <td>80</td>\n",
              "    </tr>\n",
              "    <tr>\n",
              "      <th>5</th>\n",
              "      <td>58</td>\n",
              "      <td>64</td>\n",
              "      <td>58</td>\n",
              "      <td>80</td>\n",
              "    </tr>\n",
              "    <tr>\n",
              "      <th>8</th>\n",
              "      <td>59</td>\n",
              "      <td>63</td>\n",
              "      <td>80</td>\n",
              "      <td>58</td>\n",
              "    </tr>\n",
              "    <tr>\n",
              "      <th>19</th>\n",
              "      <td>30</td>\n",
              "      <td>56</td>\n",
              "      <td>35</td>\n",
              "      <td>72</td>\n",
              "    </tr>\n",
              "    <tr>\n",
              "      <th>26</th>\n",
              "      <td>60</td>\n",
              "      <td>90</td>\n",
              "      <td>55</td>\n",
              "      <td>110</td>\n",
              "    </tr>\n",
              "    <tr>\n",
              "      <th>...</th>\n",
              "      <td>...</td>\n",
              "      <td>...</td>\n",
              "      <td>...</td>\n",
              "      <td>...</td>\n",
              "    </tr>\n",
              "    <tr>\n",
              "      <th>682</th>\n",
              "      <td>78</td>\n",
              "      <td>52</td>\n",
              "      <td>60</td>\n",
              "      <td>23</td>\n",
              "    </tr>\n",
              "    <tr>\n",
              "      <th>685</th>\n",
              "      <td>82</td>\n",
              "      <td>80</td>\n",
              "      <td>86</td>\n",
              "      <td>72</td>\n",
              "    </tr>\n",
              "    <tr>\n",
              "      <th>689</th>\n",
              "      <td>72</td>\n",
              "      <td>105</td>\n",
              "      <td>115</td>\n",
              "      <td>68</td>\n",
              "    </tr>\n",
              "    <tr>\n",
              "      <th>696</th>\n",
              "      <td>58</td>\n",
              "      <td>89</td>\n",
              "      <td>77</td>\n",
              "      <td>48</td>\n",
              "    </tr>\n",
              "    <tr>\n",
              "      <th>697</th>\n",
              "      <td>82</td>\n",
              "      <td>121</td>\n",
              "      <td>119</td>\n",
              "      <td>71</td>\n",
              "    </tr>\n",
              "  </tbody>\n",
              "</table>\n",
              "<p>100 rows × 4 columns</p>\n",
              "</div>\n",
              "      <button class=\"colab-df-convert\" onclick=\"convertToInteractive('df-8690c1c9-e4ed-491a-90a3-346cf2630e58')\"\n",
              "              title=\"Convert this dataframe to an interactive table.\"\n",
              "              style=\"display:none;\">\n",
              "        \n",
              "  <svg xmlns=\"http://www.w3.org/2000/svg\" height=\"24px\"viewBox=\"0 0 24 24\"\n",
              "       width=\"24px\">\n",
              "    <path d=\"M0 0h24v24H0V0z\" fill=\"none\"/>\n",
              "    <path d=\"M18.56 5.44l.94 2.06.94-2.06 2.06-.94-2.06-.94-.94-2.06-.94 2.06-2.06.94zm-11 1L8.5 8.5l.94-2.06 2.06-.94-2.06-.94L8.5 2.5l-.94 2.06-2.06.94zm10 10l.94 2.06.94-2.06 2.06-.94-2.06-.94-.94-2.06-.94 2.06-2.06.94z\"/><path d=\"M17.41 7.96l-1.37-1.37c-.4-.4-.92-.59-1.43-.59-.52 0-1.04.2-1.43.59L10.3 9.45l-7.72 7.72c-.78.78-.78 2.05 0 2.83L4 21.41c.39.39.9.59 1.41.59.51 0 1.02-.2 1.41-.59l7.78-7.78 2.81-2.81c.8-.78.8-2.07 0-2.86zM5.41 20L4 18.59l7.72-7.72 1.47 1.35L5.41 20z\"/>\n",
              "  </svg>\n",
              "      </button>\n",
              "      \n",
              "  <style>\n",
              "    .colab-df-container {\n",
              "      display:flex;\n",
              "      flex-wrap:wrap;\n",
              "      gap: 12px;\n",
              "    }\n",
              "\n",
              "    .colab-df-convert {\n",
              "      background-color: #E8F0FE;\n",
              "      border: none;\n",
              "      border-radius: 50%;\n",
              "      cursor: pointer;\n",
              "      display: none;\n",
              "      fill: #1967D2;\n",
              "      height: 32px;\n",
              "      padding: 0 0 0 0;\n",
              "      width: 32px;\n",
              "    }\n",
              "\n",
              "    .colab-df-convert:hover {\n",
              "      background-color: #E2EBFA;\n",
              "      box-shadow: 0px 1px 2px rgba(60, 64, 67, 0.3), 0px 1px 3px 1px rgba(60, 64, 67, 0.15);\n",
              "      fill: #174EA6;\n",
              "    }\n",
              "\n",
              "    [theme=dark] .colab-df-convert {\n",
              "      background-color: #3B4455;\n",
              "      fill: #D2E3FC;\n",
              "    }\n",
              "\n",
              "    [theme=dark] .colab-df-convert:hover {\n",
              "      background-color: #434B5C;\n",
              "      box-shadow: 0px 1px 3px 1px rgba(0, 0, 0, 0.15);\n",
              "      filter: drop-shadow(0px 1px 2px rgba(0, 0, 0, 0.3));\n",
              "      fill: #FFFFFF;\n",
              "    }\n",
              "  </style>\n",
              "\n",
              "      <script>\n",
              "        const buttonEl =\n",
              "          document.querySelector('#df-8690c1c9-e4ed-491a-90a3-346cf2630e58 button.colab-df-convert');\n",
              "        buttonEl.style.display =\n",
              "          google.colab.kernel.accessAllowed ? 'block' : 'none';\n",
              "\n",
              "        async function convertToInteractive(key) {\n",
              "          const element = document.querySelector('#df-8690c1c9-e4ed-491a-90a3-346cf2630e58');\n",
              "          const dataTable =\n",
              "            await google.colab.kernel.invokeFunction('convertToInteractive',\n",
              "                                                     [key], {});\n",
              "          if (!dataTable) return;\n",
              "\n",
              "          const docLinkHtml = 'Like what you see? Visit the ' +\n",
              "            '<a target=\"_blank\" href=https://colab.research.google.com/notebooks/data_table.ipynb>data table notebook</a>'\n",
              "            + ' to learn more about interactive tables.';\n",
              "          element.innerHTML = '';\n",
              "          dataTable['output_type'] = 'display_data';\n",
              "          await google.colab.output.renderOutput(dataTable, element);\n",
              "          const docLink = document.createElement('div');\n",
              "          docLink.innerHTML = docLinkHtml;\n",
              "          element.appendChild(docLink);\n",
              "        }\n",
              "      </script>\n",
              "    </div>\n",
              "  </div>\n",
              "  "
            ]
          },
          "metadata": {},
          "execution_count": 53
        }
      ]
    },
    {
      "cell_type": "markdown",
      "source": [
        "Caluclo los valores medios de cada atributo:"
      ],
      "metadata": {
        "id": "8hGLa601RIAu"
      }
    },
    {
      "cell_type": "code",
      "source": [
        "valor_medio_c0=[]\n",
        "valor_medio_c1=[]\n",
        "valor_medio_c2=[]\n",
        "valor_medio_c3=[]\n",
        "valor_medio_c4=[]\n",
        "valor_medio_c5=[]\n",
        "valor_medio_c6=[]\n",
        "valor_medio_c7=[]\n",
        "for columna in df_cluster0.columns:\n",
        "  valor_medio_c0.append(df_cluster0[columna].mean())\n",
        "  valor_medio_c1.append(df_cluster1[columna].mean())\n",
        "  valor_medio_c2.append(df_cluster2[columna].mean())\n",
        "  valor_medio_c3.append(df_cluster3[columna].mean())\n",
        "  valor_medio_c4.append(df_cluster4[columna].mean())\n",
        "  valor_medio_c5.append(df_cluster5[columna].mean())\n",
        "  valor_medio_c6.append(df_cluster6[columna].mean())\n",
        "  valor_medio_c7.append(df_cluster7[columna].mean())"
      ],
      "metadata": {
        "id": "2VGhnqEzst4q"
      },
      "execution_count": null,
      "outputs": []
    },
    {
      "cell_type": "code",
      "source": [
        "df_vm_c0=pd.DataFrame({'ValorMedio':valor_medio_c0})\n",
        "df_vm_c1=pd.DataFrame({'ValorMedio':valor_medio_c1})\n",
        "df_vm_c2=pd.DataFrame({'ValorMedio':valor_medio_c2})\n",
        "df_vm_c3=pd.DataFrame({'ValorMedio':valor_medio_c3})\n",
        "df_vm_c4=pd.DataFrame({'ValorMedio':valor_medio_c4})\n",
        "df_vm_c5=pd.DataFrame({'ValorMedio':valor_medio_c5})\n",
        "df_vm_c6=pd.DataFrame({'ValorMedio':valor_medio_c6})\n",
        "df_vm_c7=pd.DataFrame({'ValorMedio':valor_medio_c7})"
      ],
      "metadata": {
        "id": "1wCIKNaoRs1s"
      },
      "execution_count": null,
      "outputs": []
    },
    {
      "cell_type": "code",
      "source": [
        "list(df_cluster1.columns)"
      ],
      "metadata": {
        "colab": {
          "base_uri": "https://localhost:8080/"
        },
        "id": "mNVS1AsUxIGf",
        "outputId": "36e76df9-4015-4e3d-d1f2-7bcf4976ff30"
      },
      "execution_count": null,
      "outputs": [
        {
          "output_type": "execute_result",
          "data": {
            "text/plain": [
              "['HP', 'Attack', 'Defense', 'Speed']"
            ]
          },
          "metadata": {},
          "execution_count": 177
        }
      ]
    },
    {
      "cell_type": "code",
      "source": [
        "df_c0=df_vm_c0.assign(Atributos=list(df_cluster0.columns))\n",
        "df_c0.pop('ValorMedio')\n",
        "df_c0=df_c0.assign(ValorMedio=df_vm_c0)\n",
        "\n",
        "df_c1=df_vm_c1.assign(Atributos=list(df_cluster1.columns))\n",
        "df_c1.pop('ValorMedio')\n",
        "df_c1=df_c1.assign(ValorMedio=df_vm_c1)\n",
        "\n",
        "df_c2=df_vm_c2.assign(Atributos=list(df_cluster2.columns))\n",
        "df_c2.pop('ValorMedio')\n",
        "df_c2=df_c2.assign(ValorMedio=df_vm_c2)\n",
        "\n",
        "df_c3=df_vm_c3.assign(Atributos=list(df_cluster3.columns))\n",
        "df_c3.pop('ValorMedio')\n",
        "df_c3=df_c3.assign(ValorMedio=df_vm_c3)\n",
        "\n",
        "df_c4=df_vm_c4.assign(Atributos=list(df_cluster4.columns))\n",
        "df_c4.pop('ValorMedio')\n",
        "df_c4=df_c4.assign(ValorMedio=df_vm_c4)\n",
        "\n",
        "df_c5=df_vm_c5.assign(Atributos=list(df_cluster5.columns))\n",
        "df_c5.pop('ValorMedio')\n",
        "df_c5=df_c5.assign(ValorMedio=df_vm_c5)\n",
        "\n",
        "df_c6=df_vm_c6.assign(Atributos=list(df_cluster6.columns))\n",
        "df_c6.pop('ValorMedio')\n",
        "df_c6=df_c6.assign(ValorMedio=df_vm_c6)\n",
        "\n",
        "df_c7=df_vm_c7.assign(Atributos=list(df_cluster7.columns))\n",
        "df_c7.pop('ValorMedio')\n",
        "df_c7=df_c7.assign(ValorMedio=df_vm_c7)"
      ],
      "metadata": {
        "id": "KG1vlvOKtOU0"
      },
      "execution_count": null,
      "outputs": []
    },
    {
      "cell_type": "code",
      "source": [
        "df_c0"
      ],
      "metadata": {
        "colab": {
          "base_uri": "https://localhost:8080/",
          "height": 175
        },
        "id": "aUCf0eLBlNcT",
        "outputId": "eb246bf6-3e4e-4c61-c8d8-be6d898424e5"
      },
      "execution_count": null,
      "outputs": [
        {
          "output_type": "execute_result",
          "data": {
            "text/plain": [
              "  Atributos  ValorMedio\n",
              "0        HP   67.606557\n",
              "1    Attack   74.655738\n",
              "2   Defense   71.131148\n",
              "3     Speed   67.049180"
            ],
            "text/html": [
              "\n",
              "  <div id=\"df-d123a114-7610-44a9-9452-476a7fc7296d\">\n",
              "    <div class=\"colab-df-container\">\n",
              "      <div>\n",
              "<style scoped>\n",
              "    .dataframe tbody tr th:only-of-type {\n",
              "        vertical-align: middle;\n",
              "    }\n",
              "\n",
              "    .dataframe tbody tr th {\n",
              "        vertical-align: top;\n",
              "    }\n",
              "\n",
              "    .dataframe thead th {\n",
              "        text-align: right;\n",
              "    }\n",
              "</style>\n",
              "<table border=\"1\" class=\"dataframe\">\n",
              "  <thead>\n",
              "    <tr style=\"text-align: right;\">\n",
              "      <th></th>\n",
              "      <th>Atributos</th>\n",
              "      <th>ValorMedio</th>\n",
              "    </tr>\n",
              "  </thead>\n",
              "  <tbody>\n",
              "    <tr>\n",
              "      <th>0</th>\n",
              "      <td>HP</td>\n",
              "      <td>67.606557</td>\n",
              "    </tr>\n",
              "    <tr>\n",
              "      <th>1</th>\n",
              "      <td>Attack</td>\n",
              "      <td>74.655738</td>\n",
              "    </tr>\n",
              "    <tr>\n",
              "      <th>2</th>\n",
              "      <td>Defense</td>\n",
              "      <td>71.131148</td>\n",
              "    </tr>\n",
              "    <tr>\n",
              "      <th>3</th>\n",
              "      <td>Speed</td>\n",
              "      <td>67.049180</td>\n",
              "    </tr>\n",
              "  </tbody>\n",
              "</table>\n",
              "</div>\n",
              "      <button class=\"colab-df-convert\" onclick=\"convertToInteractive('df-d123a114-7610-44a9-9452-476a7fc7296d')\"\n",
              "              title=\"Convert this dataframe to an interactive table.\"\n",
              "              style=\"display:none;\">\n",
              "        \n",
              "  <svg xmlns=\"http://www.w3.org/2000/svg\" height=\"24px\"viewBox=\"0 0 24 24\"\n",
              "       width=\"24px\">\n",
              "    <path d=\"M0 0h24v24H0V0z\" fill=\"none\"/>\n",
              "    <path d=\"M18.56 5.44l.94 2.06.94-2.06 2.06-.94-2.06-.94-.94-2.06-.94 2.06-2.06.94zm-11 1L8.5 8.5l.94-2.06 2.06-.94-2.06-.94L8.5 2.5l-.94 2.06-2.06.94zm10 10l.94 2.06.94-2.06 2.06-.94-2.06-.94-.94-2.06-.94 2.06-2.06.94z\"/><path d=\"M17.41 7.96l-1.37-1.37c-.4-.4-.92-.59-1.43-.59-.52 0-1.04.2-1.43.59L10.3 9.45l-7.72 7.72c-.78.78-.78 2.05 0 2.83L4 21.41c.39.39.9.59 1.41.59.51 0 1.02-.2 1.41-.59l7.78-7.78 2.81-2.81c.8-.78.8-2.07 0-2.86zM5.41 20L4 18.59l7.72-7.72 1.47 1.35L5.41 20z\"/>\n",
              "  </svg>\n",
              "      </button>\n",
              "      \n",
              "  <style>\n",
              "    .colab-df-container {\n",
              "      display:flex;\n",
              "      flex-wrap:wrap;\n",
              "      gap: 12px;\n",
              "    }\n",
              "\n",
              "    .colab-df-convert {\n",
              "      background-color: #E8F0FE;\n",
              "      border: none;\n",
              "      border-radius: 50%;\n",
              "      cursor: pointer;\n",
              "      display: none;\n",
              "      fill: #1967D2;\n",
              "      height: 32px;\n",
              "      padding: 0 0 0 0;\n",
              "      width: 32px;\n",
              "    }\n",
              "\n",
              "    .colab-df-convert:hover {\n",
              "      background-color: #E2EBFA;\n",
              "      box-shadow: 0px 1px 2px rgba(60, 64, 67, 0.3), 0px 1px 3px 1px rgba(60, 64, 67, 0.15);\n",
              "      fill: #174EA6;\n",
              "    }\n",
              "\n",
              "    [theme=dark] .colab-df-convert {\n",
              "      background-color: #3B4455;\n",
              "      fill: #D2E3FC;\n",
              "    }\n",
              "\n",
              "    [theme=dark] .colab-df-convert:hover {\n",
              "      background-color: #434B5C;\n",
              "      box-shadow: 0px 1px 3px 1px rgba(0, 0, 0, 0.15);\n",
              "      filter: drop-shadow(0px 1px 2px rgba(0, 0, 0, 0.3));\n",
              "      fill: #FFFFFF;\n",
              "    }\n",
              "  </style>\n",
              "\n",
              "      <script>\n",
              "        const buttonEl =\n",
              "          document.querySelector('#df-d123a114-7610-44a9-9452-476a7fc7296d button.colab-df-convert');\n",
              "        buttonEl.style.display =\n",
              "          google.colab.kernel.accessAllowed ? 'block' : 'none';\n",
              "\n",
              "        async function convertToInteractive(key) {\n",
              "          const element = document.querySelector('#df-d123a114-7610-44a9-9452-476a7fc7296d');\n",
              "          const dataTable =\n",
              "            await google.colab.kernel.invokeFunction('convertToInteractive',\n",
              "                                                     [key], {});\n",
              "          if (!dataTable) return;\n",
              "\n",
              "          const docLinkHtml = 'Like what you see? Visit the ' +\n",
              "            '<a target=\"_blank\" href=https://colab.research.google.com/notebooks/data_table.ipynb>data table notebook</a>'\n",
              "            + ' to learn more about interactive tables.';\n",
              "          element.innerHTML = '';\n",
              "          dataTable['output_type'] = 'display_data';\n",
              "          await google.colab.output.renderOutput(dataTable, element);\n",
              "          const docLink = document.createElement('div');\n",
              "          docLink.innerHTML = docLinkHtml;\n",
              "          element.appendChild(docLink);\n",
              "        }\n",
              "      </script>\n",
              "    </div>\n",
              "  </div>\n",
              "  "
            ]
          },
          "metadata": {},
          "execution_count": 179
        }
      ]
    },
    {
      "cell_type": "markdown",
      "source": [
        "## 4) Atributos 'HP', 'Attack', 'Defense', 'Speed', en promedio por cluster:"
      ],
      "metadata": {
        "id": "18zSYSp8YRdT"
      }
    },
    {
      "cell_type": "code",
      "source": [
        "dataframes_plot=[df_c0, df_c1, df_c2, df_c3, df_c4, df_c5, df_c6, df_c7]\n",
        "nro_clusters=len(dataframes_plot)"
      ],
      "metadata": {
        "id": "-rR2g6f0Vjmn"
      },
      "execution_count": null,
      "outputs": []
    },
    {
      "cell_type": "code",
      "source": [
        "import matplotlib.pyplot as plt\n",
        "fig, axs = plt.subplots(nrows = 1, ncols = nro_clusters, figsize = (24, 8))\n",
        "for i,df_plot in enumerate(dataframes_plot):\n",
        "  axs[i].grid('on', linestyle = 'dashed', alpha = 0.5)\n",
        "  axs[i].set_title('Atributos promedio:',fontsize=14)\n",
        "  axs[i].set_ylabel('')\n",
        "  axs[i].set_xlabel(f'Cluster {i}',fontsize=18)\n",
        "\n",
        "  axs[i].bar(x = [i for i in range(len(df_plot))], # Definimos la ubicación de las barras a lo largo del eje horizontal\n",
        "            height = [i for i in df_plot.ValorMedio], # Definimos la altura de las barras\n",
        "            color = plt.get_cmap('Set2').colors\n",
        "            )\n",
        "\n",
        "  axs[i].set_xticks( [i for i in range(len(df_plot))])\n",
        "  axs[i].set_xticklabels(list(df_plot.Atributos), rotation='vertical', fontsize=18)"
      ],
      "metadata": {
        "colab": {
          "base_uri": "https://localhost:8080/",
          "height": 550
        },
        "id": "BJ3mxN8Vz-Jf",
        "outputId": "8c039942-6ada-412d-85b2-a40598222045"
      },
      "execution_count": null,
      "outputs": [
        {
          "output_type": "display_data",
          "data": {
            "text/plain": [
              "<Figure size 1728x576 with 8 Axes>"
            ],
            "image/png": "[encoded data removed]"
          },
          "metadata": {
            "needs_background": "light"
          }
        }
      ]
    },
    {
      "cell_type": "code",
      "source": [
        "prom_cluster=[]\n",
        "sum_cluster=[]\n",
        "for df in dataframes_plot:\n",
        "  prom_cluster.append(df.ValorMedio.mean())\n",
        "  sum_cluster.append(df.ValorMedio.sum())"
      ],
      "metadata": {
        "id": "S4Qdfoa8c4ZI"
      },
      "execution_count": null,
      "outputs": []
    },
    {
      "cell_type": "code",
      "source": [
        "print('Suma de todos los atributos',sum_cluster)\n",
        "print('Valor del atributo promedio',prom_cluster)"
      ],
      "metadata": {
        "colab": {
          "base_uri": "https://localhost:8080/"
        },
        "id": "HkwEDFf9dMXa",
        "outputId": "61ae2846-6536-43fc-8744-b211238f322d"
      },
      "execution_count": null,
      "outputs": [
        {
          "output_type": "stream",
          "name": "stdout",
          "text": [
            "Suma de todos los atributos [280.44262295081967, 283.66666666666663, 278.2978723404255, 267.9259259259259, 266.84693877551024, 284.8958333333333, 289.3152173913044, 282.95]\n",
            "Valor del atributo promedio [70.11065573770492, 70.91666666666666, 69.57446808510637, 66.98148148148148, 66.71173469387756, 71.22395833333333, 72.3288043478261, 70.7375]\n"
          ]
        }
      ]
    },
    {
      "cell_type": "markdown",
      "source": [
        "\n",
        "El cluster 6, es el que tiene más puntos si sumamos los valores de cada atributo promedio. Por ende, lo considero el cluster más fuerte.\n"
      ],
      "metadata": {
        "id": "Kj8Thms5YYCZ"
      }
    },
    {
      "cell_type": "markdown",
      "source": [
        "## 5)   Hacer lo mismo que en el ítem anterior, pero con el tamaño promedio de los Pokémones por cluster (el tamaño se define como la cantidad de entradas no vacías en la fila correspondiente al *sprite* de ese Pokémon en la matriz data). ¿Son los Pokémones más grandes los más fuertes?\n"
      ],
      "metadata": {
        "id": "8fSWEtVHfQIJ"
      }
    },
    {
      "cell_type": "code",
      "source": [
        "df_cluster0"
      ],
      "metadata": {
        "colab": {
          "base_uri": "https://localhost:8080/",
          "height": 455
        },
        "id": "FDmFurj4QC_Q",
        "outputId": "57c3747d-39e5-42c4-9345-af18bdb8a61b"
      },
      "execution_count": null,
      "outputs": [
        {
          "output_type": "execute_result",
          "data": {
            "text/plain": [
              "      HP  Attack  Defense  Speed\n",
              "#                               \n",
              "6     78      84       78    100\n",
              "17    63      60       55     71\n",
              "74    40      80      100     20\n",
              "76    80     120      130     45\n",
              "81    25      35       70     45\n",
              "..   ...     ...      ...    ...\n",
              "633   52      65       50     38\n",
              "668   86      68       72    106\n",
              "699  123      77       72     58\n",
              "702   67      58       57    101\n",
              "713   95     117      184     28\n",
              "\n",
              "[61 rows x 4 columns]"
            ],
            "text/html": [
              "\n",
              "  <div id=\"df-93c14e4f-2e8e-4adc-96c2-371f21d55fd4\">\n",
              "    <div class=\"colab-df-container\">\n",
              "      <div>\n",
              "<style scoped>\n",
              "    .dataframe tbody tr th:only-of-type {\n",
              "        vertical-align: middle;\n",
              "    }\n",
              "\n",
              "    .dataframe tbody tr th {\n",
              "        vertical-align: top;\n",
              "    }\n",
              "\n",
              "    .dataframe thead th {\n",
              "        text-align: right;\n",
              "    }\n",
              "</style>\n",
              "<table border=\"1\" class=\"dataframe\">\n",
              "  <thead>\n",
              "    <tr style=\"text-align: right;\">\n",
              "      <th></th>\n",
              "      <th>HP</th>\n",
              "      <th>Attack</th>\n",
              "      <th>Defense</th>\n",
              "      <th>Speed</th>\n",
              "    </tr>\n",
              "    <tr>\n",
              "      <th>#</th>\n",
              "      <th></th>\n",
              "      <th></th>\n",
              "      <th></th>\n",
              "      <th></th>\n",
              "    </tr>\n",
              "  </thead>\n",
              "  <tbody>\n",
              "    <tr>\n",
              "      <th>6</th>\n",
              "      <td>78</td>\n",
              "      <td>84</td>\n",
              "      <td>78</td>\n",
              "      <td>100</td>\n",
              "    </tr>\n",
              "    <tr>\n",
              "      <th>17</th>\n",
              "      <td>63</td>\n",
              "      <td>60</td>\n",
              "      <td>55</td>\n",
              "      <td>71</td>\n",
              "    </tr>\n",
              "    <tr>\n",
              "      <th>74</th>\n",
              "      <td>40</td>\n",
              "      <td>80</td>\n",
              "      <td>100</td>\n",
              "      <td>20</td>\n",
              "    </tr>\n",
              "    <tr>\n",
              "      <th>76</th>\n",
              "      <td>80</td>\n",
              "      <td>120</td>\n",
              "      <td>130</td>\n",
              "      <td>45</td>\n",
              "    </tr>\n",
              "    <tr>\n",
              "      <th>81</th>\n",
              "      <td>25</td>\n",
              "      <td>35</td>\n",
              "      <td>70</td>\n",
              "      <td>45</td>\n",
              "    </tr>\n",
              "    <tr>\n",
              "      <th>...</th>\n",
              "      <td>...</td>\n",
              "      <td>...</td>\n",
              "      <td>...</td>\n",
              "      <td>...</td>\n",
              "    </tr>\n",
              "    <tr>\n",
              "      <th>633</th>\n",
              "      <td>52</td>\n",
              "      <td>65</td>\n",
              "      <td>50</td>\n",
              "      <td>38</td>\n",
              "    </tr>\n",
              "    <tr>\n",
              "      <th>668</th>\n",
              "      <td>86</td>\n",
              "      <td>68</td>\n",
              "      <td>72</td>\n",
              "      <td>106</td>\n",
              "    </tr>\n",
              "    <tr>\n",
              "      <th>699</th>\n",
              "      <td>123</td>\n",
              "      <td>77</td>\n",
              "      <td>72</td>\n",
              "      <td>58</td>\n",
              "    </tr>\n",
              "    <tr>\n",
              "      <th>702</th>\n",
              "      <td>67</td>\n",
              "      <td>58</td>\n",
              "      <td>57</td>\n",
              "      <td>101</td>\n",
              "    </tr>\n",
              "    <tr>\n",
              "      <th>713</th>\n",
              "      <td>95</td>\n",
              "      <td>117</td>\n",
              "      <td>184</td>\n",
              "      <td>28</td>\n",
              "    </tr>\n",
              "  </tbody>\n",
              "</table>\n",
              "<p>61 rows × 4 columns</p>\n",
              "</div>\n",
              "      <button class=\"colab-df-convert\" onclick=\"convertToInteractive('df-93c14e4f-2e8e-4adc-96c2-371f21d55fd4')\"\n",
              "              title=\"Convert this dataframe to an interactive table.\"\n",
              "              style=\"display:none;\">\n",
              "        \n",
              "  <svg xmlns=\"http://www.w3.org/2000/svg\" height=\"24px\"viewBox=\"0 0 24 24\"\n",
              "       width=\"24px\">\n",
              "    <path d=\"M0 0h24v24H0V0z\" fill=\"none\"/>\n",
              "    <path d=\"M18.56 5.44l.94 2.06.94-2.06 2.06-.94-2.06-.94-.94-2.06-.94 2.06-2.06.94zm-11 1L8.5 8.5l.94-2.06 2.06-.94-2.06-.94L8.5 2.5l-.94 2.06-2.06.94zm10 10l.94 2.06.94-2.06 2.06-.94-2.06-.94-.94-2.06-.94 2.06-2.06.94z\"/><path d=\"M17.41 7.96l-1.37-1.37c-.4-.4-.92-.59-1.43-.59-.52 0-1.04.2-1.43.59L10.3 9.45l-7.72 7.72c-.78.78-.78 2.05 0 2.83L4 21.41c.39.39.9.59 1.41.59.51 0 1.02-.2 1.41-.59l7.78-7.78 2.81-2.81c.8-.78.8-2.07 0-2.86zM5.41 20L4 18.59l7.72-7.72 1.47 1.35L5.41 20z\"/>\n",
              "  </svg>\n",
              "      </button>\n",
              "      \n",
              "  <style>\n",
              "    .colab-df-container {\n",
              "      display:flex;\n",
              "      flex-wrap:wrap;\n",
              "      gap: 12px;\n",
              "    }\n",
              "\n",
              "    .colab-df-convert {\n",
              "      background-color: #E8F0FE;\n",
              "      border: none;\n",
              "      border-radius: 50%;\n",
              "      cursor: pointer;\n",
              "      display: none;\n",
              "      fill: #1967D2;\n",
              "      height: 32px;\n",
              "      padding: 0 0 0 0;\n",
              "      width: 32px;\n",
              "    }\n",
              "\n",
              "    .colab-df-convert:hover {\n",
              "      background-color: #E2EBFA;\n",
              "      box-shadow: 0px 1px 2px rgba(60, 64, 67, 0.3), 0px 1px 3px 1px rgba(60, 64, 67, 0.15);\n",
              "      fill: #174EA6;\n",
              "    }\n",
              "\n",
              "    [theme=dark] .colab-df-convert {\n",
              "      background-color: #3B4455;\n",
              "      fill: #D2E3FC;\n",
              "    }\n",
              "\n",
              "    [theme=dark] .colab-df-convert:hover {\n",
              "      background-color: #434B5C;\n",
              "      box-shadow: 0px 1px 3px 1px rgba(0, 0, 0, 0.15);\n",
              "      filter: drop-shadow(0px 1px 2px rgba(0, 0, 0, 0.3));\n",
              "      fill: #FFFFFF;\n",
              "    }\n",
              "  </style>\n",
              "\n",
              "      <script>\n",
              "        const buttonEl =\n",
              "          document.querySelector('#df-93c14e4f-2e8e-4adc-96c2-371f21d55fd4 button.colab-df-convert');\n",
              "        buttonEl.style.display =\n",
              "          google.colab.kernel.accessAllowed ? 'block' : 'none';\n",
              "\n",
              "        async function convertToInteractive(key) {\n",
              "          const element = document.querySelector('#df-93c14e4f-2e8e-4adc-96c2-371f21d55fd4');\n",
              "          const dataTable =\n",
              "            await google.colab.kernel.invokeFunction('convertToInteractive',\n",
              "                                                     [key], {});\n",
              "          if (!dataTable) return;\n",
              "\n",
              "          const docLinkHtml = 'Like what you see? Visit the ' +\n",
              "            '<a target=\"_blank\" href=https://colab.research.google.com/notebooks/data_table.ipynb>data table notebook</a>'\n",
              "            + ' to learn more about interactive tables.';\n",
              "          element.innerHTML = '';\n",
              "          dataTable['output_type'] = 'display_data';\n",
              "          await google.colab.output.renderOutput(dataTable, element);\n",
              "          const docLink = document.createElement('div');\n",
              "          docLink.innerHTML = docLinkHtml;\n",
              "          element.appendChild(docLink);\n",
              "        }\n",
              "      </script>\n",
              "    </div>\n",
              "  </div>\n",
              "  "
            ]
          },
          "metadata": {},
          "execution_count": 54
        }
      ]
    },
    {
      "cell_type": "code",
      "source": [
        "# Mostrar el resultado final\n",
        "labels = kmeans17.labels_\n",
        "data=np.array(imagenes)\n",
        "data_img0=[]\n",
        "data_img1=[]\n",
        "data_img2=[]\n",
        "data_img3=[]\n",
        "data_img4=[]\n",
        "data_img5=[]\n",
        "data_img6=[]\n",
        "data_img7=[]\n",
        "data_imgs=[data_img0,data_img1,data_img2,data_img3,data_img4,data_img5,data_img6,data_img7]\n",
        "\n",
        "# Iniciamos un for con k=40 iteraciones\n",
        "for i,data_img in enumerate(data_imgs):\n",
        "    index = np.nonzero(labels==i)[0]                                  # los índices correspondientes a la i-ésima etiqueta \n",
        "    #print(data[index])\n",
        "    print('-------------')\n",
        "    data_img.append(data[index])\n",
        "    data_img=data_img[0].copy()\n",
        "    print(data_img)                "
      ],
      "metadata": {
        "colab": {
          "base_uri": "https://localhost:8080/"
        },
        "id": "GaDOSipsQDBA",
        "outputId": "19384fc9-5d74-4c62-be66-5bb287ddba8c"
      },
      "execution_count": null,
      "outputs": [
        {
          "output_type": "stream",
          "name": "stdout",
          "text": [
            "-------------\n",
            "[[0 0 0 ... 0 0 0]\n",
            " [0 0 0 ... 0 0 0]\n",
            " [0 0 0 ... 0 0 0]\n",
            " ...\n",
            " [0 0 0 ... 0 0 0]\n",
            " [0 0 0 ... 0 0 0]\n",
            " [0 0 0 ... 0 0 0]]\n",
            "-------------\n",
            "[[0 0 0 ... 0 0 0]\n",
            " [0 0 0 ... 0 0 0]\n",
            " [0 0 0 ... 0 0 0]\n",
            " ...\n",
            " [0 0 0 ... 0 0 0]\n",
            " [0 0 0 ... 0 0 0]\n",
            " [0 0 0 ... 0 0 0]]\n",
            "-------------\n",
            "[[0 0 0 ... 0 0 0]\n",
            " [0 0 0 ... 0 0 0]\n",
            " [0 0 0 ... 0 0 0]\n",
            " ...\n",
            " [0 0 0 ... 0 0 0]\n",
            " [0 0 0 ... 0 0 0]\n",
            " [0 0 0 ... 0 0 0]]\n",
            "-------------\n",
            "[[0 0 0 ... 0 0 0]\n",
            " [0 0 0 ... 0 0 0]\n",
            " [0 0 0 ... 0 0 0]\n",
            " ...\n",
            " [0 0 0 ... 0 0 0]\n",
            " [0 0 0 ... 0 0 0]\n",
            " [0 0 0 ... 0 0 0]]\n",
            "-------------\n",
            "[[0 0 0 ... 0 0 0]\n",
            " [0 0 0 ... 0 0 0]\n",
            " [0 0 0 ... 0 0 0]\n",
            " ...\n",
            " [0 0 0 ... 0 0 0]\n",
            " [0 0 0 ... 0 0 0]\n",
            " [0 0 0 ... 0 0 0]]\n",
            "-------------\n",
            "[[0 0 0 ... 0 0 0]\n",
            " [0 0 0 ... 0 0 0]\n",
            " [0 0 0 ... 0 0 0]\n",
            " ...\n",
            " [0 0 0 ... 0 0 0]\n",
            " [0 0 0 ... 0 0 0]\n",
            " [0 0 0 ... 0 0 0]]\n",
            "-------------\n",
            "[[0 0 0 ... 0 0 0]\n",
            " [0 0 0 ... 0 0 0]\n",
            " [0 0 0 ... 0 0 0]\n",
            " ...\n",
            " [0 0 0 ... 0 0 0]\n",
            " [0 0 0 ... 0 0 0]\n",
            " [0 0 0 ... 0 0 0]]\n",
            "-------------\n",
            "[[0 0 0 ... 0 0 0]\n",
            " [0 0 0 ... 0 0 0]\n",
            " [0 0 0 ... 0 0 0]\n",
            " ...\n",
            " [0 0 0 ... 0 0 0]\n",
            " [0 0 0 ... 0 0 0]\n",
            " [0 0 0 ... 0 0 0]]\n"
          ]
        }
      ]
    },
    {
      "cell_type": "code",
      "source": [
        "data_img0=data_img0[0]\n",
        "data_img1=data_img1[0]\n",
        "data_img2=data_img2[0]\n",
        "data_img3=data_img3[0]\n",
        "data_img4=data_img4[0]\n",
        "data_img5=data_img5[0]\n",
        "data_img6=data_img6[0]\n",
        "data_img7=data_img7[0]"
      ],
      "metadata": {
        "id": "gBiaFxLeYqXf"
      },
      "execution_count": null,
      "outputs": []
    },
    {
      "cell_type": "markdown",
      "source": [
        "Diferentes valores que adoptan los píxeles, para el cluster 0. Hay en total 9 vaores distintos:"
      ],
      "metadata": {
        "id": "T5y0EPd5av6w"
      }
    },
    {
      "cell_type": "code",
      "source": [
        "print('Valores únicos:',np.unique(data_img0[0]))\n",
        "print('Cantidad de valores únicos:',len(set(data_img0[0])))"
      ],
      "metadata": {
        "colab": {
          "base_uri": "https://localhost:8080/"
        },
        "id": "K97L70GsYoX3",
        "outputId": "4fb32293-fbf8-4d85-828e-fbb99f0f7140"
      },
      "execution_count": null,
      "outputs": [
        {
          "output_type": "stream",
          "name": "stdout",
          "text": [
            "Valores únicos [  0  65  93 120 138 166 170 196 255]\n",
            "Cantidad de valores únicos 9\n"
          ]
        }
      ]
    },
    {
      "cell_type": "code",
      "source": [
        "Counter(data_img0[0]).keys()"
      ],
      "metadata": {
        "colab": {
          "base_uri": "https://localhost:8080/"
        },
        "id": "GQ-SR7I2cjMD",
        "outputId": "94eaa424-120e-4c85-e424-c89d1b80e62c"
      },
      "execution_count": null,
      "outputs": [
        {
          "output_type": "execute_result",
          "data": {
            "text/plain": [
              "dict_keys([0, 170, 138, 120, 93, 65, 255, 196, 166])"
            ]
          },
          "metadata": {},
          "execution_count": 126
        }
      ]
    },
    {
      "cell_type": "code",
      "source": [
        "from collections import Counter\n",
        "\n",
        "print(Counter(data_img0[0]).values())"
      ],
      "metadata": {
        "colab": {
          "base_uri": "https://localhost:8080/"
        },
        "id": "5Bs60iKmbPxI",
        "outputId": "63a9fa20-7a48-47b2-a60f-5975690ef07a"
      },
      "execution_count": null,
      "outputs": [
        {
          "output_type": "stream",
          "name": "stdout",
          "text": [
            "dict_values([3526, 95, 23, 57, 52, 36, 3, 6, 10])\n"
          ]
        }
      ]
    },
    {
      "cell_type": "code",
      "source": [
        "a=pd.DataFrame({'Entradas':data_img0[0]})\n",
        "a['Entradas'].value_counts()\n",
        "a=a.replace(0,np.nan)\n",
        "a=a.dropna()\n",
        "tamaño_pokemon=a.shape[0]\n",
        "print('El tamaño de este pokemon es:',tamaño_pokemon)"
      ],
      "metadata": {
        "colab": {
          "base_uri": "https://localhost:8080/"
        },
        "id": "heiq1wGGdsBb",
        "outputId": "48d73c9a-e0b3-40f9-80ba-f53f0ce22297"
      },
      "execution_count": null,
      "outputs": [
        {
          "output_type": "stream",
          "name": "stdout",
          "text": [
            "El tamaño de este pokemon es: 282\n"
          ]
        }
      ]
    },
    {
      "cell_type": "code",
      "source": [
        "tamaño_pokemon=[]\n",
        "for i in range(data_img0.shape[0]):\n",
        "  #El valor de las entradas de los pixeles de un pokemon, pasados a un dataframe:\n",
        "  entradas_unpoke=pd.DataFrame({'Entradas':data_img0[i]})\n",
        "  #Reemplazo los 0's por 'nan', es fácil borrar los 'nan' usando dropna. \n",
        "  entradas_unpoke=entradas_unpoke.replace(0,np.nan)\n",
        "  entradas_unpoke=entradas_unpoke.dropna()\n",
        "  tamaño_pokemon.append(entradas_unpoke.shape[0])\n",
        "\n",
        "tamaño_promedio_c0=np.mean(tamaño_pokemon)\n",
        "\n",
        "\n",
        "tamaño_pokemon=[]\n",
        "for i in range(data_img1.shape[0]):\n",
        "  #El valor de las entradas de los pixeles de un pokemon, pasados a un dataframe:\n",
        "  entradas_unpoke=pd.DataFrame({'Entradas':data_img1[i]})\n",
        "  #Reemplazo los 0's por 'nan', es fácil borrar los 'nan' usando dropna. \n",
        "  entradas_unpoke=entradas_unpoke.replace(0,np.nan)\n",
        "  entradas_unpoke=entradas_unpoke.dropna()\n",
        "  tamaño_pokemon.append(entradas_unpoke.shape[0])\n",
        "\n",
        "tamaño_promedio_c1=np.mean(tamaño_pokemon)\n",
        "\n",
        "\n",
        "tamaño_pokemon=[]\n",
        "for i in range(data_img2.shape[0]):\n",
        "  #El valor de las entradas de los pixeles de un pokemon, pasados a un dataframe:\n",
        "  entradas_unpoke=pd.DataFrame({'Entradas':data_img2[i]})\n",
        "  #Reemplazo los 0's por 'nan', es fácil borrar los 'nan' usando dropna. \n",
        "  entradas_unpoke=entradas_unpoke.replace(0,np.nan)\n",
        "  entradas_unpoke=entradas_unpoke.dropna()\n",
        "  tamaño_pokemon.append(entradas_unpoke.shape[0])\n",
        "\n",
        "tamaño_promedio_c2=np.mean(tamaño_pokemon)\n",
        "\n",
        "tamaño_pokemon=[]\n",
        "for i in range(data_img3.shape[0]):\n",
        "  #El valor de las entradas de los pixeles de un pokemon, pasados a un dataframe:\n",
        "  entradas_unpoke=pd.DataFrame({'Entradas':data_img3[i]})\n",
        "  #Reemplazo los 0's por 'nan', es fácil borrar los 'nan' usando dropna. \n",
        "  entradas_unpoke=entradas_unpoke.replace(0,np.nan)\n",
        "  entradas_unpoke=entradas_unpoke.dropna()\n",
        "  tamaño_pokemon.append(entradas_unpoke.shape[0])\n",
        "\n",
        "tamaño_promedio_c3=np.mean(tamaño_pokemon)\n",
        "\n",
        "tamaño_pokemon=[]\n",
        "for i in range(data_img4.shape[0]):\n",
        "  #El valor de las entradas de los pixeles de un pokemon, pasados a un dataframe:\n",
        "  entradas_unpoke=pd.DataFrame({'Entradas':data_img4[i]})\n",
        "  #Reemplazo los 0's por 'nan', es fácil borrar los 'nan' usando dropna. \n",
        "  entradas_unpoke=entradas_unpoke.replace(0,np.nan)\n",
        "  entradas_unpoke=entradas_unpoke.dropna()\n",
        "  tamaño_pokemon.append(entradas_unpoke.shape[0])\n",
        "\n",
        "tamaño_promedio_c4=np.mean(tamaño_pokemon)\n",
        "\n",
        "tamaño_pokemon=[]\n",
        "for i in range(data_img5.shape[0]):\n",
        "  #El valor de las entradas de los pixeles de un pokemon, pasados a un dataframe:\n",
        "  entradas_unpoke=pd.DataFrame({'Entradas':data_img5[i]})\n",
        "  #Reemplazo los 0's por 'nan', es fácil borrar los 'nan' usando dropna. \n",
        "  entradas_unpoke=entradas_unpoke.replace(0,np.nan)\n",
        "  entradas_unpoke=entradas_unpoke.dropna()\n",
        "  tamaño_pokemon.append(entradas_unpoke.shape[0])\n",
        "\n",
        "tamaño_promedio_c5=np.mean(tamaño_pokemon)\n",
        "\n",
        "tamaño_pokemon=[]\n",
        "for i in range(data_img6.shape[0]):\n",
        "  #El valor de las entradas de los pixeles de un pokemon, pasados a un dataframe:\n",
        "  entradas_unpoke=pd.DataFrame({'Entradas':data_img6[i]})\n",
        "  #Reemplazo los 0's por 'nan', es fácil borrar los 'nan' usando dropna. \n",
        "  entradas_unpoke=entradas_unpoke.replace(0,np.nan)\n",
        "  entradas_unpoke=entradas_unpoke.dropna()\n",
        "  tamaño_pokemon.append(entradas_unpoke.shape[0])\n",
        "\n",
        "tamaño_promedio_c6=np.mean(tamaño_pokemon)\n",
        "\n",
        "tamaño_pokemon=[]\n",
        "for i in range(data_img7.shape[0]):\n",
        "  #El valor de las entradas de los pixeles de un pokemon, pasados a un dataframe:\n",
        "  entradas_unpoke=pd.DataFrame({'Entradas':data_img7[i]})\n",
        "  #Reemplazo los 0's por 'nan', es fácil borrar los 'nan' usando dropna. \n",
        "  entradas_unpoke=entradas_unpoke.replace(0,np.nan)\n",
        "  entradas_unpoke=entradas_unpoke.dropna()\n",
        "  tamaño_pokemon.append(entradas_unpoke.shape[0])\n",
        "\n",
        "tamaño_promedio_c7=np.mean(tamaño_pokemon)\n",
        "\n",
        "\n",
        "\n",
        "\n",
        "\n",
        "print('Tamaño promedio de los pokemones en el cluster 0:',tamaño_promedio_c0)\n",
        "print('Tamaño promedio de los pokemones en el cluster 1:',tamaño_promedio_c1)\n",
        "print('Tamaño promedio de los pokemones en el cluster 2:',tamaño_promedio_c2)\n",
        "print('Tamaño promedio de los pokemones en el cluster 3:',tamaño_promedio_c3)\n",
        "print('Tamaño promedio de los pokemones en el cluster 4:',tamaño_promedio_c4)\n",
        "print('Tamaño promedio de los pokemones en el cluster 5:',tamaño_promedio_c5)\n",
        "print('Tamaño promedio de los pokemones en el cluster 6:',tamaño_promedio_c6)\n",
        "print('Tamaño promedio de los pokemones en el cluster 7:',tamaño_promedio_c7)\n"
      ],
      "metadata": {
        "colab": {
          "base_uri": "https://localhost:8080/"
        },
        "id": "4XhFTMajfARY",
        "outputId": "cc214ca8-90e1-4188-e493-222dcf98a4df"
      },
      "execution_count": null,
      "outputs": [
        {
          "output_type": "stream",
          "name": "stdout",
          "text": [
            "Tamaño promedio de los pokemones en el cluster 0: 267.55737704918033\n",
            "Tamaño promedio de los pokemones en el cluster 1: 154.72222222222223\n",
            "Tamaño promedio de los pokemones en el cluster 2: 315.27659574468083\n",
            "Tamaño promedio de los pokemones en el cluster 3: 199.82407407407408\n",
            "Tamaño promedio de los pokemones en el cluster 4: 170.98979591836735\n",
            "Tamaño promedio de los pokemones en el cluster 5: 288.5416666666667\n",
            "Tamaño promedio de los pokemones en el cluster 6: 120.80434782608695\n",
            "Tamaño promedio de los pokemones en el cluster 7: 219.74\n"
          ]
        }
      ]
    },
    {
      "cell_type": "code",
      "source": [
        "tamaño=[tamaño_promedio_c0,tamaño_promedio_c1,tamaño_promedio_c2,tamaño_promedio_c3,tamaño_promedio_c4,tamaño_promedio_c5,tamaño_promedio_c6,tamaño_promedio_c7]"
      ],
      "metadata": {
        "id": "P_uI08ywj5Ud"
      },
      "execution_count": null,
      "outputs": []
    },
    {
      "cell_type": "code",
      "source": [
        "tamaño_promedio_c=pd.DataFrame({'Clusters':['c0','c1','c2','c3','c4','c5','c6','c7'],'Tamaño':[tamaño_promedio_c0,tamaño_promedio_c1,tamaño_promedio_c2,tamaño_promedio_c3,tamaño_promedio_c4,tamaño_promedio_c5,tamaño_promedio_c6,tamaño_promedio_c7]})\n",
        "tamaño_promedio_c"
      ],
      "metadata": {
        "colab": {
          "base_uri": "https://localhost:8080/",
          "height": 300
        },
        "id": "5EvrHiL4jKgf",
        "outputId": "39b98151-ac91-4d4c-a3d8-fa2cd2bb5274"
      },
      "execution_count": null,
      "outputs": [
        {
          "output_type": "execute_result",
          "data": {
            "text/plain": [
              "  Clusters      Tamaño\n",
              "0       c0  267.557377\n",
              "1       c1  154.722222\n",
              "2       c2  315.276596\n",
              "3       c3  199.824074\n",
              "4       c4  170.989796\n",
              "5       c5  288.541667\n",
              "6       c6  120.804348\n",
              "7       c7  219.740000"
            ],
            "text/html": [
              "\n",
              "  <div id=\"df-2619c28a-f415-42cd-a823-85d3b28a7cde\">\n",
              "    <div class=\"colab-df-container\">\n",
              "      <div>\n",
              "<style scoped>\n",
              "    .dataframe tbody tr th:only-of-type {\n",
              "        vertical-align: middle;\n",
              "    }\n",
              "\n",
              "    .dataframe tbody tr th {\n",
              "        vertical-align: top;\n",
              "    }\n",
              "\n",
              "    .dataframe thead th {\n",
              "        text-align: right;\n",
              "    }\n",
              "</style>\n",
              "<table border=\"1\" class=\"dataframe\">\n",
              "  <thead>\n",
              "    <tr style=\"text-align: right;\">\n",
              "      <th></th>\n",
              "      <th>Clusters</th>\n",
              "      <th>Tamaño</th>\n",
              "    </tr>\n",
              "  </thead>\n",
              "  <tbody>\n",
              "    <tr>\n",
              "      <th>0</th>\n",
              "      <td>c0</td>\n",
              "      <td>267.557377</td>\n",
              "    </tr>\n",
              "    <tr>\n",
              "      <th>1</th>\n",
              "      <td>c1</td>\n",
              "      <td>154.722222</td>\n",
              "    </tr>\n",
              "    <tr>\n",
              "      <th>2</th>\n",
              "      <td>c2</td>\n",
              "      <td>315.276596</td>\n",
              "    </tr>\n",
              "    <tr>\n",
              "      <th>3</th>\n",
              "      <td>c3</td>\n",
              "      <td>199.824074</td>\n",
              "    </tr>\n",
              "    <tr>\n",
              "      <th>4</th>\n",
              "      <td>c4</td>\n",
              "      <td>170.989796</td>\n",
              "    </tr>\n",
              "    <tr>\n",
              "      <th>5</th>\n",
              "      <td>c5</td>\n",
              "      <td>288.541667</td>\n",
              "    </tr>\n",
              "    <tr>\n",
              "      <th>6</th>\n",
              "      <td>c6</td>\n",
              "      <td>120.804348</td>\n",
              "    </tr>\n",
              "    <tr>\n",
              "      <th>7</th>\n",
              "      <td>c7</td>\n",
              "      <td>219.740000</td>\n",
              "    </tr>\n",
              "  </tbody>\n",
              "</table>\n",
              "</div>\n",
              "      <button class=\"colab-df-convert\" onclick=\"convertToInteractive('df-2619c28a-f415-42cd-a823-85d3b28a7cde')\"\n",
              "              title=\"Convert this dataframe to an interactive table.\"\n",
              "              style=\"display:none;\">\n",
              "        \n",
              "  <svg xmlns=\"http://www.w3.org/2000/svg\" height=\"24px\"viewBox=\"0 0 24 24\"\n",
              "       width=\"24px\">\n",
              "    <path d=\"M0 0h24v24H0V0z\" fill=\"none\"/>\n",
              "    <path d=\"M18.56 5.44l.94 2.06.94-2.06 2.06-.94-2.06-.94-.94-2.06-.94 2.06-2.06.94zm-11 1L8.5 8.5l.94-2.06 2.06-.94-2.06-.94L8.5 2.5l-.94 2.06-2.06.94zm10 10l.94 2.06.94-2.06 2.06-.94-2.06-.94-.94-2.06-.94 2.06-2.06.94z\"/><path d=\"M17.41 7.96l-1.37-1.37c-.4-.4-.92-.59-1.43-.59-.52 0-1.04.2-1.43.59L10.3 9.45l-7.72 7.72c-.78.78-.78 2.05 0 2.83L4 21.41c.39.39.9.59 1.41.59.51 0 1.02-.2 1.41-.59l7.78-7.78 2.81-2.81c.8-.78.8-2.07 0-2.86zM5.41 20L4 18.59l7.72-7.72 1.47 1.35L5.41 20z\"/>\n",
              "  </svg>\n",
              "      </button>\n",
              "      \n",
              "  <style>\n",
              "    .colab-df-container {\n",
              "      display:flex;\n",
              "      flex-wrap:wrap;\n",
              "      gap: 12px;\n",
              "    }\n",
              "\n",
              "    .colab-df-convert {\n",
              "      background-color: #E8F0FE;\n",
              "      border: none;\n",
              "      border-radius: 50%;\n",
              "      cursor: pointer;\n",
              "      display: none;\n",
              "      fill: #1967D2;\n",
              "      height: 32px;\n",
              "      padding: 0 0 0 0;\n",
              "      width: 32px;\n",
              "    }\n",
              "\n",
              "    .colab-df-convert:hover {\n",
              "      background-color: #E2EBFA;\n",
              "      box-shadow: 0px 1px 2px rgba(60, 64, 67, 0.3), 0px 1px 3px 1px rgba(60, 64, 67, 0.15);\n",
              "      fill: #174EA6;\n",
              "    }\n",
              "\n",
              "    [theme=dark] .colab-df-convert {\n",
              "      background-color: #3B4455;\n",
              "      fill: #D2E3FC;\n",
              "    }\n",
              "\n",
              "    [theme=dark] .colab-df-convert:hover {\n",
              "      background-color: #434B5C;\n",
              "      box-shadow: 0px 1px 3px 1px rgba(0, 0, 0, 0.15);\n",
              "      filter: drop-shadow(0px 1px 2px rgba(0, 0, 0, 0.3));\n",
              "      fill: #FFFFFF;\n",
              "    }\n",
              "  </style>\n",
              "\n",
              "      <script>\n",
              "        const buttonEl =\n",
              "          document.querySelector('#df-2619c28a-f415-42cd-a823-85d3b28a7cde button.colab-df-convert');\n",
              "        buttonEl.style.display =\n",
              "          google.colab.kernel.accessAllowed ? 'block' : 'none';\n",
              "\n",
              "        async function convertToInteractive(key) {\n",
              "          const element = document.querySelector('#df-2619c28a-f415-42cd-a823-85d3b28a7cde');\n",
              "          const dataTable =\n",
              "            await google.colab.kernel.invokeFunction('convertToInteractive',\n",
              "                                                     [key], {});\n",
              "          if (!dataTable) return;\n",
              "\n",
              "          const docLinkHtml = 'Like what you see? Visit the ' +\n",
              "            '<a target=\"_blank\" href=https://colab.research.google.com/notebooks/data_table.ipynb>data table notebook</a>'\n",
              "            + ' to learn more about interactive tables.';\n",
              "          element.innerHTML = '';\n",
              "          dataTable['output_type'] = 'display_data';\n",
              "          await google.colab.output.renderOutput(dataTable, element);\n",
              "          const docLink = document.createElement('div');\n",
              "          docLink.innerHTML = docLinkHtml;\n",
              "          element.appendChild(docLink);\n",
              "        }\n",
              "      </script>\n",
              "    </div>\n",
              "  </div>\n",
              "  "
            ]
          },
          "metadata": {},
          "execution_count": 209
        }
      ]
    },
    {
      "cell_type": "code",
      "source": [
        "fuerza=[280.44262295081967, 283.66666666666663, 278.2978723404255, 267.9259259259259, 266.84693877551024, 284.8958333333333, 289.3152173913044, 282.95]\n",
        "Fuerza_promedio_c=pd.DataFrame({'Clusters':['c0','c1','c2','c3','c4','c5','c6','c7'],'Fuerza':fuerza})\n",
        "Fuerza_promedio_c"
      ],
      "metadata": {
        "colab": {
          "base_uri": "https://localhost:8080/",
          "height": 300
        },
        "id": "4uyq4Qzd3NE2",
        "outputId": "13d722c0-84de-4fca-b41a-6769c23812c1"
      },
      "execution_count": null,
      "outputs": [
        {
          "output_type": "execute_result",
          "data": {
            "text/plain": [
              "  Clusters      Fuerza\n",
              "0       c0  280.442623\n",
              "1       c1  283.666667\n",
              "2       c2  278.297872\n",
              "3       c3  267.925926\n",
              "4       c4  266.846939\n",
              "5       c5  284.895833\n",
              "6       c6  289.315217\n",
              "7       c7  282.950000"
            ],
            "text/html": [
              "\n",
              "  <div id=\"df-4d0ba812-9261-4ea3-a105-5803dffb9f40\">\n",
              "    <div class=\"colab-df-container\">\n",
              "      <div>\n",
              "<style scoped>\n",
              "    .dataframe tbody tr th:only-of-type {\n",
              "        vertical-align: middle;\n",
              "    }\n",
              "\n",
              "    .dataframe tbody tr th {\n",
              "        vertical-align: top;\n",
              "    }\n",
              "\n",
              "    .dataframe thead th {\n",
              "        text-align: right;\n",
              "    }\n",
              "</style>\n",
              "<table border=\"1\" class=\"dataframe\">\n",
              "  <thead>\n",
              "    <tr style=\"text-align: right;\">\n",
              "      <th></th>\n",
              "      <th>Clusters</th>\n",
              "      <th>Fuerza</th>\n",
              "    </tr>\n",
              "  </thead>\n",
              "  <tbody>\n",
              "    <tr>\n",
              "      <th>0</th>\n",
              "      <td>c0</td>\n",
              "      <td>280.442623</td>\n",
              "    </tr>\n",
              "    <tr>\n",
              "      <th>1</th>\n",
              "      <td>c1</td>\n",
              "      <td>283.666667</td>\n",
              "    </tr>\n",
              "    <tr>\n",
              "      <th>2</th>\n",
              "      <td>c2</td>\n",
              "      <td>278.297872</td>\n",
              "    </tr>\n",
              "    <tr>\n",
              "      <th>3</th>\n",
              "      <td>c3</td>\n",
              "      <td>267.925926</td>\n",
              "    </tr>\n",
              "    <tr>\n",
              "      <th>4</th>\n",
              "      <td>c4</td>\n",
              "      <td>266.846939</td>\n",
              "    </tr>\n",
              "    <tr>\n",
              "      <th>5</th>\n",
              "      <td>c5</td>\n",
              "      <td>284.895833</td>\n",
              "    </tr>\n",
              "    <tr>\n",
              "      <th>6</th>\n",
              "      <td>c6</td>\n",
              "      <td>289.315217</td>\n",
              "    </tr>\n",
              "    <tr>\n",
              "      <th>7</th>\n",
              "      <td>c7</td>\n",
              "      <td>282.950000</td>\n",
              "    </tr>\n",
              "  </tbody>\n",
              "</table>\n",
              "</div>\n",
              "      <button class=\"colab-df-convert\" onclick=\"convertToInteractive('df-4d0ba812-9261-4ea3-a105-5803dffb9f40')\"\n",
              "              title=\"Convert this dataframe to an interactive table.\"\n",
              "              style=\"display:none;\">\n",
              "        \n",
              "  <svg xmlns=\"http://www.w3.org/2000/svg\" height=\"24px\"viewBox=\"0 0 24 24\"\n",
              "       width=\"24px\">\n",
              "    <path d=\"M0 0h24v24H0V0z\" fill=\"none\"/>\n",
              "    <path d=\"M18.56 5.44l.94 2.06.94-2.06 2.06-.94-2.06-.94-.94-2.06-.94 2.06-2.06.94zm-11 1L8.5 8.5l.94-2.06 2.06-.94-2.06-.94L8.5 2.5l-.94 2.06-2.06.94zm10 10l.94 2.06.94-2.06 2.06-.94-2.06-.94-.94-2.06-.94 2.06-2.06.94z\"/><path d=\"M17.41 7.96l-1.37-1.37c-.4-.4-.92-.59-1.43-.59-.52 0-1.04.2-1.43.59L10.3 9.45l-7.72 7.72c-.78.78-.78 2.05 0 2.83L4 21.41c.39.39.9.59 1.41.59.51 0 1.02-.2 1.41-.59l7.78-7.78 2.81-2.81c.8-.78.8-2.07 0-2.86zM5.41 20L4 18.59l7.72-7.72 1.47 1.35L5.41 20z\"/>\n",
              "  </svg>\n",
              "      </button>\n",
              "      \n",
              "  <style>\n",
              "    .colab-df-container {\n",
              "      display:flex;\n",
              "      flex-wrap:wrap;\n",
              "      gap: 12px;\n",
              "    }\n",
              "\n",
              "    .colab-df-convert {\n",
              "      background-color: #E8F0FE;\n",
              "      border: none;\n",
              "      border-radius: 50%;\n",
              "      cursor: pointer;\n",
              "      display: none;\n",
              "      fill: #1967D2;\n",
              "      height: 32px;\n",
              "      padding: 0 0 0 0;\n",
              "      width: 32px;\n",
              "    }\n",
              "\n",
              "    .colab-df-convert:hover {\n",
              "      background-color: #E2EBFA;\n",
              "      box-shadow: 0px 1px 2px rgba(60, 64, 67, 0.3), 0px 1px 3px 1px rgba(60, 64, 67, 0.15);\n",
              "      fill: #174EA6;\n",
              "    }\n",
              "\n",
              "    [theme=dark] .colab-df-convert {\n",
              "      background-color: #3B4455;\n",
              "      fill: #D2E3FC;\n",
              "    }\n",
              "\n",
              "    [theme=dark] .colab-df-convert:hover {\n",
              "      background-color: #434B5C;\n",
              "      box-shadow: 0px 1px 3px 1px rgba(0, 0, 0, 0.15);\n",
              "      filter: drop-shadow(0px 1px 2px rgba(0, 0, 0, 0.3));\n",
              "      fill: #FFFFFF;\n",
              "    }\n",
              "  </style>\n",
              "\n",
              "      <script>\n",
              "        const buttonEl =\n",
              "          document.querySelector('#df-4d0ba812-9261-4ea3-a105-5803dffb9f40 button.colab-df-convert');\n",
              "        buttonEl.style.display =\n",
              "          google.colab.kernel.accessAllowed ? 'block' : 'none';\n",
              "\n",
              "        async function convertToInteractive(key) {\n",
              "          const element = document.querySelector('#df-4d0ba812-9261-4ea3-a105-5803dffb9f40');\n",
              "          const dataTable =\n",
              "            await google.colab.kernel.invokeFunction('convertToInteractive',\n",
              "                                                     [key], {});\n",
              "          if (!dataTable) return;\n",
              "\n",
              "          const docLinkHtml = 'Like what you see? Visit the ' +\n",
              "            '<a target=\"_blank\" href=https://colab.research.google.com/notebooks/data_table.ipynb>data table notebook</a>'\n",
              "            + ' to learn more about interactive tables.';\n",
              "          element.innerHTML = '';\n",
              "          dataTable['output_type'] = 'display_data';\n",
              "          await google.colab.output.renderOutput(dataTable, element);\n",
              "          const docLink = document.createElement('div');\n",
              "          docLink.innerHTML = docLinkHtml;\n",
              "          element.appendChild(docLink);\n",
              "        }\n",
              "      </script>\n",
              "    </div>\n",
              "  </div>\n",
              "  "
            ]
          },
          "metadata": {},
          "execution_count": 217
        }
      ]
    },
    {
      "cell_type": "code",
      "source": [
        "import matplotlib.pyplot as plt\n",
        "fig, axs = plt.subplots(nrows = 1, ncols = 2, figsize = (24, 8))\n",
        "\n",
        "\n",
        "axs[0].grid('on', linestyle = 'dashed', alpha = 0.5)\n",
        "axs[0].set_title('Tamaño promedio:',fontsize=14)\n",
        "axs[0].set_ylabel('')\n",
        "axs[0].set_xlabel(f'Clusters',fontsize=18)\n",
        "\n",
        "axs[0].bar(x = [i for i in range(len(tamaño_promedio_c))], # Definimos la ubicación de las barras a lo largo del eje horizontal\n",
        "          height = [i for i in tamaño_promedio_c.Tamaño], # Definimos la altura de las barras\n",
        "          color = plt.get_cmap('Set2').colors\n",
        "          )\n",
        "\n",
        "axs[0].set_xticks( [i for i in range(len(tamaño_promedio_c))])\n",
        "axs[0].set_xticklabels(list(tamaño_promedio_c.Clusters), rotation='vertical', fontsize=18)\n",
        "\n",
        "\n",
        "\n",
        "axs[1].grid('on', linestyle = 'dashed', alpha = 0.5)\n",
        "axs[1].set_title('Fuerza promedio:',fontsize=14)\n",
        "axs[1].set_ylabel('')\n",
        "axs[1].set_xlabel(f'Clusters',fontsize=18)\n",
        "\n",
        "axs[1].bar(x = [i for i in range(len(Fuerza_promedio_c))], # Definimos la ubicación de las barras a lo largo del eje horizontal\n",
        "          height = [i for i in Fuerza_promedio_c.Fuerza], # Definimos la altura de las barras\n",
        "          color = plt.get_cmap('Set2').colors\n",
        "          )\n",
        "\n",
        "axs[1].set_xticks( [i for i in range(len(Fuerza_promedio_c))])\n",
        "axs[1].set_xticklabels(list(Fuerza_promedio_c.Clusters), rotation='vertical', fontsize=18)"
      ],
      "metadata": {
        "colab": {
          "base_uri": "https://localhost:8080/",
          "height": 672
        },
        "id": "iM7qt_n70O1l",
        "outputId": "0f1800a4-e796-465d-962f-0e120f83a731"
      },
      "execution_count": null,
      "outputs": [
        {
          "output_type": "execute_result",
          "data": {
            "text/plain": [
              "[Text(0, 0, 'c0'),\n",
              " Text(0, 0, 'c1'),\n",
              " Text(0, 0, 'c2'),\n",
              " Text(0, 0, 'c3'),\n",
              " Text(0, 0, 'c4'),\n",
              " Text(0, 0, 'c5'),\n",
              " Text(0, 0, 'c6'),\n",
              " Text(0, 0, 'c7')]"
            ]
          },
          "metadata": {},
          "execution_count": 218
        },
        {
          "output_type": "display_data",
          "data": {
            "text/plain": [
              "<Figure size 1728x576 with 2 Axes>"
            ],
            "image/png": "[encoded data removed]"
          },
          "metadata": {
            "needs_background": "light"
          }
        }
      ]
    },
    {
      "cell_type": "markdown",
      "source": [
        "En el gráfico de la izquierda se puede observar el tamaño promedio de los pokemons de cada cluster (osea la cantidad de entradas no vacías de cada imagen). Se puede ver que tamaño promedio de cada cluster es muy distinto dependiendo del cluster. En el histograma de la derecha está la fuerza promedio de cada cluster (la suma de todos los atributos promedio, de cada pokemon del cluster), en este caso la variación de la fuerza promedio es pequeña entre cluster.\n",
        "\n",
        "Graficamos la fuerza vs el tamaño para ver más en detalle:"
      ],
      "metadata": {
        "id": "yilowKBJ3-8A"
      }
    },
    {
      "cell_type": "code",
      "source": [
        "plt.rcParams[\"figure.figsize\"] = (12, 8)\n",
        "plt.plot(tamaño,fuerza,'o')\n",
        "plt.ylabel('Fuerza promdio de pokemon',fontsize=18)\n",
        "plt.xlabel('Tamaño promedio de pokemon',fontsize=18)\n",
        "#plt.hlines(y=np.mean(fuerza), xmin=120, xmax=326, colors='red', linestyles='dashed')\n",
        "\n",
        "plt.grid()"
      ],
      "metadata": {
        "colab": {
          "base_uri": "https://localhost:8080/",
          "height": 505
        },
        "id": "tthvNyY47W12",
        "outputId": "1a874cba-a8a6-43e8-fb2a-41c8ecc195fc"
      },
      "execution_count": null,
      "outputs": [
        {
          "output_type": "display_data",
          "data": {
            "text/plain": [
              "<Figure size 864x576 with 1 Axes>"
            ],
            "image/png": "[encoded data removed]"
          },
          "metadata": {
            "needs_background": "light"
          }
        }
      ]
    },
    {
      "cell_type": "markdown",
      "source": [
        "En el gráfico de arriba se grafico la fuerza promedio de los pokemon para cada cluster vs el tamaño promedio de los pokeones de cada cluster. No se observa una relación entre la fuerza y el tamaño para los clusters. En particular el cluster con pokemones más grande en promedio, es uno de los menos fuertes.\n",
        "\n",
        "\n",
        "Por lo tanto, un cluster con pokemones más grandes(en promedio) no significa que será un cluster con pokemones más fuertes(en promedio)."
      ],
      "metadata": {
        "id": "B39oIBro7njv"
      }
    },
    {
      "cell_type": "markdown",
      "source": [
        "## 6)   Hacer gráficos de torta con la proporción de Pokémones legendarios/no legendarios por cluster. ¿Tiene el cluster de Pokémones más fuertes más legendarios que los otros? "
      ],
      "metadata": {
        "id": "SRyO-ML3fTHE"
      }
    },
    {
      "cell_type": "markdown",
      "source": [
        "Uso el dataframe 'df_cluster' y lo intersecto con el dataframe 'df' que contiene si los pokemones son o no Legendarios. Para esto, uso el nro de pokemon, que está en la columna '#'."
      ],
      "metadata": {
        "id": "d9YKo_XyjT1r"
      }
    },
    {
      "cell_type": "code",
      "source": [
        "df_clusters=[df_cluster0,df_cluster1,df_cluster2,df_cluster3,df_cluster4,df_cluster5,df_cluster6,df_cluster7]\n",
        "label_legendarios=['Legendary','No Legendary']\n",
        "fig, axs = plt.subplots(nrows = 1, ncols = len(df_clusters), figsize = (24, 8))\n",
        "porc_leg=[]\n",
        "#df_tortas=[df_torta_c0,df_torta_c1,df_torta_c2,df_torta_c3,]\n",
        "\n",
        "for i, df_cluster_aux in enumerate(df_clusters):\n",
        "  #Le saco el indice a los dataframe\n",
        "  df_cluster_aux=df_cluster_aux.reset_index()\n",
        "  #Me quedo con la columna del numero de pokemones(es una serie pandas), y lo convierto a dataframe\n",
        "  df_cluster_aux=df_cluster_aux['#'].to_frame()\n",
        "  #Me quedo con la intersección entre el dataframe 'df_poke' que contiene todos los datos de todos los pokemones\n",
        "  #Y 'df_cluster_aux' que tiene los identificadores de los pokemones de cada cluster para cada iteración del for.\n",
        "  df_cluster = df_poke.merge(df_cluster_aux, how = 'inner', on='#')\n",
        "  num_leg=sum(df_cluster['Legendary']) #Como cada pokemon que es legendario, aparece con un 1 y los que no con 0.\n",
        "  # Si los sumo, me da la cantidad de pokemones legendarios.\n",
        "  num_no_leg=df_cluster.shape[0]-num_leg#La cantidad de no legendarios\n",
        "  array_cluster=np.array([num_leg,num_no_leg]) #Array con la cantidad de pokemones legendarios y no legendarios\n",
        "  serie_cluster=pd.Series(array_cluster)#Convierto el array de la línea anterior a una serie pandas (el input necesario para plotear en el grafico de torta)\n",
        "\n",
        "  #Ploteo el grafico de tortas\n",
        "  porc=serie_cluster / serie_cluster.sum()\n",
        "  porc_leg.append(porc[0])\n",
        "  axs[i].pie(serie_cluster / serie_cluster.sum(),\n",
        "            colors = plt.get_cmap('Set2').colors, autopct=\"%0.1f %%\")\n",
        "\n",
        "  axs[i].legend(label_legendarios, loc = (-0.12,-0.15))\n",
        "\n",
        "\n",
        "plt.show()\n"
      ],
      "metadata": {
        "colab": {
          "base_uri": "https://localhost:8080/",
          "height": 184
        },
        "id": "gtqm5KZEbL_S",
        "outputId": "adc6af41-da14-43a7-98ed-f933a817d6ea"
      },
      "execution_count": null,
      "outputs": [
        {
          "output_type": "display_data",
          "data": {
            "text/plain": [
              "<Figure size 1728x576 with 8 Axes>"
            ],
            "image/png": "[encoded data removed]"
          },
          "metadata": {}
        }
      ]
    },
    {
      "cell_type": "code",
      "source": [
        "porc_leg"
      ],
      "metadata": {
        "colab": {
          "base_uri": "https://localhost:8080/"
        },
        "id": "JMQzHNqrQK1_",
        "outputId": "95e063ac-df69-4b28-f408-876af1735d81"
      },
      "execution_count": null,
      "outputs": [
        {
          "output_type": "execute_result",
          "data": {
            "text/plain": [
              "[0.04918032786885246,\n",
              " 0.09027777777777778,\n",
              " 0.02127659574468085,\n",
              " 0.027777777777777776,\n",
              " 0.030612244897959183,\n",
              " 0.08333333333333333,\n",
              " 0.043478260869565216,\n",
              " 0.0707070707070707]"
            ]
          },
          "metadata": {},
          "execution_count": 243
        }
      ]
    },
    {
      "cell_type": "code",
      "source": [
        "print('Suma de todos los atributos',sum_cluster)"
      ],
      "metadata": {
        "colab": {
          "base_uri": "https://localhost:8080/"
        },
        "id": "o6rbbep_IlqU",
        "outputId": "769920ec-bed5-40e0-b685-a139e91c41e5"
      },
      "execution_count": null,
      "outputs": [
        {
          "output_type": "stream",
          "name": "stdout",
          "text": [
            "Suma de todos los atributos [280.44262295081967, 283.66666666666663, 278.2978723404255, 267.9259259259259, 266.84693877551024, 284.8958333333333, 289.3152173913044, 282.95]\n"
          ]
        }
      ]
    },
    {
      "cell_type": "code",
      "source": [
        "plt.rcParams[\"figure.figsize\"] = (12, 8)\n",
        "plt.plot(porc_leg,sum_cluster,'.')\n",
        "plt.ylabel('Poder del pokemon promedio',fontsize=18)\n",
        "plt.xlabel('Porcentaje de pokemones legendarios',fontsize=18)\n",
        "plt.grid()"
      ],
      "metadata": {
        "colab": {
          "base_uri": "https://localhost:8080/",
          "height": 505
        },
        "id": "i1AgZ7uiP9u4",
        "outputId": "c087eda2-6274-4bb2-e428-36a226a4b3b1"
      },
      "execution_count": null,
      "outputs": [
        {
          "output_type": "display_data",
          "data": {
            "text/plain": [
              "<Figure size 864x576 with 1 Axes>"
            ],
            "image/png": "[encoded data removed]"
          },
          "metadata": {
            "needs_background": "light"
          }
        }
      ]
    },
    {
      "cell_type": "markdown",
      "source": [
        "Se puede observar que el cluster más poderoso(el cluster 6) no es el que más pokemones legendarios tiene. Solo cuenta con un 4,3% de pokemones legendarios, situandose como el quinto cluster con más pokemones legendarios(de 8).\n",
        "\n"
      ],
      "metadata": {
        "id": "ucRO3BbxHimk"
      }
    },
    {
      "cell_type": "markdown",
      "source": [
        "Se graficó el poder del pokemon promedio, osea la suma de 'HP', 'Attack', 'Defense', 'Speed' de todos los pokemones de cada cluster, dividido el numero total de pokemones en función del porcentaje de pokemones legendarios que hay en ese cluster. Se puede observar, salvo en el cluster 2 y el cluster 6(el más fuerte) una tendencia Creciente. "
      ],
      "metadata": {
        "id": "lAZ1KwpvRhKL"
      }
    },
    {
      "cell_type": "markdown",
      "source": [
        "## 7) Voy a entrenar, evaluar y determinarla performance de un modelo de clasificación binaria, para predecir si un pokemon es legendario o no."
      ],
      "metadata": {
        "id": "oJWE1T0oCJ44"
      }
    },
    {
      "cell_type": "markdown",
      "source": [
        "El dataframe "
      ],
      "metadata": {
        "id": "Vn0D2iy5Dq5s"
      }
    },
    {
      "cell_type": "code",
      "source": [
        "from sklearn.model_selection import train_test_split\n",
        "from sklearn.ensemble import RandomForestClassifier\n",
        "from sklearn.metrics import roc_auc_score"
      ],
      "metadata": {
        "id": "uLp2AXkIE7xB"
      },
      "execution_count": null,
      "outputs": []
    },
    {
      "cell_type": "markdown",
      "source": [
        "Las columnasque voy a usar para entrenar"
      ],
      "metadata": {
        "id": "Tn9Z6JgjKi5a"
      }
    },
    {
      "cell_type": "code",
      "source": [
        "df_ej7.columns[:len(df_ej7.columns)-1]"
      ],
      "metadata": {
        "colab": {
          "base_uri": "https://localhost:8080/"
        },
        "id": "ylm7wZ7uEuOg",
        "outputId": "41d9beed-5a89-4d5a-bcb2-58a5f9c9bb3b"
      },
      "execution_count": null,
      "outputs": [
        {
          "output_type": "execute_result",
          "data": {
            "text/plain": [
              "Index(['Type 1', 'Type 2', 'Total', 'HP', 'Attack', 'Defense', 'Sp. Atk',\n",
              "       'Sp. Def', 'Speed', 'Generation'],\n",
              "      dtype='object')"
            ]
          },
          "metadata": {},
          "execution_count": 303
        }
      ]
    },
    {
      "cell_type": "code",
      "execution_count": null,
      "metadata": {
        "id": "Lvm-ZvQeIVqu"
      },
      "outputs": [],
      "source": [
        "y = np.array(df_ej7['Legendary']) # armo el vector de etiquetas\n",
        "\n",
        "# vamos a entrenar un modelo usando únicamente variables asociadas a clima\n",
        "columnas_entrenamiento = df_ej7.columns[:len(df_ej7.columns)-1] \n",
        "\n",
        "# extraigo la matriz de features X\n",
        "X = np.array(df_ej7[columnas_entrenamiento])\n",
        "\n",
        "\n",
        "# train-test split\n",
        "X_train, X_test, y_train, y_test = train_test_split(X, y, test_size=0.3, random_state=10)"
      ]
    },
    {
      "cell_type": "code",
      "execution_count": null,
      "metadata": {
        "id": "L6oyO_AbZC_S",
        "colab": {
          "base_uri": "https://localhost:8080/"
        },
        "outputId": "181bcfb8-f252-44f0-891b-7ddb6de0b855"
      },
      "outputs": [
        {
          "output_type": "execute_result",
          "data": {
            "text/plain": [
              "(0.9968021927820924, 1.0)"
            ]
          },
          "metadata": {},
          "execution_count": 306
        }
      ],
      "source": [
        "# pruebo con un random forest, con alpha = 1.47e-07\n",
        "clf = RandomForestClassifier()\n",
        "\n",
        "# ajusto el modelo\n",
        "clf.fit(X_train, y_train)\n",
        "\n",
        "# armo el vector de predicciones.\n",
        "y_hat_test = clf.predict_proba(X_test)[:, 1]\n",
        "y_hat_train = clf.predict_proba(X_train)[:, 1]\n",
        "\n",
        "# evaluo el AUC\n",
        "roc_test = roc_auc_score(y_test, y_hat_test)\n",
        "roc_train = roc_auc_score(y_train, y_hat_train)\n",
        "roc_test, roc_train"
      ]
    },
    {
      "cell_type": "markdown",
      "source": [
        "Sospecho que la peformance es ta buena porque en el orden de los pokemones se esconde información, por ejemplo: los primeros de cada generación son los pokemones iniciales, y los últimos son legendarios. Así que barajo las filas:"
      ],
      "metadata": {
        "id": "PyKBKShOGGN-"
      }
    },
    {
      "cell_type": "code",
      "source": [
        "df_shuffle=df_ej7.sample(frac=1).reset_index(drop=True)\n",
        "df_shuffle"
      ],
      "metadata": {
        "colab": {
          "base_uri": "https://localhost:8080/",
          "height": 424
        },
        "id": "OggPWrxWFsV6",
        "outputId": "a7470b16-3e40-473e-f936-65c6e5b41ba3"
      },
      "execution_count": null,
      "outputs": [
        {
          "output_type": "execute_result",
          "data": {
            "text/plain": [
              "     Type 1  Type 2  Total  HP  Attack  Defense  Sp. Atk  Sp. Def  Speed  \\\n",
              "0         8    19.0    309  39      52       43       60       50     65   \n",
              "1        18     1.0    600  80      80       90      110      130    110   \n",
              "2        16    19.0    390  70     105      105       50       40     20   \n",
              "3        11    19.0    400  65      73       55       47       75     85   \n",
              "4        10    19.0    300  50      75       85       20       30     40   \n",
              "..      ...     ...    ...  ..     ...      ...      ...      ...    ...   \n",
              "693       3    19.0    200  20      10       55       15       20     80   \n",
              "694      16     3.0    355  35      40      100       90       55     35   \n",
              "695       7    19.0    280  45      35       50       70       50     30   \n",
              "696      13    16.0    530  70     110      180       60       60     50   \n",
              "697       3    10.0    405  70      85       70       60       70     50   \n",
              "\n",
              "     Generation  Legendary  \n",
              "0             1          0  \n",
              "1             3          1  \n",
              "2             5          0  \n",
              "3             3          0  \n",
              "4             1          0  \n",
              "..          ...        ...  \n",
              "693           1          0  \n",
              "694           1          0  \n",
              "695           5          0  \n",
              "696           3          0  \n",
              "697           3          0  \n",
              "\n",
              "[698 rows x 11 columns]"
            ],
            "text/html": [
              "\n",
              "  <div id=\"df-371934d7-53a1-43bc-a03a-d6e93487e4f0\">\n",
              "    <div class=\"colab-df-container\">\n",
              "      <div>\n",
              "<style scoped>\n",
              "    .dataframe tbody tr th:only-of-type {\n",
              "        vertical-align: middle;\n",
              "    }\n",
              "\n",
              "    .dataframe tbody tr th {\n",
              "        vertical-align: top;\n",
              "    }\n",
              "\n",
              "    .dataframe thead th {\n",
              "        text-align: right;\n",
              "    }\n",
              "</style>\n",
              "<table border=\"1\" class=\"dataframe\">\n",
              "  <thead>\n",
              "    <tr style=\"text-align: right;\">\n",
              "      <th></th>\n",
              "      <th>Type 1</th>\n",
              "      <th>Type 2</th>\n",
              "      <th>Total</th>\n",
              "      <th>HP</th>\n",
              "      <th>Attack</th>\n",
              "      <th>Defense</th>\n",
              "      <th>Sp. Atk</th>\n",
              "      <th>Sp. Def</th>\n",
              "      <th>Speed</th>\n",
              "      <th>Generation</th>\n",
              "      <th>Legendary</th>\n",
              "    </tr>\n",
              "  </thead>\n",
              "  <tbody>\n",
              "    <tr>\n",
              "      <th>0</th>\n",
              "      <td>8</td>\n",
              "      <td>19.0</td>\n",
              "      <td>309</td>\n",
              "      <td>39</td>\n",
              "      <td>52</td>\n",
              "      <td>43</td>\n",
              "      <td>60</td>\n",
              "      <td>50</td>\n",
              "      <td>65</td>\n",
              "      <td>1</td>\n",
              "      <td>0</td>\n",
              "    </tr>\n",
              "    <tr>\n",
              "      <th>1</th>\n",
              "      <td>18</td>\n",
              "      <td>1.0</td>\n",
              "      <td>600</td>\n",
              "      <td>80</td>\n",
              "      <td>80</td>\n",
              "      <td>90</td>\n",
              "      <td>110</td>\n",
              "      <td>130</td>\n",
              "      <td>110</td>\n",
              "      <td>3</td>\n",
              "      <td>1</td>\n",
              "    </tr>\n",
              "    <tr>\n",
              "      <th>2</th>\n",
              "      <td>16</td>\n",
              "      <td>19.0</td>\n",
              "      <td>390</td>\n",
              "      <td>70</td>\n",
              "      <td>105</td>\n",
              "      <td>105</td>\n",
              "      <td>50</td>\n",
              "      <td>40</td>\n",
              "      <td>20</td>\n",
              "      <td>5</td>\n",
              "      <td>0</td>\n",
              "    </tr>\n",
              "    <tr>\n",
              "      <th>3</th>\n",
              "      <td>11</td>\n",
              "      <td>19.0</td>\n",
              "      <td>400</td>\n",
              "      <td>65</td>\n",
              "      <td>73</td>\n",
              "      <td>55</td>\n",
              "      <td>47</td>\n",
              "      <td>75</td>\n",
              "      <td>85</td>\n",
              "      <td>3</td>\n",
              "      <td>0</td>\n",
              "    </tr>\n",
              "    <tr>\n",
              "      <th>4</th>\n",
              "      <td>10</td>\n",
              "      <td>19.0</td>\n",
              "      <td>300</td>\n",
              "      <td>50</td>\n",
              "      <td>75</td>\n",
              "      <td>85</td>\n",
              "      <td>20</td>\n",
              "      <td>30</td>\n",
              "      <td>40</td>\n",
              "      <td>1</td>\n",
              "      <td>0</td>\n",
              "    </tr>\n",
              "    <tr>\n",
              "      <th>...</th>\n",
              "      <td>...</td>\n",
              "      <td>...</td>\n",
              "      <td>...</td>\n",
              "      <td>...</td>\n",
              "      <td>...</td>\n",
              "      <td>...</td>\n",
              "      <td>...</td>\n",
              "      <td>...</td>\n",
              "      <td>...</td>\n",
              "      <td>...</td>\n",
              "      <td>...</td>\n",
              "    </tr>\n",
              "    <tr>\n",
              "      <th>693</th>\n",
              "      <td>3</td>\n",
              "      <td>19.0</td>\n",
              "      <td>200</td>\n",
              "      <td>20</td>\n",
              "      <td>10</td>\n",
              "      <td>55</td>\n",
              "      <td>15</td>\n",
              "      <td>20</td>\n",
              "      <td>80</td>\n",
              "      <td>1</td>\n",
              "      <td>0</td>\n",
              "    </tr>\n",
              "    <tr>\n",
              "      <th>694</th>\n",
              "      <td>16</td>\n",
              "      <td>3.0</td>\n",
              "      <td>355</td>\n",
              "      <td>35</td>\n",
              "      <td>40</td>\n",
              "      <td>100</td>\n",
              "      <td>90</td>\n",
              "      <td>55</td>\n",
              "      <td>35</td>\n",
              "      <td>1</td>\n",
              "      <td>0</td>\n",
              "    </tr>\n",
              "    <tr>\n",
              "      <th>695</th>\n",
              "      <td>7</td>\n",
              "      <td>19.0</td>\n",
              "      <td>280</td>\n",
              "      <td>45</td>\n",
              "      <td>35</td>\n",
              "      <td>50</td>\n",
              "      <td>70</td>\n",
              "      <td>50</td>\n",
              "      <td>30</td>\n",
              "      <td>5</td>\n",
              "      <td>0</td>\n",
              "    </tr>\n",
              "    <tr>\n",
              "      <th>696</th>\n",
              "      <td>13</td>\n",
              "      <td>16.0</td>\n",
              "      <td>530</td>\n",
              "      <td>70</td>\n",
              "      <td>110</td>\n",
              "      <td>180</td>\n",
              "      <td>60</td>\n",
              "      <td>60</td>\n",
              "      <td>50</td>\n",
              "      <td>3</td>\n",
              "      <td>0</td>\n",
              "    </tr>\n",
              "    <tr>\n",
              "      <th>697</th>\n",
              "      <td>3</td>\n",
              "      <td>10.0</td>\n",
              "      <td>405</td>\n",
              "      <td>70</td>\n",
              "      <td>85</td>\n",
              "      <td>70</td>\n",
              "      <td>60</td>\n",
              "      <td>70</td>\n",
              "      <td>50</td>\n",
              "      <td>3</td>\n",
              "      <td>0</td>\n",
              "    </tr>\n",
              "  </tbody>\n",
              "</table>\n",
              "<p>698 rows × 11 columns</p>\n",
              "</div>\n",
              "      <button class=\"colab-df-convert\" onclick=\"convertToInteractive('df-371934d7-53a1-43bc-a03a-d6e93487e4f0')\"\n",
              "              title=\"Convert this dataframe to an interactive table.\"\n",
              "              style=\"display:none;\">\n",
              "        \n",
              "  <svg xmlns=\"http://www.w3.org/2000/svg\" height=\"24px\"viewBox=\"0 0 24 24\"\n",
              "       width=\"24px\">\n",
              "    <path d=\"M0 0h24v24H0V0z\" fill=\"none\"/>\n",
              "    <path d=\"M18.56 5.44l.94 2.06.94-2.06 2.06-.94-2.06-.94-.94-2.06-.94 2.06-2.06.94zm-11 1L8.5 8.5l.94-2.06 2.06-.94-2.06-.94L8.5 2.5l-.94 2.06-2.06.94zm10 10l.94 2.06.94-2.06 2.06-.94-2.06-.94-.94-2.06-.94 2.06-2.06.94z\"/><path d=\"M17.41 7.96l-1.37-1.37c-.4-.4-.92-.59-1.43-.59-.52 0-1.04.2-1.43.59L10.3 9.45l-7.72 7.72c-.78.78-.78 2.05 0 2.83L4 21.41c.39.39.9.59 1.41.59.51 0 1.02-.2 1.41-.59l7.78-7.78 2.81-2.81c.8-.78.8-2.07 0-2.86zM5.41 20L4 18.59l7.72-7.72 1.47 1.35L5.41 20z\"/>\n",
              "  </svg>\n",
              "      </button>\n",
              "      \n",
              "  <style>\n",
              "    .colab-df-container {\n",
              "      display:flex;\n",
              "      flex-wrap:wrap;\n",
              "      gap: 12px;\n",
              "    }\n",
              "\n",
              "    .colab-df-convert {\n",
              "      background-color: #E8F0FE;\n",
              "      border: none;\n",
              "      border-radius: 50%;\n",
              "      cursor: pointer;\n",
              "      display: none;\n",
              "      fill: #1967D2;\n",
              "      height: 32px;\n",
              "      padding: 0 0 0 0;\n",
              "      width: 32px;\n",
              "    }\n",
              "\n",
              "    .colab-df-convert:hover {\n",
              "      background-color: #E2EBFA;\n",
              "      box-shadow: 0px 1px 2px rgba(60, 64, 67, 0.3), 0px 1px 3px 1px rgba(60, 64, 67, 0.15);\n",
              "      fill: #174EA6;\n",
              "    }\n",
              "\n",
              "    [theme=dark] .colab-df-convert {\n",
              "      background-color: #3B4455;\n",
              "      fill: #D2E3FC;\n",
              "    }\n",
              "\n",
              "    [theme=dark] .colab-df-convert:hover {\n",
              "      background-color: #434B5C;\n",
              "      box-shadow: 0px 1px 3px 1px rgba(0, 0, 0, 0.15);\n",
              "      filter: drop-shadow(0px 1px 2px rgba(0, 0, 0, 0.3));\n",
              "      fill: #FFFFFF;\n",
              "    }\n",
              "  </style>\n",
              "\n",
              "      <script>\n",
              "        const buttonEl =\n",
              "          document.querySelector('#df-371934d7-53a1-43bc-a03a-d6e93487e4f0 button.colab-df-convert');\n",
              "        buttonEl.style.display =\n",
              "          google.colab.kernel.accessAllowed ? 'block' : 'none';\n",
              "\n",
              "        async function convertToInteractive(key) {\n",
              "          const element = document.querySelector('#df-371934d7-53a1-43bc-a03a-d6e93487e4f0');\n",
              "          const dataTable =\n",
              "            await google.colab.kernel.invokeFunction('convertToInteractive',\n",
              "                                                     [key], {});\n",
              "          if (!dataTable) return;\n",
              "\n",
              "          const docLinkHtml = 'Like what you see? Visit the ' +\n",
              "            '<a target=\"_blank\" href=https://colab.research.google.com/notebooks/data_table.ipynb>data table notebook</a>'\n",
              "            + ' to learn more about interactive tables.';\n",
              "          element.innerHTML = '';\n",
              "          dataTable['output_type'] = 'display_data';\n",
              "          await google.colab.output.renderOutput(dataTable, element);\n",
              "          const docLink = document.createElement('div');\n",
              "          docLink.innerHTML = docLinkHtml;\n",
              "          element.appendChild(docLink);\n",
              "        }\n",
              "      </script>\n",
              "    </div>\n",
              "  </div>\n",
              "  "
            ]
          },
          "metadata": {},
          "execution_count": 304
        }
      ]
    },
    {
      "cell_type": "code",
      "execution_count": null,
      "metadata": {
        "id": "CvVl2aTzGUXP"
      },
      "outputs": [],
      "source": [
        "y = np.array(df_shuffle['Legendary']) # armo el vector de etiquetas\n",
        "\n",
        "# vamos a entrenar un modelo usando únicamente variables asociadas a clima\n",
        "columnas_entrenamiento = df_shuffle.columns[:len(df_shuffle.columns)-1] \n",
        "\n",
        "# extraigo la matriz de features X\n",
        "X = np.array(df_shuffle[columnas_entrenamiento])\n",
        "\n",
        "\n",
        "# train-test split\n",
        "X_train, X_test, y_train, y_test = train_test_split(X, y, test_size=0.3, random_state=10)"
      ]
    },
    {
      "cell_type": "code",
      "execution_count": null,
      "metadata": {
        "colab": {
          "base_uri": "https://localhost:8080/"
        },
        "outputId": "7474680c-d86d-463a-919e-f919a4a2987b",
        "id": "di415z4BGUXP"
      },
      "outputs": [
        {
          "output_type": "execute_result",
          "data": {
            "text/plain": [
              "(0.9914096056228037, 1.0)"
            ]
          },
          "metadata": {},
          "execution_count": 284
        }
      ],
      "source": [
        "# pruebo con un random forest, con alpha = 1.47e-07\n",
        "clf = RandomForestClassifier()\n",
        "\n",
        "# ajusto el modelo\n",
        "clf.fit(X_train, y_train)\n",
        "\n",
        "# armo el vector de predicciones.\n",
        "y_hat_test = clf.predict_proba(X_test)[:, 1]\n",
        "y_hat_train = clf.predict_proba(X_train)[:, 1]\n",
        "\n",
        "# evaluo el AUC\n",
        "roc_test = roc_auc_score(y_test, y_hat_test)\n",
        "roc_train = roc_auc_score(y_train, y_hat_train)\n",
        "roc_test, roc_train"
      ]
    },
    {
      "cell_type": "markdown",
      "source": [
        "El feature más imporante para determinar si un pokemon es o no legendario, es la suma total de sus atributos:"
      ],
      "metadata": {
        "id": "nMYkcLC3HzF5"
      }
    },
    {
      "cell_type": "code",
      "source": [
        "clf.feature_importances_"
      ],
      "metadata": {
        "colab": {
          "base_uri": "https://localhost:8080/"
        },
        "id": "6yU2OO61GsZW",
        "outputId": "059dcadb-47c3-45f8-fa9d-51943b849a5d"
      },
      "execution_count": null,
      "outputs": [
        {
          "output_type": "execute_result",
          "data": {
            "text/plain": [
              "array([0.03844463, 0.03085117, 0.49226824, 0.0658957 , 0.05606323,\n",
              "       0.06432813, 0.08438996, 0.0776855 , 0.07031041, 0.01976303])"
            ]
          },
          "metadata": {},
          "execution_count": 295
        }
      ]
    },
    {
      "cell_type": "markdown",
      "source": [
        "## Que tanto mejor que el azar es mi modelo:"
      ],
      "metadata": {
        "id": "TSAVAWgZRKIW"
      }
    },
    {
      "cell_type": "code",
      "source": [
        "from sklearn.model_selection import permutation_test_score\n",
        "from sklearn.model_selection import StratifiedKFold\n",
        "\n",
        "\n",
        "clf = RandomForestClassifier()   # creamos un objeto clasificador\n",
        "skf = StratifiedKFold(n_splits=5, shuffle=True) # creamos un objeto de cross-validation\n",
        "\n",
        "AUC, AUC_shuffled, pvalue = permutation_test_score(clf, X, y, scoring=\"roc_auc\", cv=skf, n_permutations=100) # aca aplico la funcion \n",
        "# Notar que la función de arriba recibe como argumentos el clasificador (clf) y la forma de hacer validación cruzada (skf), \n",
        "# además de los datos y el número de permutaciones que hacemos para construir nuestro modelo al azar.\n",
        "\n",
        "print('Sin shufflear:')\n",
        "print(AUC)\n",
        "print('Modelo nulo (shuffleando):')\n",
        "print(AUC_shuffled)\n",
        "print('p-valor:')\n",
        "print(pvalue)"
      ],
      "metadata": {
        "colab": {
          "base_uri": "https://localhost:8080/"
        },
        "id": "knG4Vcd8GoeV",
        "outputId": "a2040201-f7f3-48e4-c72c-ab67b4a2596a"
      },
      "execution_count": null,
      "outputs": [
        {
          "output_type": "stream",
          "name": "stdout",
          "text": [
            "Sin shufflear:\n",
            "0.9364440893877651\n",
            "Modelo nulo (shuffleando):\n",
            "[0.50634103 0.49731837 0.51133897 0.50485933 0.4977057  0.49504987\n",
            " 0.49390532 0.49794822 0.4988983  0.50734558 0.49512506 0.49588718\n",
            " 0.5083348  0.50668635 0.48582141 0.49743996 0.50047948 0.50840538\n",
            " 0.50739419 0.50870853 0.50953768 0.49378364 0.50308319 0.50565192\n",
            " 0.49596019 0.50708356 0.49738096 0.50301808 0.49675488 0.50273768\n",
            " 0.49783319 0.4938907  0.49022583 0.49507293 0.50170968 0.48405359\n",
            " 0.49378394 0.50177232 0.50261996 0.49089655 0.49544975 0.50117047\n",
            " 0.49279294 0.4913789  0.50062938 0.50751554 0.49664236 0.5070081\n",
            " 0.5121442  0.49968538 0.49458996 0.50324632 0.4875674  0.50032442\n",
            " 0.51350643 0.49756923 0.5027774  0.50456511 0.49896092 0.49422442\n",
            " 0.49896461 0.50835082 0.50081365 0.48613939 0.4965942  0.50335865\n",
            " 0.49706897 0.50656281 0.50322732 0.50372484 0.4875995  0.50971484\n",
            " 0.49886523 0.49009729 0.49875199 0.50335274 0.50196089 0.50852608\n",
            " 0.50434643 0.49899247 0.49254958 0.50063023 0.49039172 0.50427829\n",
            " 0.49818353 0.50074049 0.49473489 0.50259816 0.50033062 0.50158975\n",
            " 0.49330422 0.50244356 0.500958   0.50370827 0.50847471 0.50474965\n",
            " 0.49225897 0.48948295 0.49998785 0.49154574]\n",
            "p-valor:\n",
            "0.009900990099009901\n"
          ]
        }
      ]
    },
    {
      "cell_type": "code",
      "source": [
        "import matplotlib.pyplot as plt\n",
        "\n",
        "fig, ax = plt.subplots()\n",
        "\n",
        "ax.hist(AUC_shuffled, bins=20, density=True) # armo el histograma de valores, normalizado para tener la probabilidad\n",
        "ax.axvline(AUC, ls='--', color='r') # una linea vertical para indicar el AUC sin shufflear (modelo real)\n",
        "ax.set_xlabel(\"AUC\") # nombre de eje x\n",
        "ax.set_ylabel(\"Probabilidad\") # nombre de eje y"
      ],
      "metadata": {
        "colab": {
          "base_uri": "https://localhost:8080/",
          "height": 297
        },
        "id": "ARcoSTScK4ce",
        "outputId": "0673d42f-bb27-4e8c-a86b-e19acccf7abf"
      },
      "execution_count": null,
      "outputs": [
        {
          "output_type": "execute_result",
          "data": {
            "text/plain": [
              "Text(0, 0.5, 'Probabilidad')"
            ]
          },
          "metadata": {},
          "execution_count": 26
        },
        {
          "output_type": "display_data",
          "data": {
            "text/plain": [
              "<Figure size 432x288 with 1 Axes>"
            ],
            "image/png": "[encoded data removed]"
          },
          "metadata": {
            "needs_background": "light"
          }
        }
      ]
    },
    {
      "cell_type": "markdown",
      "source": [
        "Ahora que se que el feature más importante es el de atributos totales, osea 'Total'. Me gustaría ver cómo el comportamiento de este atributo, influye en la predicción de mi modelo, de si es o no un pokemon legendario. Para esto insalo la librería pdpbox:"
      ],
      "metadata": {
        "id": "qyAjCE5eLGwo"
      }
    },
    {
      "cell_type": "code",
      "source": [
        "pip install pdpbox"
      ],
      "metadata": {
        "colab": {
          "base_uri": "https://localhost:8080/",
          "height": 711
        },
        "id": "_pcbnQ47I1aZ",
        "outputId": "c222b7bf-a22e-40e6-aa0c-91cfe33e5b69"
      },
      "execution_count": null,
      "outputs": [
        {
          "output_type": "stream",
          "name": "stdout",
          "text": [
            "Looking in indexes: https://pypi.org/simple, https://us-python.pkg.dev/colab-wheels/public/simple/\n",
            "Collecting pdpbox\n",
            "  Downloading PDPbox-0.2.1.tar.gz (34.0 MB)\n",
            "\u001b[K     |████████████████████████████████| 34.0 MB 201 kB/s \n",
            "\u001b[?25hRequirement already satisfied: pandas in /usr/local/lib/python3.7/dist-packages (from pdpbox) (1.3.5)\n",
            "Requirement already satisfied: numpy in /usr/local/lib/python3.7/dist-packages (from pdpbox) (1.21.6)\n",
            "Requirement already satisfied: scipy in /usr/local/lib/python3.7/dist-packages (from pdpbox) (1.4.1)\n",
            "Requirement already satisfied: joblib in /usr/local/lib/python3.7/dist-packages (from pdpbox) (1.1.0)\n",
            "Requirement already satisfied: psutil in /usr/local/lib/python3.7/dist-packages (from pdpbox) (5.4.8)\n",
            "Collecting matplotlib==3.1.1\n",
            "  Downloading matplotlib-3.1.1-cp37-cp37m-manylinux1_x86_64.whl (13.1 MB)\n",
            "\u001b[K     |████████████████████████████████| 13.1 MB 11 kB/s \n",
            "\u001b[?25hRequirement already satisfied: sklearn in /usr/local/lib/python3.7/dist-packages (from pdpbox) (0.0)\n",
            "Requirement already satisfied: kiwisolver>=1.0.1 in /usr/local/lib/python3.7/dist-packages (from matplotlib==3.1.1->pdpbox) (1.4.3)\n",
            "Requirement already satisfied: pyparsing!=2.0.4,!=2.1.2,!=2.1.6,>=2.0.1 in /usr/local/lib/python3.7/dist-packages (from matplotlib==3.1.1->pdpbox) (3.0.9)\n",
            "Requirement already satisfied: python-dateutil>=2.1 in /usr/local/lib/python3.7/dist-packages (from matplotlib==3.1.1->pdpbox) (2.8.2)\n",
            "Requirement already satisfied: cycler>=0.10 in /usr/local/lib/python3.7/dist-packages (from matplotlib==3.1.1->pdpbox) (0.11.0)\n",
            "Requirement already satisfied: typing-extensions in /usr/local/lib/python3.7/dist-packages (from kiwisolver>=1.0.1->matplotlib==3.1.1->pdpbox) (4.1.1)\n",
            "Requirement already satisfied: six>=1.5 in /usr/local/lib/python3.7/dist-packages (from python-dateutil>=2.1->matplotlib==3.1.1->pdpbox) (1.15.0)\n",
            "Requirement already satisfied: pytz>=2017.3 in /usr/local/lib/python3.7/dist-packages (from pandas->pdpbox) (2022.1)\n",
            "Requirement already satisfied: scikit-learn in /usr/local/lib/python3.7/dist-packages (from sklearn->pdpbox) (1.0.2)\n",
            "Requirement already satisfied: threadpoolctl>=2.0.0 in /usr/local/lib/python3.7/dist-packages (from scikit-learn->sklearn->pdpbox) (3.1.0)\n",
            "Building wheels for collected packages: pdpbox\n",
            "  Building wheel for pdpbox (setup.py) ... \u001b[?25l\u001b[?25hdone\n",
            "  Created wheel for pdpbox: filename=PDPbox-0.2.1-py3-none-any.whl size=35758224 sha256=4c7fd5f4b6b8f870c7d74fb23656017560cb362eb26ce4f84d4b5f2c943d7c35\n",
            "  Stored in directory: /root/.cache/pip/wheels/f4/d0/1a/b80035625c53131f52906a6fc4dd690d8efd2bf8af6a4015eb\n",
            "Successfully built pdpbox\n",
            "Installing collected packages: matplotlib, pdpbox\n",
            "  Attempting uninstall: matplotlib\n",
            "    Found existing installation: matplotlib 3.2.2\n",
            "    Uninstalling matplotlib-3.2.2:\n",
            "      Successfully uninstalled matplotlib-3.2.2\n",
            "\u001b[31mERROR: pip's dependency resolver does not currently take into account all the packages that are installed. This behaviour is the source of the following dependency conflicts.\n",
            "albumentations 0.1.12 requires imgaug<0.2.7,>=0.2.5, but you have imgaug 0.2.9 which is incompatible.\u001b[0m\n",
            "Successfully installed matplotlib-3.1.1 pdpbox-0.2.1\n"
          ]
        },
        {
          "output_type": "display_data",
          "data": {
            "application/vnd.colab-display-data+json": {
              "pip_warning": {
                "packages": [
                  "matplotlib",
                  "mpl_toolkits"
                ]
              }
            }
          },
          "metadata": {}
        }
      ]
    },
    {
      "cell_type": "markdown",
      "source": [
        "Necesito que usar los datos en formato dataframe:"
      ],
      "metadata": {
        "id": "Hd9aH5eGLgCD"
      }
    },
    {
      "cell_type": "code",
      "source": [
        "df_X=df_shuffle[columnas_entrenamiento]\n",
        "# train-test split\n",
        "df_X_train, df_X_test, df_y_train, df_y_test = train_test_split(df_X, y, test_size=0.3, random_state=10)"
      ],
      "metadata": {
        "id": "w1Nt98JcJUyI"
      },
      "execution_count": null,
      "outputs": []
    },
    {
      "cell_type": "code",
      "source": [
        "from matplotlib import pyplot as plt\n",
        "from pdpbox import pdp, get_dataset, info_plots\n",
        "\n",
        "feat_name = 'Total'\n",
        "#Features que uso para entrenar el modelo \n",
        "base_features=columnas_entrenamiento\n",
        "pdp_dist = pdp.pdp_isolate(model=clf, dataset=df_X_test, model_features=base_features, feature=feat_name)\n",
        "\n",
        "pdp.pdp_plot(pdp_dist, feat_name)\n",
        "plt.show()"
      ],
      "metadata": {
        "colab": {
          "base_uri": "https://localhost:8080/",
          "height": 647
        },
        "id": "hRW6B482IqG3",
        "outputId": "c2480dfa-26a9-4e8b-bec5-d3538edbf595"
      },
      "execution_count": null,
      "outputs": [
        {
          "output_type": "stream",
          "name": "stderr",
          "text": [
            "findfont: Font family ['Arial'] not found. Falling back to DejaVu Sans.\n",
            "findfont: Font family ['Arial'] not found. Falling back to DejaVu Sans.\n",
            "findfont: Font family ['Arial'] not found. Falling back to DejaVu Sans.\n",
            "findfont: Font family ['Arial'] not found. Falling back to DejaVu Sans.\n"
          ]
        },
        {
          "output_type": "display_data",
          "data": {
            "text/plain": [
              "<Figure size 1080x684 with 2 Axes>"
            ],
            "image/png": "[encoded data removed]"
          },
          "metadata": {
            "needs_background": "light"
          }
        }
      ]
    },
    {
      "cell_type": "markdown",
      "source": [
        "¿Cómo se interpreta el gráfico de arriba? Bueno, en el eje y, tenemos como mejora la performance del modelo vs el valor que adopta el feature 'Total'. El hecho de que aumente tanto, cuando el valor 'Total' pase los 550 significa que esa es una carcterística típica de un pokemon legendario: que la suma total de puntos sea myr a 550. Esto también significaque un pokemon legendario es mucho más fuerte que un pokemon no legendario.\n",
        "\n",
        "Veamos lo siguiente:"
      ],
      "metadata": {
        "id": "P2d9RU1FLByQ"
      }
    },
    {
      "cell_type": "code",
      "source": [
        "# No legendario - 0\n",
        "# Legendario - 1\n",
        "df.groupby('Legendary').Total.mean()"
      ],
      "metadata": {
        "colab": {
          "base_uri": "https://localhost:8080/"
        },
        "id": "WpNosSLgMPOd",
        "outputId": "7162523f-5dac-45a9-e782-725a2c5a4b7e"
      },
      "execution_count": null,
      "outputs": [
        {
          "output_type": "execute_result",
          "data": {
            "text/plain": [
              "Legendary\n",
              "0    403.965152\n",
              "1    623.421053\n",
              "Name: Total, dtype: float64"
            ]
          },
          "metadata": {},
          "execution_count": 311
        }
      ]
    },
    {
      "cell_type": "markdown",
      "source": [
        "El valor promedio de la fuerza de un pokemon Legendario es 623, mucho mayor que el de un pokemon no legendario: 403. En promedio un pokemon legendario es un 30% más fuerte que uno no legendario."
      ],
      "metadata": {
        "id": "FZPWW0ijMkkR"
      }
    },
    {
      "cell_type": "markdown",
      "source": [
        "Entonces, por qué esto no se observa en los gráficos del ejercicio 6?. Por qué los cluster con más pokemones legendarios no son significativamente más fuertes que los cluster con menos pokemones legendario?.\n",
        "Hay dos puntos a observar para responder esto. La primera es la cantidad de pokemones legendarios, veamos cuantos pokemones legendarios y no legendarios hay:"
      ],
      "metadata": {
        "id": "kiOYXK-gNMNb"
      }
    },
    {
      "cell_type": "code",
      "source": [
        "print('Legendarios:')\n",
        "print(df.groupby('Legendary').Legendary.sum())\n",
        "num_leg=df.groupby('Legendary').Legendary.sum()[1]\n",
        "print('No legendarios')\n",
        "print(df.groupby('Legendary').Legendary.count()-df.groupby('Legendary').Legendary.sum())\n",
        "num_noleg=df.groupby('Legendary').Legendary.count()-df.groupby('Legendary').Legendary.sum()\n",
        "porc_leg=num_leg*100/num_noleg[0]\n",
        "print(' porcentaje son legendarios')\n",
        "print(porc_leg)"
      ],
      "metadata": {
        "colab": {
          "base_uri": "https://localhost:8080/"
        },
        "id": "6NIG5bEGNDci",
        "outputId": "ba09286d-3352-4038-83f1-5da84b2f2731"
      },
      "execution_count": null,
      "outputs": [
        {
          "output_type": "stream",
          "name": "stdout",
          "text": [
            "Legendarios:\n",
            "Legendary\n",
            "0     0\n",
            "1    38\n",
            "Name: Legendary, dtype: int64\n",
            "No legendarios\n",
            "Legendary\n",
            "0    660\n",
            "1      0\n",
            "Name: Legendary, dtype: int64\n",
            " porcentaje son legendarios\n",
            "5.757575757575758\n"
          ]
        }
      ]
    },
    {
      "cell_type": "markdown",
      "source": [
        "Hay 38 pokemones legendarios y 660 no legendarios. "
      ],
      "metadata": {
        "id": "JrFM0qsJPueJ"
      }
    },
    {
      "cell_type": "markdown",
      "source": [
        "Solo el 6% de los pokemones son legendarios, no son los suficientes como para que se pueda apreciar el peso del total del atributos en los clusters del ejercicio 6."
      ],
      "metadata": {
        "id": "0Ar7eJnKPo-T"
      }
    }
  ]
}